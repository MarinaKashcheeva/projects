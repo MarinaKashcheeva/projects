{
 "cells": [
  {
   "cell_type": "markdown",
   "metadata": {},
   "source": [
    "# Определение перспективного тарифа для телеком компании"
   ]
  },
  {
   "cell_type": "markdown",
   "metadata": {},
   "source": [
    "Клиентам компании «Мегалайн» — федерального оператора сотовой связи — предлагают два тарифных плана: «Смарт» и «Ультра». Чтобы скорректировать рекламный бюджет, коммерческий департамент хочет понять, какой тариф приносит больше денег.\n",
    "\n",
    "Сделаем предварительный анализ тарифов на небольшой выборке клиентов. В нашем распоряжении данные 500 пользователей «Мегалайна»: кто они, откуда, каким тарифом пользуются, сколько звонков и сообщений каждый отправил за 2018 год. Нужно проанализировать поведение клиентов и сделать вывод: какой тариф лучше."
   ]
  },
  {
   "cell_type": "markdown",
   "metadata": {},
   "source": [
    "### Импорт библиотек"
   ]
  },
  {
   "cell_type": "code",
   "execution_count": 1,
   "metadata": {},
   "outputs": [],
   "source": [
    "import datetime as dt\n",
    "import numpy as np\n",
    "import pandas as pd\n",
    "import matplotlib.pyplot as plt\n",
    "from scipy import stats as st"
   ]
  },
  {
   "cell_type": "markdown",
   "metadata": {},
   "source": [
    "**Содержание**\n",
    "\n",
    "1. [Обзор данных](#start)\n",
    "2. [Предобработка данных](#preprocessing)\n",
    "3. [Дополнительные вычисления](#features)\n",
    "4. [Исследовательский анализ данных](#research)\n",
    "5. [Статистический анализ данных](#stats)\n",
    "6. [Проверка гипотез](#hypotheses)\n",
    "7. [Выводы](#summary)"
   ]
  },
  {
   "cell_type": "markdown",
   "metadata": {},
   "source": [
    "## Обзор данных<a id='start'></a>"
   ]
  },
  {
   "cell_type": "code",
   "execution_count": 2,
   "metadata": {},
   "outputs": [
    {
     "data": {
      "text/html": [
       "<div>\n",
       "<style scoped>\n",
       "    .dataframe tbody tr th:only-of-type {\n",
       "        vertical-align: middle;\n",
       "    }\n",
       "\n",
       "    .dataframe tbody tr th {\n",
       "        vertical-align: top;\n",
       "    }\n",
       "\n",
       "    .dataframe thead th {\n",
       "        text-align: right;\n",
       "    }\n",
       "</style>\n",
       "<table border=\"1\" class=\"dataframe\">\n",
       "  <thead>\n",
       "    <tr style=\"text-align: right;\">\n",
       "      <th></th>\n",
       "      <th>user_id</th>\n",
       "      <th>age</th>\n",
       "      <th>churn_date</th>\n",
       "      <th>city</th>\n",
       "      <th>first_name</th>\n",
       "      <th>last_name</th>\n",
       "      <th>reg_date</th>\n",
       "      <th>tariff</th>\n",
       "    </tr>\n",
       "  </thead>\n",
       "  <tbody>\n",
       "    <tr>\n",
       "      <th>0</th>\n",
       "      <td>1000</td>\n",
       "      <td>52</td>\n",
       "      <td>NaN</td>\n",
       "      <td>Краснодар</td>\n",
       "      <td>Рафаил</td>\n",
       "      <td>Верещагин</td>\n",
       "      <td>2018-05-25</td>\n",
       "      <td>ultra</td>\n",
       "    </tr>\n",
       "    <tr>\n",
       "      <th>1</th>\n",
       "      <td>1001</td>\n",
       "      <td>41</td>\n",
       "      <td>NaN</td>\n",
       "      <td>Москва</td>\n",
       "      <td>Иван</td>\n",
       "      <td>Ежов</td>\n",
       "      <td>2018-11-01</td>\n",
       "      <td>smart</td>\n",
       "    </tr>\n",
       "    <tr>\n",
       "      <th>2</th>\n",
       "      <td>1002</td>\n",
       "      <td>59</td>\n",
       "      <td>NaN</td>\n",
       "      <td>Стерлитамак</td>\n",
       "      <td>Евгений</td>\n",
       "      <td>Абрамович</td>\n",
       "      <td>2018-06-17</td>\n",
       "      <td>smart</td>\n",
       "    </tr>\n",
       "    <tr>\n",
       "      <th>3</th>\n",
       "      <td>1003</td>\n",
       "      <td>23</td>\n",
       "      <td>NaN</td>\n",
       "      <td>Москва</td>\n",
       "      <td>Белла</td>\n",
       "      <td>Белякова</td>\n",
       "      <td>2018-08-17</td>\n",
       "      <td>ultra</td>\n",
       "    </tr>\n",
       "    <tr>\n",
       "      <th>4</th>\n",
       "      <td>1004</td>\n",
       "      <td>68</td>\n",
       "      <td>NaN</td>\n",
       "      <td>Новокузнецк</td>\n",
       "      <td>Татьяна</td>\n",
       "      <td>Авдеенко</td>\n",
       "      <td>2018-05-14</td>\n",
       "      <td>ultra</td>\n",
       "    </tr>\n",
       "  </tbody>\n",
       "</table>\n",
       "</div>"
      ],
      "text/plain": [
       "   user_id  age churn_date         city first_name  last_name    reg_date  \\\n",
       "0     1000   52        NaN    Краснодар     Рафаил  Верещагин  2018-05-25   \n",
       "1     1001   41        NaN       Москва       Иван       Ежов  2018-11-01   \n",
       "2     1002   59        NaN  Стерлитамак    Евгений  Абрамович  2018-06-17   \n",
       "3     1003   23        NaN       Москва      Белла   Белякова  2018-08-17   \n",
       "4     1004   68        NaN  Новокузнецк    Татьяна   Авдеенко  2018-05-14   \n",
       "\n",
       "  tariff  \n",
       "0  ultra  \n",
       "1  smart  \n",
       "2  smart  \n",
       "3  ultra  \n",
       "4  ultra  "
      ]
     },
     "execution_count": 2,
     "metadata": {},
     "output_type": "execute_result"
    }
   ],
   "source": [
    "users = pd.read_csv('telecom_users.csv')\n",
    "users.head()"
   ]
  },
  {
   "cell_type": "markdown",
   "metadata": {},
   "source": [
    "В `users` хранится информация о пользователях: имя, возраст, город проживания. А также об использовании разных тарифов: название тарифа, дата его подключения и дата прекращения пользования тарифом (значение пропущено, если тариф действовал на момент выгрузки данных)."
   ]
  },
  {
   "cell_type": "code",
   "execution_count": 3,
   "metadata": {
    "scrolled": true
   },
   "outputs": [
    {
     "data": {
      "text/html": [
       "<div>\n",
       "<style scoped>\n",
       "    .dataframe tbody tr th:only-of-type {\n",
       "        vertical-align: middle;\n",
       "    }\n",
       "\n",
       "    .dataframe tbody tr th {\n",
       "        vertical-align: top;\n",
       "    }\n",
       "\n",
       "    .dataframe thead th {\n",
       "        text-align: right;\n",
       "    }\n",
       "</style>\n",
       "<table border=\"1\" class=\"dataframe\">\n",
       "  <thead>\n",
       "    <tr style=\"text-align: right;\">\n",
       "      <th></th>\n",
       "      <th>messages_included</th>\n",
       "      <th>mb_per_month_included</th>\n",
       "      <th>minutes_included</th>\n",
       "      <th>rub_monthly_fee</th>\n",
       "      <th>rub_per_gb</th>\n",
       "      <th>rub_per_message</th>\n",
       "      <th>rub_per_minute</th>\n",
       "      <th>tariff_name</th>\n",
       "    </tr>\n",
       "  </thead>\n",
       "  <tbody>\n",
       "    <tr>\n",
       "      <th>0</th>\n",
       "      <td>50</td>\n",
       "      <td>15360</td>\n",
       "      <td>500</td>\n",
       "      <td>550</td>\n",
       "      <td>200</td>\n",
       "      <td>3</td>\n",
       "      <td>3</td>\n",
       "      <td>smart</td>\n",
       "    </tr>\n",
       "    <tr>\n",
       "      <th>1</th>\n",
       "      <td>1000</td>\n",
       "      <td>30720</td>\n",
       "      <td>3000</td>\n",
       "      <td>1950</td>\n",
       "      <td>150</td>\n",
       "      <td>1</td>\n",
       "      <td>1</td>\n",
       "      <td>ultra</td>\n",
       "    </tr>\n",
       "  </tbody>\n",
       "</table>\n",
       "</div>"
      ],
      "text/plain": [
       "   messages_included  mb_per_month_included  minutes_included  \\\n",
       "0                 50                  15360               500   \n",
       "1               1000                  30720              3000   \n",
       "\n",
       "   rub_monthly_fee  rub_per_gb  rub_per_message  rub_per_minute tariff_name  \n",
       "0              550         200                3               3       smart  \n",
       "1             1950         150                1               1       ultra  "
      ]
     },
     "execution_count": 3,
     "metadata": {},
     "output_type": "execute_result"
    }
   ],
   "source": [
    "tariffs = pd.read_csv('telecom_tariffs.csv')\n",
    "tariffs.head()"
   ]
  },
  {
   "cell_type": "markdown",
   "metadata": {},
   "source": [
    "В `tariffs` всего две строчки: информация о каждом из двух тарифов. Абонентская плата, количество включенных минут/сообщений/интернет-трафика, стоимость дополнительных минут/сообщений/интернет-трафика."
   ]
  },
  {
   "cell_type": "code",
   "execution_count": 4,
   "metadata": {},
   "outputs": [
    {
     "data": {
      "text/html": [
       "<div>\n",
       "<style scoped>\n",
       "    .dataframe tbody tr th:only-of-type {\n",
       "        vertical-align: middle;\n",
       "    }\n",
       "\n",
       "    .dataframe tbody tr th {\n",
       "        vertical-align: top;\n",
       "    }\n",
       "\n",
       "    .dataframe thead th {\n",
       "        text-align: right;\n",
       "    }\n",
       "</style>\n",
       "<table border=\"1\" class=\"dataframe\">\n",
       "  <thead>\n",
       "    <tr style=\"text-align: right;\">\n",
       "      <th></th>\n",
       "      <th>id</th>\n",
       "      <th>call_date</th>\n",
       "      <th>duration</th>\n",
       "      <th>user_id</th>\n",
       "    </tr>\n",
       "  </thead>\n",
       "  <tbody>\n",
       "    <tr>\n",
       "      <th>0</th>\n",
       "      <td>1000_0</td>\n",
       "      <td>2018-07-25</td>\n",
       "      <td>0.00</td>\n",
       "      <td>1000</td>\n",
       "    </tr>\n",
       "    <tr>\n",
       "      <th>1</th>\n",
       "      <td>1000_1</td>\n",
       "      <td>2018-08-17</td>\n",
       "      <td>0.00</td>\n",
       "      <td>1000</td>\n",
       "    </tr>\n",
       "    <tr>\n",
       "      <th>2</th>\n",
       "      <td>1000_2</td>\n",
       "      <td>2018-06-11</td>\n",
       "      <td>2.85</td>\n",
       "      <td>1000</td>\n",
       "    </tr>\n",
       "    <tr>\n",
       "      <th>3</th>\n",
       "      <td>1000_3</td>\n",
       "      <td>2018-09-21</td>\n",
       "      <td>13.80</td>\n",
       "      <td>1000</td>\n",
       "    </tr>\n",
       "    <tr>\n",
       "      <th>4</th>\n",
       "      <td>1000_4</td>\n",
       "      <td>2018-12-15</td>\n",
       "      <td>5.18</td>\n",
       "      <td>1000</td>\n",
       "    </tr>\n",
       "  </tbody>\n",
       "</table>\n",
       "</div>"
      ],
      "text/plain": [
       "       id   call_date  duration  user_id\n",
       "0  1000_0  2018-07-25      0.00     1000\n",
       "1  1000_1  2018-08-17      0.00     1000\n",
       "2  1000_2  2018-06-11      2.85     1000\n",
       "3  1000_3  2018-09-21     13.80     1000\n",
       "4  1000_4  2018-12-15      5.18     1000"
      ]
     },
     "execution_count": 4,
     "metadata": {},
     "output_type": "execute_result"
    }
   ],
   "source": [
    "calls = pd.read_csv('telecom_calls.csv')\n",
    "calls.head()"
   ]
  },
  {
   "cell_type": "markdown",
   "metadata": {},
   "source": [
    "В `calls` хранится информация о звонках: для каждого пользователя - даты и длительность его звонков."
   ]
  },
  {
   "cell_type": "code",
   "execution_count": 5,
   "metadata": {},
   "outputs": [
    {
     "data": {
      "text/html": [
       "<div>\n",
       "<style scoped>\n",
       "    .dataframe tbody tr th:only-of-type {\n",
       "        vertical-align: middle;\n",
       "    }\n",
       "\n",
       "    .dataframe tbody tr th {\n",
       "        vertical-align: top;\n",
       "    }\n",
       "\n",
       "    .dataframe thead th {\n",
       "        text-align: right;\n",
       "    }\n",
       "</style>\n",
       "<table border=\"1\" class=\"dataframe\">\n",
       "  <thead>\n",
       "    <tr style=\"text-align: right;\">\n",
       "      <th></th>\n",
       "      <th>id</th>\n",
       "      <th>message_date</th>\n",
       "      <th>user_id</th>\n",
       "    </tr>\n",
       "  </thead>\n",
       "  <tbody>\n",
       "    <tr>\n",
       "      <th>0</th>\n",
       "      <td>1000_0</td>\n",
       "      <td>2018-06-27</td>\n",
       "      <td>1000</td>\n",
       "    </tr>\n",
       "    <tr>\n",
       "      <th>1</th>\n",
       "      <td>1000_1</td>\n",
       "      <td>2018-10-08</td>\n",
       "      <td>1000</td>\n",
       "    </tr>\n",
       "    <tr>\n",
       "      <th>2</th>\n",
       "      <td>1000_2</td>\n",
       "      <td>2018-08-04</td>\n",
       "      <td>1000</td>\n",
       "    </tr>\n",
       "    <tr>\n",
       "      <th>3</th>\n",
       "      <td>1000_3</td>\n",
       "      <td>2018-06-16</td>\n",
       "      <td>1000</td>\n",
       "    </tr>\n",
       "    <tr>\n",
       "      <th>4</th>\n",
       "      <td>1000_4</td>\n",
       "      <td>2018-12-05</td>\n",
       "      <td>1000</td>\n",
       "    </tr>\n",
       "  </tbody>\n",
       "</table>\n",
       "</div>"
      ],
      "text/plain": [
       "       id message_date  user_id\n",
       "0  1000_0   2018-06-27     1000\n",
       "1  1000_1   2018-10-08     1000\n",
       "2  1000_2   2018-08-04     1000\n",
       "3  1000_3   2018-06-16     1000\n",
       "4  1000_4   2018-12-05     1000"
      ]
     },
     "execution_count": 5,
     "metadata": {},
     "output_type": "execute_result"
    }
   ],
   "source": [
    "messages = pd.read_csv('telecom_messages.csv')\n",
    "messages.head()"
   ]
  },
  {
   "cell_type": "markdown",
   "metadata": {},
   "source": [
    "В `messages` хранится информация о SMS, отправленных каждым пользователем (дата отправки)."
   ]
  },
  {
   "cell_type": "code",
   "execution_count": 6,
   "metadata": {},
   "outputs": [
    {
     "data": {
      "text/html": [
       "<div>\n",
       "<style scoped>\n",
       "    .dataframe tbody tr th:only-of-type {\n",
       "        vertical-align: middle;\n",
       "    }\n",
       "\n",
       "    .dataframe tbody tr th {\n",
       "        vertical-align: top;\n",
       "    }\n",
       "\n",
       "    .dataframe thead th {\n",
       "        text-align: right;\n",
       "    }\n",
       "</style>\n",
       "<table border=\"1\" class=\"dataframe\">\n",
       "  <thead>\n",
       "    <tr style=\"text-align: right;\">\n",
       "      <th></th>\n",
       "      <th>id</th>\n",
       "      <th>mb_used</th>\n",
       "      <th>session_date</th>\n",
       "      <th>user_id</th>\n",
       "    </tr>\n",
       "  </thead>\n",
       "  <tbody>\n",
       "    <tr>\n",
       "      <th>0</th>\n",
       "      <td>1000_0</td>\n",
       "      <td>112.95</td>\n",
       "      <td>2018-11-25</td>\n",
       "      <td>1000</td>\n",
       "    </tr>\n",
       "    <tr>\n",
       "      <th>1</th>\n",
       "      <td>1000_1</td>\n",
       "      <td>1052.81</td>\n",
       "      <td>2018-09-07</td>\n",
       "      <td>1000</td>\n",
       "    </tr>\n",
       "    <tr>\n",
       "      <th>2</th>\n",
       "      <td>1000_2</td>\n",
       "      <td>1197.26</td>\n",
       "      <td>2018-06-25</td>\n",
       "      <td>1000</td>\n",
       "    </tr>\n",
       "    <tr>\n",
       "      <th>3</th>\n",
       "      <td>1000_3</td>\n",
       "      <td>550.27</td>\n",
       "      <td>2018-08-22</td>\n",
       "      <td>1000</td>\n",
       "    </tr>\n",
       "    <tr>\n",
       "      <th>4</th>\n",
       "      <td>1000_4</td>\n",
       "      <td>302.56</td>\n",
       "      <td>2018-09-24</td>\n",
       "      <td>1000</td>\n",
       "    </tr>\n",
       "  </tbody>\n",
       "</table>\n",
       "</div>"
      ],
      "text/plain": [
       "       id  mb_used session_date  user_id\n",
       "0  1000_0   112.95   2018-11-25     1000\n",
       "1  1000_1  1052.81   2018-09-07     1000\n",
       "2  1000_2  1197.26   2018-06-25     1000\n",
       "3  1000_3   550.27   2018-08-22     1000\n",
       "4  1000_4   302.56   2018-09-24     1000"
      ]
     },
     "execution_count": 6,
     "metadata": {},
     "output_type": "execute_result"
    }
   ],
   "source": [
    "internet = pd.read_csv('telecom_internet.csv', index_col = 0)\n",
    "internet.head()"
   ]
  },
  {
   "cell_type": "markdown",
   "metadata": {},
   "source": [
    "В `internet` хранится информация об использовании интернет-трафика: даты сессий и объемы потраченного интернет-трафика."
   ]
  },
  {
   "cell_type": "markdown",
   "metadata": {},
   "source": [
    "## Предобработка данных<a id = 'preprocessing'></a>"
   ]
  },
  {
   "cell_type": "markdown",
   "metadata": {},
   "source": [
    "Проверим типы данных и выясним, как обстоят дела с пропусками."
   ]
  },
  {
   "cell_type": "markdown",
   "metadata": {},
   "source": [
    "### Users"
   ]
  },
  {
   "cell_type": "code",
   "execution_count": 7,
   "metadata": {},
   "outputs": [
    {
     "name": "stdout",
     "output_type": "stream",
     "text": [
      "<class 'pandas.core.frame.DataFrame'>\n",
      "RangeIndex: 500 entries, 0 to 499\n",
      "Data columns (total 8 columns):\n",
      " #   Column      Non-Null Count  Dtype \n",
      "---  ------      --------------  ----- \n",
      " 0   user_id     500 non-null    int64 \n",
      " 1   age         500 non-null    int64 \n",
      " 2   churn_date  38 non-null     object\n",
      " 3   city        500 non-null    object\n",
      " 4   first_name  500 non-null    object\n",
      " 5   last_name   500 non-null    object\n",
      " 6   reg_date    500 non-null    object\n",
      " 7   tariff      500 non-null    object\n",
      "dtypes: int64(2), object(6)\n",
      "memory usage: 31.4+ KB\n"
     ]
    }
   ],
   "source": [
    "users.info()"
   ]
  },
  {
   "cell_type": "markdown",
   "metadata": {},
   "source": [
    "Даты лучше привести к формату datetime:"
   ]
  },
  {
   "cell_type": "code",
   "execution_count": 8,
   "metadata": {},
   "outputs": [
    {
     "name": "stdout",
     "output_type": "stream",
     "text": [
      "<class 'pandas.core.frame.DataFrame'>\n",
      "RangeIndex: 500 entries, 0 to 499\n",
      "Data columns (total 8 columns):\n",
      " #   Column      Non-Null Count  Dtype         \n",
      "---  ------      --------------  -----         \n",
      " 0   user_id     500 non-null    int64         \n",
      " 1   age         500 non-null    int64         \n",
      " 2   churn_date  38 non-null     datetime64[ns]\n",
      " 3   city        500 non-null    object        \n",
      " 4   first_name  500 non-null    object        \n",
      " 5   last_name   500 non-null    object        \n",
      " 6   reg_date    500 non-null    datetime64[ns]\n",
      " 7   tariff      500 non-null    object        \n",
      "dtypes: datetime64[ns](2), int64(2), object(4)\n",
      "memory usage: 31.4+ KB\n"
     ]
    }
   ],
   "source": [
    "users['churn_date'] = pd.to_datetime(users['churn_date'], format = '%Y-%m-%d')\n",
    "users['reg_date'] = pd.to_datetime(users['reg_date'], format = '%Y-%m-%d')\n",
    "users.info()"
   ]
  },
  {
   "cell_type": "markdown",
   "metadata": {},
   "source": [
    "В столбце `churn_date` для подавляющего большинства клиентов значения отсутствуют. Это значит, что на момент выгрузки данных большинство клиентов еще пользовались выбранным тарифом."
   ]
  },
  {
   "cell_type": "code",
   "execution_count": 9,
   "metadata": {},
   "outputs": [
    {
     "data": {
      "text/plain": [
       "500"
      ]
     },
     "execution_count": 9,
     "metadata": {},
     "output_type": "execute_result"
    }
   ],
   "source": [
    "users.user_id.nunique()"
   ]
  },
  {
   "cell_type": "markdown",
   "metadata": {},
   "source": [
    "Все значения в столбце `user_id` уникальны: значит, каждому пользователю соответствует один тариф. Но данных по отказам от тарифов слишком мало, чтобы делать какие-то выводы на их основе."
   ]
  },
  {
   "cell_type": "markdown",
   "metadata": {},
   "source": [
    "### Calls"
   ]
  },
  {
   "cell_type": "code",
   "execution_count": 10,
   "metadata": {},
   "outputs": [
    {
     "name": "stdout",
     "output_type": "stream",
     "text": [
      "<class 'pandas.core.frame.DataFrame'>\n",
      "RangeIndex: 202607 entries, 0 to 202606\n",
      "Data columns (total 4 columns):\n",
      " #   Column     Non-Null Count   Dtype  \n",
      "---  ------     --------------   -----  \n",
      " 0   id         202607 non-null  object \n",
      " 1   call_date  202607 non-null  object \n",
      " 2   duration   202607 non-null  float64\n",
      " 3   user_id    202607 non-null  int64  \n",
      "dtypes: float64(1), int64(1), object(2)\n",
      "memory usage: 6.2+ MB\n"
     ]
    }
   ],
   "source": [
    "calls.info()"
   ]
  },
  {
   "cell_type": "code",
   "execution_count": 11,
   "metadata": {},
   "outputs": [
    {
     "name": "stdout",
     "output_type": "stream",
     "text": [
      "<class 'pandas.core.frame.DataFrame'>\n",
      "RangeIndex: 202607 entries, 0 to 202606\n",
      "Data columns (total 4 columns):\n",
      " #   Column     Non-Null Count   Dtype         \n",
      "---  ------     --------------   -----         \n",
      " 0   id         202607 non-null  object        \n",
      " 1   call_date  202607 non-null  datetime64[ns]\n",
      " 2   duration   202607 non-null  float64       \n",
      " 3   user_id    202607 non-null  int64         \n",
      "dtypes: datetime64[ns](1), float64(1), int64(1), object(1)\n",
      "memory usage: 6.2+ MB\n"
     ]
    }
   ],
   "source": [
    "#приведем даты к формату datetime:\n",
    "calls['call_date'] = pd.to_datetime(calls['call_date'], format = '%Y-%m-%d')\n",
    "calls.info()"
   ]
  },
  {
   "cell_type": "markdown",
   "metadata": {},
   "source": [
    "### Messages"
   ]
  },
  {
   "cell_type": "code",
   "execution_count": 12,
   "metadata": {},
   "outputs": [
    {
     "name": "stdout",
     "output_type": "stream",
     "text": [
      "<class 'pandas.core.frame.DataFrame'>\n",
      "RangeIndex: 123036 entries, 0 to 123035\n",
      "Data columns (total 3 columns):\n",
      " #   Column        Non-Null Count   Dtype \n",
      "---  ------        --------------   ----- \n",
      " 0   id            123036 non-null  object\n",
      " 1   message_date  123036 non-null  object\n",
      " 2   user_id       123036 non-null  int64 \n",
      "dtypes: int64(1), object(2)\n",
      "memory usage: 2.8+ MB\n"
     ]
    }
   ],
   "source": [
    "messages.info()"
   ]
  },
  {
   "cell_type": "code",
   "execution_count": 13,
   "metadata": {},
   "outputs": [
    {
     "name": "stdout",
     "output_type": "stream",
     "text": [
      "<class 'pandas.core.frame.DataFrame'>\n",
      "RangeIndex: 123036 entries, 0 to 123035\n",
      "Data columns (total 3 columns):\n",
      " #   Column        Non-Null Count   Dtype         \n",
      "---  ------        --------------   -----         \n",
      " 0   id            123036 non-null  object        \n",
      " 1   message_date  123036 non-null  datetime64[ns]\n",
      " 2   user_id       123036 non-null  int64         \n",
      "dtypes: datetime64[ns](1), int64(1), object(1)\n",
      "memory usage: 2.8+ MB\n"
     ]
    }
   ],
   "source": [
    "#приведем даты к формату datetime:\n",
    "messages['message_date'] = pd.to_datetime(messages['message_date'], format = '%Y-%m-%d')\n",
    "messages.info()"
   ]
  },
  {
   "cell_type": "markdown",
   "metadata": {},
   "source": [
    "### Internet"
   ]
  },
  {
   "cell_type": "code",
   "execution_count": 14,
   "metadata": {},
   "outputs": [
    {
     "name": "stdout",
     "output_type": "stream",
     "text": [
      "<class 'pandas.core.frame.DataFrame'>\n",
      "Int64Index: 149396 entries, 0 to 149395\n",
      "Data columns (total 4 columns):\n",
      " #   Column        Non-Null Count   Dtype  \n",
      "---  ------        --------------   -----  \n",
      " 0   id            149396 non-null  object \n",
      " 1   mb_used       149396 non-null  float64\n",
      " 2   session_date  149396 non-null  object \n",
      " 3   user_id       149396 non-null  int64  \n",
      "dtypes: float64(1), int64(1), object(2)\n",
      "memory usage: 5.7+ MB\n"
     ]
    }
   ],
   "source": [
    "internet.info()"
   ]
  },
  {
   "cell_type": "code",
   "execution_count": 15,
   "metadata": {},
   "outputs": [
    {
     "name": "stdout",
     "output_type": "stream",
     "text": [
      "<class 'pandas.core.frame.DataFrame'>\n",
      "Int64Index: 149396 entries, 0 to 149395\n",
      "Data columns (total 4 columns):\n",
      " #   Column        Non-Null Count   Dtype         \n",
      "---  ------        --------------   -----         \n",
      " 0   id            149396 non-null  object        \n",
      " 1   mb_used       149396 non-null  float64       \n",
      " 2   session_date  149396 non-null  datetime64[ns]\n",
      " 3   user_id       149396 non-null  int64         \n",
      "dtypes: datetime64[ns](1), float64(1), int64(1), object(1)\n",
      "memory usage: 5.7+ MB\n"
     ]
    }
   ],
   "source": [
    "#приведем даты к формату datetime:\n",
    "internet['session_date'] = pd.to_datetime(internet['session_date'], format = '%Y-%m-%d')\n",
    "internet.info()"
   ]
  },
  {
   "cell_type": "markdown",
   "metadata": {},
   "source": [
    "Проверим, нет ли в данных ошибок и аномальных значений."
   ]
  },
  {
   "cell_type": "markdown",
   "metadata": {},
   "source": [
    "### Users"
   ]
  },
  {
   "cell_type": "code",
   "execution_count": 16,
   "metadata": {},
   "outputs": [
    {
     "data": {
      "text/plain": [
       "count    500.00000\n",
       "mean      46.58800\n",
       "std       16.66763\n",
       "min       18.00000\n",
       "25%       32.00000\n",
       "50%       46.00000\n",
       "75%       62.00000\n",
       "max       75.00000\n",
       "Name: age, dtype: float64"
      ]
     },
     "execution_count": 16,
     "metadata": {},
     "output_type": "execute_result"
    }
   ],
   "source": [
    "users.age.describe()"
   ]
  },
  {
   "cell_type": "code",
   "execution_count": 17,
   "metadata": {},
   "outputs": [
    {
     "data": {
      "text/plain": [
       "smart    0.702\n",
       "ultra    0.298\n",
       "Name: tariff, dtype: float64"
      ]
     },
     "execution_count": 17,
     "metadata": {},
     "output_type": "execute_result"
    }
   ],
   "source": [
    "users.tariff.value_counts(normalize = True)"
   ]
  },
  {
   "cell_type": "code",
   "execution_count": 18,
   "metadata": {},
   "outputs": [
    {
     "data": {
      "text/plain": [
       "count                     500\n",
       "unique                    270\n",
       "top       2018-05-28 00:00:00\n",
       "freq                        8\n",
       "first     2018-01-01 00:00:00\n",
       "last      2018-12-31 00:00:00\n",
       "Name: reg_date, dtype: object"
      ]
     },
     "execution_count": 18,
     "metadata": {},
     "output_type": "execute_result"
    }
   ],
   "source": [
    "users.reg_date.describe()"
   ]
  },
  {
   "cell_type": "markdown",
   "metadata": {},
   "source": [
    "В датасете `users` все выглядит нормально. \n",
    "- Средний возраст нашей выборки из 500 клиентов - 46 лет. \n",
    "- Тариф smart пользуется большей популярностью, чем ultra. \n",
    "- В выгрузке содержатся данные за 2018 год."
   ]
  },
  {
   "cell_type": "markdown",
   "metadata": {},
   "source": [
    "### Calls"
   ]
  },
  {
   "cell_type": "code",
   "execution_count": 19,
   "metadata": {},
   "outputs": [
    {
     "data": {
      "text/plain": [
       "count                  202607\n",
       "unique                    365\n",
       "top       2018-12-31 00:00:00\n",
       "freq                     1435\n",
       "first     2018-01-01 00:00:00\n",
       "last      2018-12-31 00:00:00\n",
       "Name: call_date, dtype: object"
      ]
     },
     "execution_count": 19,
     "metadata": {},
     "output_type": "execute_result"
    }
   ],
   "source": [
    "calls.call_date.describe()"
   ]
  },
  {
   "cell_type": "markdown",
   "metadata": {},
   "source": [
    "31 декабря 2018 года было совершено почти 1.5 тысячи звонков: примерно по 3 на каждого из 500 пользователей в нашей выборке. Но это вполне объяснимо: клиенты \"Мегалайна\" поздравляли своих родных и близких с праздником. В этот день выгодный тариф важен как никогда!"
   ]
  },
  {
   "cell_type": "code",
   "execution_count": 20,
   "metadata": {},
   "outputs": [
    {
     "data": {
      "image/png": "[encoded data removed]",
      "text/plain": [
       "<Figure size 432x288 with 1 Axes>"
      ]
     },
     "metadata": {
      "needs_background": "light"
     },
     "output_type": "display_data"
    }
   ],
   "source": [
    "calls.duration.hist(density = True, bins = 80)\n",
    "plt.title('Гистограмма плотностей для длительности звонков')\n",
    "plt.xlabel('Длительность звонков')\n",
    "plt.ylabel('Плотность вероятности');"
   ]
  },
  {
   "cell_type": "code",
   "execution_count": 21,
   "metadata": {},
   "outputs": [
    {
     "data": {
      "text/plain": [
       "0.00    0.195516\n",
       "4.49    0.000701\n",
       "5.50    0.000701\n",
       "6.15    0.000696\n",
       "6.38    0.000696\n",
       "Name: duration, dtype: float64"
      ]
     },
     "execution_count": 21,
     "metadata": {},
     "output_type": "execute_result"
    }
   ],
   "source": [
    "calls.duration.value_counts(normalize = True).head()"
   ]
  },
  {
   "cell_type": "markdown",
   "metadata": {},
   "source": [
    "Почти 20% всех звонков имеют длительность 0 сек. Cкорее всего, это те случаи, когда была попытка установить соединение, но абонент не ответил или сбросил вызов. \n",
    "\n",
    "Мы знаем, что «Мегалайн» всегда округляет вверх значения минут и мегабайтов. Если пользователь проговорил всего 1 секунду, в тарифе засчитывается целая минута. Так что недозвоны нам не интересны: в этих случаях минуты, включенные в тариф, не расходуются. \n",
    "\n",
    "Значит, мы ничего не потеряем, если удалим такие строки - пустышки:"
   ]
  },
  {
   "cell_type": "code",
   "execution_count": 22,
   "metadata": {},
   "outputs": [],
   "source": [
    "calls = calls.drop(calls[calls['duration'] == 0].index)"
   ]
  },
  {
   "cell_type": "code",
   "execution_count": 23,
   "metadata": {},
   "outputs": [
    {
     "data": {
      "image/png": "[encoded data removed]",
      "text/plain": [
       "<Figure size 432x288 with 1 Axes>"
      ]
     },
     "metadata": {
      "needs_background": "light"
     },
     "output_type": "display_data"
    }
   ],
   "source": [
    "calls.duration.hist(density = True, bins = 80)\n",
    "plt.title('Гистограмма плотностей для длительности звонков')\n",
    "plt.xlabel('Длительность звонков')\n",
    "plt.ylabel('Плотность вероятности');"
   ]
  },
  {
   "cell_type": "code",
   "execution_count": 24,
   "metadata": {},
   "outputs": [
    {
     "data": {
      "text/plain": [
       "count    162994.000000\n",
       "mean          8.397794\n",
       "std           5.353022\n",
       "min           0.010000\n",
       "25%           4.170000\n",
       "50%           7.740000\n",
       "75%          11.850000\n",
       "max          38.000000\n",
       "Name: duration, dtype: float64"
      ]
     },
     "execution_count": 24,
     "metadata": {},
     "output_type": "execute_result"
    }
   ],
   "source": [
    "calls.duration.describe()"
   ]
  },
  {
   "cell_type": "markdown",
   "metadata": {},
   "source": [
    "Абоненты \"Мегалайна\" довольно много разговаривают по телефону: средняя длительность звонка - около 8 минут."
   ]
  },
  {
   "cell_type": "markdown",
   "metadata": {},
   "source": [
    "### Internet"
   ]
  },
  {
   "cell_type": "code",
   "execution_count": 25,
   "metadata": {},
   "outputs": [
    {
     "data": {
      "text/plain": [
       "count    149396.000000\n",
       "mean        370.192426\n",
       "std         278.300951\n",
       "min           0.000000\n",
       "25%         138.187500\n",
       "50%         348.015000\n",
       "75%         559.552500\n",
       "max        1724.830000\n",
       "Name: mb_used, dtype: float64"
      ]
     },
     "execution_count": 25,
     "metadata": {},
     "output_type": "execute_result"
    }
   ],
   "source": [
    "internet.mb_used.describe()"
   ]
  },
  {
   "cell_type": "code",
   "execution_count": 26,
   "metadata": {},
   "outputs": [
    {
     "data": {
      "text/plain": [
       "0.00      0.131182\n",
       "197.56    0.000060\n",
       "447.30    0.000060\n",
       "335.91    0.000060\n",
       "108.95    0.000054\n",
       "Name: mb_used, dtype: float64"
      ]
     },
     "execution_count": 26,
     "metadata": {},
     "output_type": "execute_result"
    }
   ],
   "source": [
    "internet.mb_used.value_counts(normalize = True).head()"
   ]
  },
  {
   "cell_type": "markdown",
   "metadata": {},
   "source": [
    "В столбце с интернет-трафиком 13% значений равны нулю. Но причина появления нулей в этом случае непонятна."
   ]
  },
  {
   "cell_type": "code",
   "execution_count": 27,
   "metadata": {},
   "outputs": [
    {
     "data": {
      "text/html": [
       "<div>\n",
       "<style scoped>\n",
       "    .dataframe tbody tr th:only-of-type {\n",
       "        vertical-align: middle;\n",
       "    }\n",
       "\n",
       "    .dataframe tbody tr th {\n",
       "        vertical-align: top;\n",
       "    }\n",
       "\n",
       "    .dataframe thead th {\n",
       "        text-align: right;\n",
       "    }\n",
       "</style>\n",
       "<table border=\"1\" class=\"dataframe\">\n",
       "  <thead>\n",
       "    <tr style=\"text-align: right;\">\n",
       "      <th>mb_used</th>\n",
       "      <th>user_id</th>\n",
       "      <th>False</th>\n",
       "      <th>True</th>\n",
       "    </tr>\n",
       "  </thead>\n",
       "  <tbody>\n",
       "    <tr>\n",
       "      <th>0</th>\n",
       "      <td>1000</td>\n",
       "      <td>197.0</td>\n",
       "      <td>14.0</td>\n",
       "    </tr>\n",
       "    <tr>\n",
       "      <th>1</th>\n",
       "      <td>1001</td>\n",
       "      <td>82.0</td>\n",
       "      <td>14.0</td>\n",
       "    </tr>\n",
       "    <tr>\n",
       "      <th>2</th>\n",
       "      <td>1002</td>\n",
       "      <td>297.0</td>\n",
       "      <td>72.0</td>\n",
       "    </tr>\n",
       "    <tr>\n",
       "      <th>3</th>\n",
       "      <td>1003</td>\n",
       "      <td>102.0</td>\n",
       "      <td>2.0</td>\n",
       "    </tr>\n",
       "    <tr>\n",
       "      <th>4</th>\n",
       "      <td>1004</td>\n",
       "      <td>278.0</td>\n",
       "      <td>22.0</td>\n",
       "    </tr>\n",
       "    <tr>\n",
       "      <th>...</th>\n",
       "      <td>...</td>\n",
       "      <td>...</td>\n",
       "      <td>...</td>\n",
       "    </tr>\n",
       "    <tr>\n",
       "      <th>492</th>\n",
       "      <td>1495</td>\n",
       "      <td>244.0</td>\n",
       "      <td>10.0</td>\n",
       "    </tr>\n",
       "    <tr>\n",
       "      <th>493</th>\n",
       "      <td>1496</td>\n",
       "      <td>693.0</td>\n",
       "      <td>141.0</td>\n",
       "    </tr>\n",
       "    <tr>\n",
       "      <th>494</th>\n",
       "      <td>1497</td>\n",
       "      <td>105.0</td>\n",
       "      <td>16.0</td>\n",
       "    </tr>\n",
       "    <tr>\n",
       "      <th>495</th>\n",
       "      <td>1498</td>\n",
       "      <td>191.0</td>\n",
       "      <td>41.0</td>\n",
       "    </tr>\n",
       "    <tr>\n",
       "      <th>496</th>\n",
       "      <td>1499</td>\n",
       "      <td>126.0</td>\n",
       "      <td>31.0</td>\n",
       "    </tr>\n",
       "  </tbody>\n",
       "</table>\n",
       "<p>497 rows × 3 columns</p>\n",
       "</div>"
      ],
      "text/plain": [
       "mb_used  user_id  False   True\n",
       "0           1000  197.0   14.0\n",
       "1           1001   82.0   14.0\n",
       "2           1002  297.0   72.0\n",
       "3           1003  102.0    2.0\n",
       "4           1004  278.0   22.0\n",
       "..           ...    ...    ...\n",
       "492         1495  244.0   10.0\n",
       "493         1496  693.0  141.0\n",
       "494         1497  105.0   16.0\n",
       "495         1498  191.0   41.0\n",
       "496         1499  126.0   31.0\n",
       "\n",
       "[497 rows x 3 columns]"
      ]
     },
     "execution_count": 27,
     "metadata": {},
     "output_type": "execute_result"
    }
   ],
   "source": [
    "internet.groupby(['user_id', internet.mb_used == 0]).mb_used.count().unstack(level = 1).reset_index()"
   ]
  },
  {
   "cell_type": "markdown",
   "metadata": {},
   "source": [
    "Нулевые значения объема интернет-трафика встречаются почти у всех пользователей. Какую-то закономерность проследить не удается. В любом случае, нулевые значения не несут для нас полезной информации, как и в случае с недозвонами. Поэтому избавимся от них:"
   ]
  },
  {
   "cell_type": "code",
   "execution_count": 28,
   "metadata": {},
   "outputs": [],
   "source": [
    "internet = internet.drop(internet[internet.mb_used == 0].index)"
   ]
  },
  {
   "cell_type": "code",
   "execution_count": 29,
   "metadata": {
    "scrolled": true
   },
   "outputs": [
    {
     "data": {
      "image/png": "[encoded data removed]",
      "text/plain": [
       "<Figure size 432x288 with 1 Axes>"
      ]
     },
     "metadata": {
      "needs_background": "light"
     },
     "output_type": "display_data"
    }
   ],
   "source": [
    "internet.mb_used.hist(density = True, bins = 90)\n",
    "plt.title('Гистограмма плотностей для интернет-трафика')\n",
    "plt.xlabel('Объем интернет-трафика за сессию, Мб')\n",
    "plt.ylabel('Плотность вероятности');"
   ]
  },
  {
   "cell_type": "markdown",
   "metadata": {},
   "source": [
    "### Распределение по времени"
   ]
  },
  {
   "cell_type": "code",
   "execution_count": 30,
   "metadata": {},
   "outputs": [
    {
     "data": {
      "image/png": "[encoded data removed]",
      "text/plain": [
       "<Figure size 432x288 with 1 Axes>"
      ]
     },
     "metadata": {
      "needs_background": "light"
     },
     "output_type": "display_data"
    }
   ],
   "source": [
    "users.groupby('reg_date').user_id.nunique().plot()\n",
    "plt.title('Динамика подключений')\n",
    "plt.xlabel('Дата подключения')\n",
    "plt.ylabel('Количество подключений');"
   ]
  },
  {
   "cell_type": "code",
   "execution_count": 31,
   "metadata": {},
   "outputs": [
    {
     "data": {
      "image/png": "[encoded data removed]",
      "text/plain": [
       "<Figure size 432x288 with 1 Axes>"
      ]
     },
     "metadata": {
      "needs_background": "light"
     },
     "output_type": "display_data"
    }
   ],
   "source": [
    "calls.groupby('call_date').user_id.nunique().plot()\n",
    "plt.title('Динамика активных абонентов')\n",
    "plt.xlabel('Дата')\n",
    "plt.ylabel('Количество активных абонентов');"
   ]
  },
  {
   "cell_type": "markdown",
   "metadata": {},
   "source": [
    "В датасетах содержатся данные о пользователях, которые подключались к тарифам в течение 2018 года. Подключения происходили довольно равномерно, количество пользователей в выборке увеличивалось от месяца к месяцу."
   ]
  },
  {
   "cell_type": "markdown",
   "metadata": {},
   "source": [
    "Итак, мы привели данные к типам, удобным для дальнейшей работы, и избавились от аномальных значений."
   ]
  },
  {
   "cell_type": "markdown",
   "metadata": {},
   "source": [
    "## Дополнительные вычисления<a id = 'features'></a>"
   ]
  },
  {
   "cell_type": "markdown",
   "metadata": {},
   "source": [
    "Нас будут интересовать не отдельные события (звонки, отправки SMS, интернет-сессии), а агрегированные данные по пользователям: насколько активно они пользуются связью и какой тариф выгоднее для \"Мегалайна\".\n",
    "\n",
    "Абонентская плата списывается ежемесячно, причем месяц отсчитывается не по календарю, а с момента подключения тарифа. Поэтому будем агрегировать данные по периоду 30 дней.\n",
    "\n",
    "Для этого нужно найти для каждого клиента период пользования тарифным планом. \n",
    "\n",
    "Для 38 пользователей, которые отказались от тарифа, это будет разность двух дат: даты прекращения пользования тарифом и даты подключения. Для остальных заполним пропуски в столбце `churn_date` датой выгрузки (31.12.2018) и найдем разность между этой датой и датой подключения тарифа. Таким образом, найдем количество дней пользования тарифом для каждого пользователя, в рамках 2018 года.\n",
    "\n",
    "На всякий случай сохраним информацию об оттоке пользователей в новом столбце `churn`:"
   ]
  },
  {
   "cell_type": "code",
   "execution_count": 32,
   "metadata": {},
   "outputs": [],
   "source": [
    "users['churn'] = ~users.churn_date.isna()"
   ]
  },
  {
   "cell_type": "code",
   "execution_count": 33,
   "metadata": {},
   "outputs": [
    {
     "data": {
      "text/plain": [
       "False    462\n",
       "True      38\n",
       "Name: churn, dtype: int64"
      ]
     },
     "execution_count": 33,
     "metadata": {},
     "output_type": "execute_result"
    }
   ],
   "source": [
    "users.churn.value_counts()"
   ]
  },
  {
   "cell_type": "code",
   "execution_count": 34,
   "metadata": {},
   "outputs": [],
   "source": [
    "last_date = users.reg_date.max() + dt.timedelta(days = 1)"
   ]
  },
  {
   "cell_type": "code",
   "execution_count": 35,
   "metadata": {},
   "outputs": [],
   "source": [
    "users.churn_date = users.churn_date.fillna(last_date)"
   ]
  },
  {
   "cell_type": "code",
   "execution_count": 36,
   "metadata": {},
   "outputs": [
    {
     "data": {
      "text/plain": [
       "2019-01-01    462\n",
       "2018-12-21      2\n",
       "2018-12-09      2\n",
       "2018-10-14      2\n",
       "2018-12-03      2\n",
       "2018-10-03      2\n",
       "2018-12-18      1\n",
       "Name: churn_date, dtype: int64"
      ]
     },
     "execution_count": 36,
     "metadata": {},
     "output_type": "execute_result"
    }
   ],
   "source": [
    "users.churn_date.value_counts().head(7)"
   ]
  },
  {
   "cell_type": "code",
   "execution_count": 37,
   "metadata": {},
   "outputs": [],
   "source": [
    "users['days'] = (users['churn_date'] - users['reg_date']).dt.days"
   ]
  },
  {
   "cell_type": "code",
   "execution_count": 38,
   "metadata": {},
   "outputs": [
    {
     "data": {
      "text/html": [
       "<div>\n",
       "<style scoped>\n",
       "    .dataframe tbody tr th:only-of-type {\n",
       "        vertical-align: middle;\n",
       "    }\n",
       "\n",
       "    .dataframe tbody tr th {\n",
       "        vertical-align: top;\n",
       "    }\n",
       "\n",
       "    .dataframe thead th {\n",
       "        text-align: right;\n",
       "    }\n",
       "</style>\n",
       "<table border=\"1\" class=\"dataframe\">\n",
       "  <thead>\n",
       "    <tr style=\"text-align: right;\">\n",
       "      <th></th>\n",
       "      <th>user_id</th>\n",
       "      <th>age</th>\n",
       "      <th>churn_date</th>\n",
       "      <th>city</th>\n",
       "      <th>first_name</th>\n",
       "      <th>last_name</th>\n",
       "      <th>reg_date</th>\n",
       "      <th>tariff</th>\n",
       "      <th>churn</th>\n",
       "      <th>days</th>\n",
       "    </tr>\n",
       "  </thead>\n",
       "  <tbody>\n",
       "    <tr>\n",
       "      <th>0</th>\n",
       "      <td>1000</td>\n",
       "      <td>52</td>\n",
       "      <td>2019-01-01</td>\n",
       "      <td>Краснодар</td>\n",
       "      <td>Рафаил</td>\n",
       "      <td>Верещагин</td>\n",
       "      <td>2018-05-25</td>\n",
       "      <td>ultra</td>\n",
       "      <td>False</td>\n",
       "      <td>221</td>\n",
       "    </tr>\n",
       "    <tr>\n",
       "      <th>1</th>\n",
       "      <td>1001</td>\n",
       "      <td>41</td>\n",
       "      <td>2019-01-01</td>\n",
       "      <td>Москва</td>\n",
       "      <td>Иван</td>\n",
       "      <td>Ежов</td>\n",
       "      <td>2018-11-01</td>\n",
       "      <td>smart</td>\n",
       "      <td>False</td>\n",
       "      <td>61</td>\n",
       "    </tr>\n",
       "    <tr>\n",
       "      <th>2</th>\n",
       "      <td>1002</td>\n",
       "      <td>59</td>\n",
       "      <td>2019-01-01</td>\n",
       "      <td>Стерлитамак</td>\n",
       "      <td>Евгений</td>\n",
       "      <td>Абрамович</td>\n",
       "      <td>2018-06-17</td>\n",
       "      <td>smart</td>\n",
       "      <td>False</td>\n",
       "      <td>198</td>\n",
       "    </tr>\n",
       "    <tr>\n",
       "      <th>3</th>\n",
       "      <td>1003</td>\n",
       "      <td>23</td>\n",
       "      <td>2019-01-01</td>\n",
       "      <td>Москва</td>\n",
       "      <td>Белла</td>\n",
       "      <td>Белякова</td>\n",
       "      <td>2018-08-17</td>\n",
       "      <td>ultra</td>\n",
       "      <td>False</td>\n",
       "      <td>137</td>\n",
       "    </tr>\n",
       "    <tr>\n",
       "      <th>4</th>\n",
       "      <td>1004</td>\n",
       "      <td>68</td>\n",
       "      <td>2019-01-01</td>\n",
       "      <td>Новокузнецк</td>\n",
       "      <td>Татьяна</td>\n",
       "      <td>Авдеенко</td>\n",
       "      <td>2018-05-14</td>\n",
       "      <td>ultra</td>\n",
       "      <td>False</td>\n",
       "      <td>232</td>\n",
       "    </tr>\n",
       "  </tbody>\n",
       "</table>\n",
       "</div>"
      ],
      "text/plain": [
       "   user_id  age churn_date         city first_name  last_name   reg_date  \\\n",
       "0     1000   52 2019-01-01    Краснодар     Рафаил  Верещагин 2018-05-25   \n",
       "1     1001   41 2019-01-01       Москва       Иван       Ежов 2018-11-01   \n",
       "2     1002   59 2019-01-01  Стерлитамак    Евгений  Абрамович 2018-06-17   \n",
       "3     1003   23 2019-01-01       Москва      Белла   Белякова 2018-08-17   \n",
       "4     1004   68 2019-01-01  Новокузнецк    Татьяна   Авдеенко 2018-05-14   \n",
       "\n",
       "  tariff  churn  days  \n",
       "0  ultra  False   221  \n",
       "1  smart  False    61  \n",
       "2  smart  False   198  \n",
       "3  ultra  False   137  \n",
       "4  ultra  False   232  "
      ]
     },
     "execution_count": 38,
     "metadata": {},
     "output_type": "execute_result"
    }
   ],
   "source": [
    "users.head()"
   ]
  },
  {
   "cell_type": "markdown",
   "metadata": {},
   "source": [
    "Итак, мы вычислили для каждого пользователя период пользования тарифом. Теперь мы сможем усреднить все показатели по времени, чтобы высчитать среднюю ежемесячную выручку с пользователей разных тарифных планов."
   ]
  },
  {
   "cell_type": "markdown",
   "metadata": {},
   "source": [
    "Важно учесть еще один момент: в \"Мегалайне\" минуты и мегабайты округляются в большую сторону. Если пользователь поговорил всего 5 секунд - будет посчитана 1 минута. Поэтому нужно округлить время каждого разговора и трафик каждой интернет-сессии в большую сторону."
   ]
  },
  {
   "cell_type": "code",
   "execution_count": 39,
   "metadata": {},
   "outputs": [
    {
     "data": {
      "text/html": [
       "<div>\n",
       "<style scoped>\n",
       "    .dataframe tbody tr th:only-of-type {\n",
       "        vertical-align: middle;\n",
       "    }\n",
       "\n",
       "    .dataframe tbody tr th {\n",
       "        vertical-align: top;\n",
       "    }\n",
       "\n",
       "    .dataframe thead th {\n",
       "        text-align: right;\n",
       "    }\n",
       "</style>\n",
       "<table border=\"1\" class=\"dataframe\">\n",
       "  <thead>\n",
       "    <tr style=\"text-align: right;\">\n",
       "      <th></th>\n",
       "      <th>id</th>\n",
       "      <th>call_date</th>\n",
       "      <th>duration</th>\n",
       "      <th>user_id</th>\n",
       "    </tr>\n",
       "  </thead>\n",
       "  <tbody>\n",
       "    <tr>\n",
       "      <th>2</th>\n",
       "      <td>1000_2</td>\n",
       "      <td>2018-06-11</td>\n",
       "      <td>2.85</td>\n",
       "      <td>1000</td>\n",
       "    </tr>\n",
       "    <tr>\n",
       "      <th>3</th>\n",
       "      <td>1000_3</td>\n",
       "      <td>2018-09-21</td>\n",
       "      <td>13.80</td>\n",
       "      <td>1000</td>\n",
       "    </tr>\n",
       "    <tr>\n",
       "      <th>4</th>\n",
       "      <td>1000_4</td>\n",
       "      <td>2018-12-15</td>\n",
       "      <td>5.18</td>\n",
       "      <td>1000</td>\n",
       "    </tr>\n",
       "    <tr>\n",
       "      <th>7</th>\n",
       "      <td>1000_7</td>\n",
       "      <td>2018-08-22</td>\n",
       "      <td>18.31</td>\n",
       "      <td>1000</td>\n",
       "    </tr>\n",
       "    <tr>\n",
       "      <th>8</th>\n",
       "      <td>1000_8</td>\n",
       "      <td>2018-09-15</td>\n",
       "      <td>18.44</td>\n",
       "      <td>1000</td>\n",
       "    </tr>\n",
       "  </tbody>\n",
       "</table>\n",
       "</div>"
      ],
      "text/plain": [
       "       id  call_date  duration  user_id\n",
       "2  1000_2 2018-06-11      2.85     1000\n",
       "3  1000_3 2018-09-21     13.80     1000\n",
       "4  1000_4 2018-12-15      5.18     1000\n",
       "7  1000_7 2018-08-22     18.31     1000\n",
       "8  1000_8 2018-09-15     18.44     1000"
      ]
     },
     "execution_count": 39,
     "metadata": {},
     "output_type": "execute_result"
    }
   ],
   "source": [
    "calls.head()"
   ]
  },
  {
   "cell_type": "code",
   "execution_count": 40,
   "metadata": {},
   "outputs": [
    {
     "data": {
      "text/html": [
       "<div>\n",
       "<style scoped>\n",
       "    .dataframe tbody tr th:only-of-type {\n",
       "        vertical-align: middle;\n",
       "    }\n",
       "\n",
       "    .dataframe tbody tr th {\n",
       "        vertical-align: top;\n",
       "    }\n",
       "\n",
       "    .dataframe thead th {\n",
       "        text-align: right;\n",
       "    }\n",
       "</style>\n",
       "<table border=\"1\" class=\"dataframe\">\n",
       "  <thead>\n",
       "    <tr style=\"text-align: right;\">\n",
       "      <th></th>\n",
       "      <th>id</th>\n",
       "      <th>call_date</th>\n",
       "      <th>duration</th>\n",
       "      <th>user_id</th>\n",
       "    </tr>\n",
       "  </thead>\n",
       "  <tbody>\n",
       "    <tr>\n",
       "      <th>2</th>\n",
       "      <td>1000_2</td>\n",
       "      <td>2018-06-11</td>\n",
       "      <td>3.0</td>\n",
       "      <td>1000</td>\n",
       "    </tr>\n",
       "    <tr>\n",
       "      <th>3</th>\n",
       "      <td>1000_3</td>\n",
       "      <td>2018-09-21</td>\n",
       "      <td>14.0</td>\n",
       "      <td>1000</td>\n",
       "    </tr>\n",
       "    <tr>\n",
       "      <th>4</th>\n",
       "      <td>1000_4</td>\n",
       "      <td>2018-12-15</td>\n",
       "      <td>6.0</td>\n",
       "      <td>1000</td>\n",
       "    </tr>\n",
       "    <tr>\n",
       "      <th>7</th>\n",
       "      <td>1000_7</td>\n",
       "      <td>2018-08-22</td>\n",
       "      <td>19.0</td>\n",
       "      <td>1000</td>\n",
       "    </tr>\n",
       "    <tr>\n",
       "      <th>8</th>\n",
       "      <td>1000_8</td>\n",
       "      <td>2018-09-15</td>\n",
       "      <td>19.0</td>\n",
       "      <td>1000</td>\n",
       "    </tr>\n",
       "  </tbody>\n",
       "</table>\n",
       "</div>"
      ],
      "text/plain": [
       "       id  call_date  duration  user_id\n",
       "2  1000_2 2018-06-11       3.0     1000\n",
       "3  1000_3 2018-09-21      14.0     1000\n",
       "4  1000_4 2018-12-15       6.0     1000\n",
       "7  1000_7 2018-08-22      19.0     1000\n",
       "8  1000_8 2018-09-15      19.0     1000"
      ]
     },
     "execution_count": 40,
     "metadata": {},
     "output_type": "execute_result"
    }
   ],
   "source": [
    "calls['duration'] = np.ceil(calls['duration'])\n",
    "calls.head()"
   ]
  },
  {
   "cell_type": "code",
   "execution_count": 41,
   "metadata": {},
   "outputs": [
    {
     "data": {
      "text/html": [
       "<div>\n",
       "<style scoped>\n",
       "    .dataframe tbody tr th:only-of-type {\n",
       "        vertical-align: middle;\n",
       "    }\n",
       "\n",
       "    .dataframe tbody tr th {\n",
       "        vertical-align: top;\n",
       "    }\n",
       "\n",
       "    .dataframe thead th {\n",
       "        text-align: right;\n",
       "    }\n",
       "</style>\n",
       "<table border=\"1\" class=\"dataframe\">\n",
       "  <thead>\n",
       "    <tr style=\"text-align: right;\">\n",
       "      <th></th>\n",
       "      <th>id</th>\n",
       "      <th>mb_used</th>\n",
       "      <th>session_date</th>\n",
       "      <th>user_id</th>\n",
       "    </tr>\n",
       "  </thead>\n",
       "  <tbody>\n",
       "    <tr>\n",
       "      <th>0</th>\n",
       "      <td>1000_0</td>\n",
       "      <td>112.95</td>\n",
       "      <td>2018-11-25</td>\n",
       "      <td>1000</td>\n",
       "    </tr>\n",
       "    <tr>\n",
       "      <th>1</th>\n",
       "      <td>1000_1</td>\n",
       "      <td>1052.81</td>\n",
       "      <td>2018-09-07</td>\n",
       "      <td>1000</td>\n",
       "    </tr>\n",
       "    <tr>\n",
       "      <th>2</th>\n",
       "      <td>1000_2</td>\n",
       "      <td>1197.26</td>\n",
       "      <td>2018-06-25</td>\n",
       "      <td>1000</td>\n",
       "    </tr>\n",
       "    <tr>\n",
       "      <th>3</th>\n",
       "      <td>1000_3</td>\n",
       "      <td>550.27</td>\n",
       "      <td>2018-08-22</td>\n",
       "      <td>1000</td>\n",
       "    </tr>\n",
       "    <tr>\n",
       "      <th>4</th>\n",
       "      <td>1000_4</td>\n",
       "      <td>302.56</td>\n",
       "      <td>2018-09-24</td>\n",
       "      <td>1000</td>\n",
       "    </tr>\n",
       "  </tbody>\n",
       "</table>\n",
       "</div>"
      ],
      "text/plain": [
       "       id  mb_used session_date  user_id\n",
       "0  1000_0   112.95   2018-11-25     1000\n",
       "1  1000_1  1052.81   2018-09-07     1000\n",
       "2  1000_2  1197.26   2018-06-25     1000\n",
       "3  1000_3   550.27   2018-08-22     1000\n",
       "4  1000_4   302.56   2018-09-24     1000"
      ]
     },
     "execution_count": 41,
     "metadata": {},
     "output_type": "execute_result"
    }
   ],
   "source": [
    "internet.head()"
   ]
  },
  {
   "cell_type": "code",
   "execution_count": 42,
   "metadata": {},
   "outputs": [
    {
     "data": {
      "text/html": [
       "<div>\n",
       "<style scoped>\n",
       "    .dataframe tbody tr th:only-of-type {\n",
       "        vertical-align: middle;\n",
       "    }\n",
       "\n",
       "    .dataframe tbody tr th {\n",
       "        vertical-align: top;\n",
       "    }\n",
       "\n",
       "    .dataframe thead th {\n",
       "        text-align: right;\n",
       "    }\n",
       "</style>\n",
       "<table border=\"1\" class=\"dataframe\">\n",
       "  <thead>\n",
       "    <tr style=\"text-align: right;\">\n",
       "      <th></th>\n",
       "      <th>id</th>\n",
       "      <th>mb_used</th>\n",
       "      <th>session_date</th>\n",
       "      <th>user_id</th>\n",
       "    </tr>\n",
       "  </thead>\n",
       "  <tbody>\n",
       "    <tr>\n",
       "      <th>0</th>\n",
       "      <td>1000_0</td>\n",
       "      <td>113.0</td>\n",
       "      <td>2018-11-25</td>\n",
       "      <td>1000</td>\n",
       "    </tr>\n",
       "    <tr>\n",
       "      <th>1</th>\n",
       "      <td>1000_1</td>\n",
       "      <td>1053.0</td>\n",
       "      <td>2018-09-07</td>\n",
       "      <td>1000</td>\n",
       "    </tr>\n",
       "    <tr>\n",
       "      <th>2</th>\n",
       "      <td>1000_2</td>\n",
       "      <td>1198.0</td>\n",
       "      <td>2018-06-25</td>\n",
       "      <td>1000</td>\n",
       "    </tr>\n",
       "    <tr>\n",
       "      <th>3</th>\n",
       "      <td>1000_3</td>\n",
       "      <td>551.0</td>\n",
       "      <td>2018-08-22</td>\n",
       "      <td>1000</td>\n",
       "    </tr>\n",
       "    <tr>\n",
       "      <th>4</th>\n",
       "      <td>1000_4</td>\n",
       "      <td>303.0</td>\n",
       "      <td>2018-09-24</td>\n",
       "      <td>1000</td>\n",
       "    </tr>\n",
       "  </tbody>\n",
       "</table>\n",
       "</div>"
      ],
      "text/plain": [
       "       id  mb_used session_date  user_id\n",
       "0  1000_0    113.0   2018-11-25     1000\n",
       "1  1000_1   1053.0   2018-09-07     1000\n",
       "2  1000_2   1198.0   2018-06-25     1000\n",
       "3  1000_3    551.0   2018-08-22     1000\n",
       "4  1000_4    303.0   2018-09-24     1000"
      ]
     },
     "execution_count": 42,
     "metadata": {},
     "output_type": "execute_result"
    }
   ],
   "source": [
    "internet['mb_used'] = np.ceil(internet['mb_used'])\n",
    "internet.head()"
   ]
  },
  {
   "cell_type": "markdown",
   "metadata": {},
   "source": [
    "## Исследовательский анализ данных<a id = 'research'></a>"
   ]
  },
  {
   "cell_type": "markdown",
   "metadata": {},
   "source": [
    "Соберем агрегированную информацию по каждому пользователю: сколько звонков он совершил, сколько минут проговорил, сколько сообщений отправил и сколько интернет-трафика использовал. \n",
    "\n",
    "Объединим данные, усредним по периоду 30 дней и высчитаем, сколько денег каждый пользователь приносит \"Мегалайну\" ежемесячно."
   ]
  },
  {
   "cell_type": "code",
   "execution_count": 43,
   "metadata": {},
   "outputs": [
    {
     "data": {
      "text/html": [
       "<div>\n",
       "<style scoped>\n",
       "    .dataframe tbody tr th:only-of-type {\n",
       "        vertical-align: middle;\n",
       "    }\n",
       "\n",
       "    .dataframe tbody tr th {\n",
       "        vertical-align: top;\n",
       "    }\n",
       "\n",
       "    .dataframe thead th {\n",
       "        text-align: right;\n",
       "    }\n",
       "</style>\n",
       "<table border=\"1\" class=\"dataframe\">\n",
       "  <thead>\n",
       "    <tr style=\"text-align: right;\">\n",
       "      <th></th>\n",
       "      <th>user_id</th>\n",
       "      <th>calls</th>\n",
       "      <th>minutes</th>\n",
       "    </tr>\n",
       "  </thead>\n",
       "  <tbody>\n",
       "    <tr>\n",
       "      <th>0</th>\n",
       "      <td>1000</td>\n",
       "      <td>293</td>\n",
       "      <td>2566.0</td>\n",
       "    </tr>\n",
       "    <tr>\n",
       "      <th>1</th>\n",
       "      <td>1001</td>\n",
       "      <td>92</td>\n",
       "      <td>844.0</td>\n",
       "    </tr>\n",
       "    <tr>\n",
       "      <th>2</th>\n",
       "      <td>1002</td>\n",
       "      <td>173</td>\n",
       "      <td>1517.0</td>\n",
       "    </tr>\n",
       "    <tr>\n",
       "      <th>3</th>\n",
       "      <td>1003</td>\n",
       "      <td>428</td>\n",
       "      <td>3822.0</td>\n",
       "    </tr>\n",
       "    <tr>\n",
       "      <th>4</th>\n",
       "      <td>1004</td>\n",
       "      <td>139</td>\n",
       "      <td>987.0</td>\n",
       "    </tr>\n",
       "  </tbody>\n",
       "</table>\n",
       "</div>"
      ],
      "text/plain": [
       "   user_id  calls  minutes\n",
       "0     1000    293   2566.0\n",
       "1     1001     92    844.0\n",
       "2     1002    173   1517.0\n",
       "3     1003    428   3822.0\n",
       "4     1004    139    987.0"
      ]
     },
     "execution_count": 43,
     "metadata": {},
     "output_type": "execute_result"
    }
   ],
   "source": [
    "u_calls = calls.groupby('user_id').agg({'call_date': 'count', 'duration': 'sum'}).reset_index()\n",
    "u_calls.columns = ['user_id', 'calls', 'minutes']\n",
    "u_calls.head()"
   ]
  },
  {
   "cell_type": "code",
   "execution_count": 44,
   "metadata": {},
   "outputs": [
    {
     "data": {
      "text/html": [
       "<div>\n",
       "<style scoped>\n",
       "    .dataframe tbody tr th:only-of-type {\n",
       "        vertical-align: middle;\n",
       "    }\n",
       "\n",
       "    .dataframe tbody tr th {\n",
       "        vertical-align: top;\n",
       "    }\n",
       "\n",
       "    .dataframe thead th {\n",
       "        text-align: right;\n",
       "    }\n",
       "</style>\n",
       "<table border=\"1\" class=\"dataframe\">\n",
       "  <thead>\n",
       "    <tr style=\"text-align: right;\">\n",
       "      <th></th>\n",
       "      <th>user_id</th>\n",
       "      <th>messages</th>\n",
       "    </tr>\n",
       "  </thead>\n",
       "  <tbody>\n",
       "    <tr>\n",
       "      <th>0</th>\n",
       "      <td>1000</td>\n",
       "      <td>496</td>\n",
       "    </tr>\n",
       "    <tr>\n",
       "      <th>1</th>\n",
       "      <td>1002</td>\n",
       "      <td>70</td>\n",
       "    </tr>\n",
       "    <tr>\n",
       "      <th>2</th>\n",
       "      <td>1003</td>\n",
       "      <td>380</td>\n",
       "    </tr>\n",
       "    <tr>\n",
       "      <th>3</th>\n",
       "      <td>1004</td>\n",
       "      <td>1192</td>\n",
       "    </tr>\n",
       "    <tr>\n",
       "      <th>4</th>\n",
       "      <td>1005</td>\n",
       "      <td>552</td>\n",
       "    </tr>\n",
       "  </tbody>\n",
       "</table>\n",
       "</div>"
      ],
      "text/plain": [
       "   user_id  messages\n",
       "0     1000       496\n",
       "1     1002        70\n",
       "2     1003       380\n",
       "3     1004      1192\n",
       "4     1005       552"
      ]
     },
     "execution_count": 44,
     "metadata": {},
     "output_type": "execute_result"
    }
   ],
   "source": [
    "u_messages = messages.groupby('user_id').message_date.count().reset_index()\n",
    "u_messages.columns = ['user_id', 'messages']\n",
    "u_messages.head()"
   ]
  },
  {
   "cell_type": "code",
   "execution_count": 45,
   "metadata": {
    "scrolled": true
   },
   "outputs": [
    {
     "data": {
      "text/html": [
       "<div>\n",
       "<style scoped>\n",
       "    .dataframe tbody tr th:only-of-type {\n",
       "        vertical-align: middle;\n",
       "    }\n",
       "\n",
       "    .dataframe tbody tr th {\n",
       "        vertical-align: top;\n",
       "    }\n",
       "\n",
       "    .dataframe thead th {\n",
       "        text-align: right;\n",
       "    }\n",
       "</style>\n",
       "<table border=\"1\" class=\"dataframe\">\n",
       "  <thead>\n",
       "    <tr style=\"text-align: right;\">\n",
       "      <th></th>\n",
       "      <th>user_id</th>\n",
       "      <th>mb_used</th>\n",
       "    </tr>\n",
       "  </thead>\n",
       "  <tbody>\n",
       "    <tr>\n",
       "      <th>0</th>\n",
       "      <td>1000</td>\n",
       "      <td>107492.0</td>\n",
       "    </tr>\n",
       "    <tr>\n",
       "      <th>1</th>\n",
       "      <td>1001</td>\n",
       "      <td>32505.0</td>\n",
       "    </tr>\n",
       "    <tr>\n",
       "      <th>2</th>\n",
       "      <td>1002</td>\n",
       "      <td>116183.0</td>\n",
       "    </tr>\n",
       "    <tr>\n",
       "      <th>3</th>\n",
       "      <td>1003</td>\n",
       "      <td>57329.0</td>\n",
       "    </tr>\n",
       "    <tr>\n",
       "      <th>4</th>\n",
       "      <td>1004</td>\n",
       "      <td>149172.0</td>\n",
       "    </tr>\n",
       "  </tbody>\n",
       "</table>\n",
       "</div>"
      ],
      "text/plain": [
       "   user_id   mb_used\n",
       "0     1000  107492.0\n",
       "1     1001   32505.0\n",
       "2     1002  116183.0\n",
       "3     1003   57329.0\n",
       "4     1004  149172.0"
      ]
     },
     "execution_count": 45,
     "metadata": {},
     "output_type": "execute_result"
    }
   ],
   "source": [
    "u_internet = internet.groupby('user_id').mb_used.sum().reset_index()\n",
    "u_internet.head()"
   ]
  },
  {
   "cell_type": "markdown",
   "metadata": {},
   "source": [
    "### Объединение датасетов"
   ]
  },
  {
   "cell_type": "code",
   "execution_count": 46,
   "metadata": {},
   "outputs": [
    {
     "data": {
      "text/html": [
       "<div>\n",
       "<style scoped>\n",
       "    .dataframe tbody tr th:only-of-type {\n",
       "        vertical-align: middle;\n",
       "    }\n",
       "\n",
       "    .dataframe tbody tr th {\n",
       "        vertical-align: top;\n",
       "    }\n",
       "\n",
       "    .dataframe thead th {\n",
       "        text-align: right;\n",
       "    }\n",
       "</style>\n",
       "<table border=\"1\" class=\"dataframe\">\n",
       "  <thead>\n",
       "    <tr style=\"text-align: right;\">\n",
       "      <th></th>\n",
       "      <th>user_id</th>\n",
       "      <th>tariff</th>\n",
       "      <th>days</th>\n",
       "      <th>city</th>\n",
       "      <th>calls</th>\n",
       "      <th>minutes</th>\n",
       "      <th>messages</th>\n",
       "      <th>mb_used</th>\n",
       "    </tr>\n",
       "  </thead>\n",
       "  <tbody>\n",
       "    <tr>\n",
       "      <th>0</th>\n",
       "      <td>1000</td>\n",
       "      <td>ultra</td>\n",
       "      <td>221</td>\n",
       "      <td>Краснодар</td>\n",
       "      <td>293.0</td>\n",
       "      <td>2566.0</td>\n",
       "      <td>496.0</td>\n",
       "      <td>107492.0</td>\n",
       "    </tr>\n",
       "    <tr>\n",
       "      <th>1</th>\n",
       "      <td>1001</td>\n",
       "      <td>smart</td>\n",
       "      <td>61</td>\n",
       "      <td>Москва</td>\n",
       "      <td>92.0</td>\n",
       "      <td>844.0</td>\n",
       "      <td>0.0</td>\n",
       "      <td>32505.0</td>\n",
       "    </tr>\n",
       "    <tr>\n",
       "      <th>2</th>\n",
       "      <td>1002</td>\n",
       "      <td>smart</td>\n",
       "      <td>198</td>\n",
       "      <td>Стерлитамак</td>\n",
       "      <td>173.0</td>\n",
       "      <td>1517.0</td>\n",
       "      <td>70.0</td>\n",
       "      <td>116183.0</td>\n",
       "    </tr>\n",
       "    <tr>\n",
       "      <th>3</th>\n",
       "      <td>1003</td>\n",
       "      <td>ultra</td>\n",
       "      <td>137</td>\n",
       "      <td>Москва</td>\n",
       "      <td>428.0</td>\n",
       "      <td>3822.0</td>\n",
       "      <td>380.0</td>\n",
       "      <td>57329.0</td>\n",
       "    </tr>\n",
       "    <tr>\n",
       "      <th>4</th>\n",
       "      <td>1004</td>\n",
       "      <td>ultra</td>\n",
       "      <td>232</td>\n",
       "      <td>Новокузнецк</td>\n",
       "      <td>139.0</td>\n",
       "      <td>987.0</td>\n",
       "      <td>1192.0</td>\n",
       "      <td>149172.0</td>\n",
       "    </tr>\n",
       "    <tr>\n",
       "      <th>...</th>\n",
       "      <td>...</td>\n",
       "      <td>...</td>\n",
       "      <td>...</td>\n",
       "      <td>...</td>\n",
       "      <td>...</td>\n",
       "      <td>...</td>\n",
       "      <td>...</td>\n",
       "      <td>...</td>\n",
       "    </tr>\n",
       "    <tr>\n",
       "      <th>495</th>\n",
       "      <td>1495</td>\n",
       "      <td>ultra</td>\n",
       "      <td>126</td>\n",
       "      <td>Иркутск</td>\n",
       "      <td>466.0</td>\n",
       "      <td>3920.0</td>\n",
       "      <td>340.0</td>\n",
       "      <td>127536.0</td>\n",
       "    </tr>\n",
       "    <tr>\n",
       "      <th>496</th>\n",
       "      <td>1496</td>\n",
       "      <td>smart</td>\n",
       "      <td>339</td>\n",
       "      <td>Вологда</td>\n",
       "      <td>667.0</td>\n",
       "      <td>5984.0</td>\n",
       "      <td>468.0</td>\n",
       "      <td>271269.0</td>\n",
       "    </tr>\n",
       "    <tr>\n",
       "      <th>497</th>\n",
       "      <td>1497</td>\n",
       "      <td>smart</td>\n",
       "      <td>84</td>\n",
       "      <td>Челябинск</td>\n",
       "      <td>156.0</td>\n",
       "      <td>1406.0</td>\n",
       "      <td>51.0</td>\n",
       "      <td>45626.0</td>\n",
       "    </tr>\n",
       "    <tr>\n",
       "      <th>498</th>\n",
       "      <td>1498</td>\n",
       "      <td>smart</td>\n",
       "      <td>98</td>\n",
       "      <td>Владикавказ</td>\n",
       "      <td>146.0</td>\n",
       "      <td>1293.0</td>\n",
       "      <td>168.0</td>\n",
       "      <td>74526.0</td>\n",
       "    </tr>\n",
       "    <tr>\n",
       "      <th>499</th>\n",
       "      <td>1499</td>\n",
       "      <td>smart</td>\n",
       "      <td>96</td>\n",
       "      <td>Пермь</td>\n",
       "      <td>170.0</td>\n",
       "      <td>1623.0</td>\n",
       "      <td>184.0</td>\n",
       "      <td>50718.0</td>\n",
       "    </tr>\n",
       "  </tbody>\n",
       "</table>\n",
       "<p>500 rows × 8 columns</p>\n",
       "</div>"
      ],
      "text/plain": [
       "     user_id tariff  days         city  calls  minutes  messages   mb_used\n",
       "0       1000  ultra   221    Краснодар  293.0   2566.0     496.0  107492.0\n",
       "1       1001  smart    61       Москва   92.0    844.0       0.0   32505.0\n",
       "2       1002  smart   198  Стерлитамак  173.0   1517.0      70.0  116183.0\n",
       "3       1003  ultra   137       Москва  428.0   3822.0     380.0   57329.0\n",
       "4       1004  ultra   232  Новокузнецк  139.0    987.0    1192.0  149172.0\n",
       "..       ...    ...   ...          ...    ...      ...       ...       ...\n",
       "495     1495  ultra   126      Иркутск  466.0   3920.0     340.0  127536.0\n",
       "496     1496  smart   339      Вологда  667.0   5984.0     468.0  271269.0\n",
       "497     1497  smart    84    Челябинск  156.0   1406.0      51.0   45626.0\n",
       "498     1498  smart    98  Владикавказ  146.0   1293.0     168.0   74526.0\n",
       "499     1499  smart    96        Пермь  170.0   1623.0     184.0   50718.0\n",
       "\n",
       "[500 rows x 8 columns]"
      ]
     },
     "execution_count": 46,
     "metadata": {},
     "output_type": "execute_result"
    }
   ],
   "source": [
    "data = users[['user_id', 'tariff', 'days', 'city']].merge(u_calls, how = 'left').merge(u_messages, how = 'left').merge(u_internet, how = 'left').fillna(0)\n",
    "data"
   ]
  },
  {
   "cell_type": "markdown",
   "metadata": {},
   "source": [
    "### Расчет средних показателей за месяц"
   ]
  },
  {
   "cell_type": "code",
   "execution_count": 47,
   "metadata": {
    "scrolled": true
   },
   "outputs": [
    {
     "data": {
      "text/html": [
       "<div>\n",
       "<style scoped>\n",
       "    .dataframe tbody tr th:only-of-type {\n",
       "        vertical-align: middle;\n",
       "    }\n",
       "\n",
       "    .dataframe tbody tr th {\n",
       "        vertical-align: top;\n",
       "    }\n",
       "\n",
       "    .dataframe thead th {\n",
       "        text-align: right;\n",
       "    }\n",
       "</style>\n",
       "<table border=\"1\" class=\"dataframe\">\n",
       "  <thead>\n",
       "    <tr style=\"text-align: right;\">\n",
       "      <th></th>\n",
       "      <th>user_id</th>\n",
       "      <th>tariff</th>\n",
       "      <th>days</th>\n",
       "      <th>city</th>\n",
       "      <th>calls</th>\n",
       "      <th>minutes</th>\n",
       "      <th>messages</th>\n",
       "      <th>mb_used</th>\n",
       "      <th>m_calls</th>\n",
       "      <th>m_minutes</th>\n",
       "      <th>m_messages</th>\n",
       "      <th>m_mb_used</th>\n",
       "    </tr>\n",
       "  </thead>\n",
       "  <tbody>\n",
       "    <tr>\n",
       "      <th>0</th>\n",
       "      <td>1000</td>\n",
       "      <td>ultra</td>\n",
       "      <td>221</td>\n",
       "      <td>Краснодар</td>\n",
       "      <td>293.0</td>\n",
       "      <td>2566.0</td>\n",
       "      <td>496.0</td>\n",
       "      <td>107492.0</td>\n",
       "      <td>39.773756</td>\n",
       "      <td>348.325792</td>\n",
       "      <td>67.330317</td>\n",
       "      <td>14591.674208</td>\n",
       "    </tr>\n",
       "    <tr>\n",
       "      <th>1</th>\n",
       "      <td>1001</td>\n",
       "      <td>smart</td>\n",
       "      <td>61</td>\n",
       "      <td>Москва</td>\n",
       "      <td>92.0</td>\n",
       "      <td>844.0</td>\n",
       "      <td>0.0</td>\n",
       "      <td>32505.0</td>\n",
       "      <td>45.245902</td>\n",
       "      <td>415.081967</td>\n",
       "      <td>0.000000</td>\n",
       "      <td>15986.065574</td>\n",
       "    </tr>\n",
       "    <tr>\n",
       "      <th>2</th>\n",
       "      <td>1002</td>\n",
       "      <td>smart</td>\n",
       "      <td>198</td>\n",
       "      <td>Стерлитамак</td>\n",
       "      <td>173.0</td>\n",
       "      <td>1517.0</td>\n",
       "      <td>70.0</td>\n",
       "      <td>116183.0</td>\n",
       "      <td>26.212121</td>\n",
       "      <td>229.848485</td>\n",
       "      <td>10.606061</td>\n",
       "      <td>17603.484848</td>\n",
       "    </tr>\n",
       "    <tr>\n",
       "      <th>3</th>\n",
       "      <td>1003</td>\n",
       "      <td>ultra</td>\n",
       "      <td>137</td>\n",
       "      <td>Москва</td>\n",
       "      <td>428.0</td>\n",
       "      <td>3822.0</td>\n",
       "      <td>380.0</td>\n",
       "      <td>57329.0</td>\n",
       "      <td>93.722628</td>\n",
       "      <td>836.934307</td>\n",
       "      <td>83.211679</td>\n",
       "      <td>12553.795620</td>\n",
       "    </tr>\n",
       "    <tr>\n",
       "      <th>4</th>\n",
       "      <td>1004</td>\n",
       "      <td>ultra</td>\n",
       "      <td>232</td>\n",
       "      <td>Новокузнецк</td>\n",
       "      <td>139.0</td>\n",
       "      <td>987.0</td>\n",
       "      <td>1192.0</td>\n",
       "      <td>149172.0</td>\n",
       "      <td>17.974138</td>\n",
       "      <td>127.629310</td>\n",
       "      <td>154.137931</td>\n",
       "      <td>19289.482759</td>\n",
       "    </tr>\n",
       "  </tbody>\n",
       "</table>\n",
       "</div>"
      ],
      "text/plain": [
       "   user_id tariff  days         city  calls  minutes  messages   mb_used  \\\n",
       "0     1000  ultra   221    Краснодар  293.0   2566.0     496.0  107492.0   \n",
       "1     1001  smart    61       Москва   92.0    844.0       0.0   32505.0   \n",
       "2     1002  smart   198  Стерлитамак  173.0   1517.0      70.0  116183.0   \n",
       "3     1003  ultra   137       Москва  428.0   3822.0     380.0   57329.0   \n",
       "4     1004  ultra   232  Новокузнецк  139.0    987.0    1192.0  149172.0   \n",
       "\n",
       "     m_calls   m_minutes  m_messages     m_mb_used  \n",
       "0  39.773756  348.325792   67.330317  14591.674208  \n",
       "1  45.245902  415.081967    0.000000  15986.065574  \n",
       "2  26.212121  229.848485   10.606061  17603.484848  \n",
       "3  93.722628  836.934307   83.211679  12553.795620  \n",
       "4  17.974138  127.629310  154.137931  19289.482759  "
      ]
     },
     "execution_count": 47,
     "metadata": {},
     "output_type": "execute_result"
    }
   ],
   "source": [
    "data['m_calls']  = data['calls'] / data['days'] * 30\n",
    "data['m_minutes']  = data['minutes'] / data['days'] * 30\n",
    "data['m_messages']  = data['messages'] / data['days'] * 30\n",
    "data['m_mb_used'] = data['mb_used'] / data['days'] * 30\n",
    "data.head()"
   ]
  },
  {
   "cell_type": "markdown",
   "metadata": {},
   "source": [
    "### Расчет средней выручки"
   ]
  },
  {
   "cell_type": "markdown",
   "metadata": {},
   "source": [
    "Теперь можем рассчитать помесячную выручку с каждого пользователя: вычтем бесплатный лимит из суммарного количества звонков, сообщений и интернет-трафика; остаток умножим на ставки из тарифного плана; прибавим абонентскую плату, соответствующую тарифному плану. Ставки возьмем из `tariffs`:"
   ]
  },
  {
   "cell_type": "code",
   "execution_count": 48,
   "metadata": {},
   "outputs": [
    {
     "data": {
      "text/html": [
       "<div>\n",
       "<style scoped>\n",
       "    .dataframe tbody tr th:only-of-type {\n",
       "        vertical-align: middle;\n",
       "    }\n",
       "\n",
       "    .dataframe tbody tr th {\n",
       "        vertical-align: top;\n",
       "    }\n",
       "\n",
       "    .dataframe thead th {\n",
       "        text-align: right;\n",
       "    }\n",
       "</style>\n",
       "<table border=\"1\" class=\"dataframe\">\n",
       "  <thead>\n",
       "    <tr style=\"text-align: right;\">\n",
       "      <th></th>\n",
       "      <th>messages_included</th>\n",
       "      <th>mb_per_month_included</th>\n",
       "      <th>minutes_included</th>\n",
       "      <th>rub_monthly_fee</th>\n",
       "      <th>rub_per_gb</th>\n",
       "      <th>rub_per_message</th>\n",
       "      <th>rub_per_minute</th>\n",
       "      <th>tariff_name</th>\n",
       "    </tr>\n",
       "  </thead>\n",
       "  <tbody>\n",
       "    <tr>\n",
       "      <th>0</th>\n",
       "      <td>50</td>\n",
       "      <td>15360</td>\n",
       "      <td>500</td>\n",
       "      <td>550</td>\n",
       "      <td>200</td>\n",
       "      <td>3</td>\n",
       "      <td>3</td>\n",
       "      <td>smart</td>\n",
       "    </tr>\n",
       "    <tr>\n",
       "      <th>1</th>\n",
       "      <td>1000</td>\n",
       "      <td>30720</td>\n",
       "      <td>3000</td>\n",
       "      <td>1950</td>\n",
       "      <td>150</td>\n",
       "      <td>1</td>\n",
       "      <td>1</td>\n",
       "      <td>ultra</td>\n",
       "    </tr>\n",
       "  </tbody>\n",
       "</table>\n",
       "</div>"
      ],
      "text/plain": [
       "   messages_included  mb_per_month_included  minutes_included  \\\n",
       "0                 50                  15360               500   \n",
       "1               1000                  30720              3000   \n",
       "\n",
       "   rub_monthly_fee  rub_per_gb  rub_per_message  rub_per_minute tariff_name  \n",
       "0              550         200                3               3       smart  \n",
       "1             1950         150                1               1       ultra  "
      ]
     },
     "execution_count": 48,
     "metadata": {},
     "output_type": "execute_result"
    }
   ],
   "source": [
    "tariffs"
   ]
  },
  {
   "cell_type": "code",
   "execution_count": 49,
   "metadata": {},
   "outputs": [],
   "source": [
    "def u_income(row):\n",
    "    if row.tariff == 'ultra':\n",
    "        if row.m_minutes > 3000:\n",
    "            dop_minutes = row.m_minutes - 3000\n",
    "        else:\n",
    "            dop_minutes = 0\n",
    "        if row.m_messages > 1000:\n",
    "            dop_messages = row.m_messages - 1000\n",
    "        else:\n",
    "            dop_messages = 0\n",
    "        if row.m_mb_used > 30720:\n",
    "            dop_mb = (row.m_mb_used - 30720) * 0.15\n",
    "        else:\n",
    "            dop_mb = 0\n",
    "        total_income = 1950 + dop_minutes + dop_messages + dop_mb\n",
    "        return total_income\n",
    "    elif row.tariff == 'smart':\n",
    "        if row.m_minutes > 500:\n",
    "            dop_minutes = (row.m_minutes - 500) * 3\n",
    "        else:\n",
    "            dop_minutes = 0\n",
    "        if row.m_messages > 50:\n",
    "            dop_messages = (row.m_messages > 50) * 3\n",
    "        else:\n",
    "            dop_messages = 0\n",
    "        if row.m_mb_used > 15360:\n",
    "            dop_mb = (row.m_mb_used - 15360) * 0.2\n",
    "        else:\n",
    "            dop_mb = 0\n",
    "        total_income = 550 + dop_minutes + dop_messages + dop_mb\n",
    "        return total_income"
   ]
  },
  {
   "cell_type": "code",
   "execution_count": 50,
   "metadata": {
    "scrolled": true
   },
   "outputs": [
    {
     "data": {
      "text/html": [
       "<div>\n",
       "<style scoped>\n",
       "    .dataframe tbody tr th:only-of-type {\n",
       "        vertical-align: middle;\n",
       "    }\n",
       "\n",
       "    .dataframe tbody tr th {\n",
       "        vertical-align: top;\n",
       "    }\n",
       "\n",
       "    .dataframe thead th {\n",
       "        text-align: right;\n",
       "    }\n",
       "</style>\n",
       "<table border=\"1\" class=\"dataframe\">\n",
       "  <thead>\n",
       "    <tr style=\"text-align: right;\">\n",
       "      <th></th>\n",
       "      <th>user_id</th>\n",
       "      <th>tariff</th>\n",
       "      <th>days</th>\n",
       "      <th>city</th>\n",
       "      <th>calls</th>\n",
       "      <th>minutes</th>\n",
       "      <th>messages</th>\n",
       "      <th>mb_used</th>\n",
       "      <th>m_calls</th>\n",
       "      <th>m_minutes</th>\n",
       "      <th>m_messages</th>\n",
       "      <th>m_mb_used</th>\n",
       "      <th>income</th>\n",
       "    </tr>\n",
       "  </thead>\n",
       "  <tbody>\n",
       "    <tr>\n",
       "      <th>0</th>\n",
       "      <td>1000</td>\n",
       "      <td>ultra</td>\n",
       "      <td>221</td>\n",
       "      <td>Краснодар</td>\n",
       "      <td>293.0</td>\n",
       "      <td>2566.0</td>\n",
       "      <td>496.0</td>\n",
       "      <td>107492.0</td>\n",
       "      <td>39.773756</td>\n",
       "      <td>348.325792</td>\n",
       "      <td>67.330317</td>\n",
       "      <td>14591.674208</td>\n",
       "      <td>1950.000000</td>\n",
       "    </tr>\n",
       "    <tr>\n",
       "      <th>1</th>\n",
       "      <td>1001</td>\n",
       "      <td>smart</td>\n",
       "      <td>61</td>\n",
       "      <td>Москва</td>\n",
       "      <td>92.0</td>\n",
       "      <td>844.0</td>\n",
       "      <td>0.0</td>\n",
       "      <td>32505.0</td>\n",
       "      <td>45.245902</td>\n",
       "      <td>415.081967</td>\n",
       "      <td>0.000000</td>\n",
       "      <td>15986.065574</td>\n",
       "      <td>675.213115</td>\n",
       "    </tr>\n",
       "    <tr>\n",
       "      <th>2</th>\n",
       "      <td>1002</td>\n",
       "      <td>smart</td>\n",
       "      <td>198</td>\n",
       "      <td>Стерлитамак</td>\n",
       "      <td>173.0</td>\n",
       "      <td>1517.0</td>\n",
       "      <td>70.0</td>\n",
       "      <td>116183.0</td>\n",
       "      <td>26.212121</td>\n",
       "      <td>229.848485</td>\n",
       "      <td>10.606061</td>\n",
       "      <td>17603.484848</td>\n",
       "      <td>998.696970</td>\n",
       "    </tr>\n",
       "    <tr>\n",
       "      <th>3</th>\n",
       "      <td>1003</td>\n",
       "      <td>ultra</td>\n",
       "      <td>137</td>\n",
       "      <td>Москва</td>\n",
       "      <td>428.0</td>\n",
       "      <td>3822.0</td>\n",
       "      <td>380.0</td>\n",
       "      <td>57329.0</td>\n",
       "      <td>93.722628</td>\n",
       "      <td>836.934307</td>\n",
       "      <td>83.211679</td>\n",
       "      <td>12553.795620</td>\n",
       "      <td>1950.000000</td>\n",
       "    </tr>\n",
       "    <tr>\n",
       "      <th>4</th>\n",
       "      <td>1004</td>\n",
       "      <td>ultra</td>\n",
       "      <td>232</td>\n",
       "      <td>Новокузнецк</td>\n",
       "      <td>139.0</td>\n",
       "      <td>987.0</td>\n",
       "      <td>1192.0</td>\n",
       "      <td>149172.0</td>\n",
       "      <td>17.974138</td>\n",
       "      <td>127.629310</td>\n",
       "      <td>154.137931</td>\n",
       "      <td>19289.482759</td>\n",
       "      <td>1950.000000</td>\n",
       "    </tr>\n",
       "  </tbody>\n",
       "</table>\n",
       "</div>"
      ],
      "text/plain": [
       "   user_id tariff  days         city  calls  minutes  messages   mb_used  \\\n",
       "0     1000  ultra   221    Краснодар  293.0   2566.0     496.0  107492.0   \n",
       "1     1001  smart    61       Москва   92.0    844.0       0.0   32505.0   \n",
       "2     1002  smart   198  Стерлитамак  173.0   1517.0      70.0  116183.0   \n",
       "3     1003  ultra   137       Москва  428.0   3822.0     380.0   57329.0   \n",
       "4     1004  ultra   232  Новокузнецк  139.0    987.0    1192.0  149172.0   \n",
       "\n",
       "     m_calls   m_minutes  m_messages     m_mb_used       income  \n",
       "0  39.773756  348.325792   67.330317  14591.674208  1950.000000  \n",
       "1  45.245902  415.081967    0.000000  15986.065574   675.213115  \n",
       "2  26.212121  229.848485   10.606061  17603.484848   998.696970  \n",
       "3  93.722628  836.934307   83.211679  12553.795620  1950.000000  \n",
       "4  17.974138  127.629310  154.137931  19289.482759  1950.000000  "
      ]
     },
     "execution_count": 50,
     "metadata": {},
     "output_type": "execute_result"
    }
   ],
   "source": [
    "data['income'] = data.apply(u_income, axis = 1)\n",
    "data.head()"
   ]
  },
  {
   "cell_type": "markdown",
   "metadata": {},
   "source": [
    "Теперь мы знаем среднюю выручку с каждого пользователя за месяц по итогам 2018 года."
   ]
  },
  {
   "cell_type": "markdown",
   "metadata": {},
   "source": [
    "## Статистический анализ данных<a id = 'stats'></a>"
   ]
  },
  {
   "cell_type": "markdown",
   "metadata": {},
   "source": [
    "Выясним, сколько в среднем минут, сообщений и интернет-трафика используют клиенты на каждом из тарифов ежемесячно. Сравним, как отличаются средние показатели для двух тарифов."
   ]
  },
  {
   "cell_type": "markdown",
   "metadata": {},
   "source": [
    "### Использование минут"
   ]
  },
  {
   "cell_type": "code",
   "execution_count": 51,
   "metadata": {},
   "outputs": [
    {
     "data": {
      "text/plain": [
       "count      351.000000\n",
       "mean       584.544367\n",
       "std       1093.376938\n",
       "min          0.000000\n",
       "25%        353.230769\n",
       "50%        464.390244\n",
       "75%        580.250855\n",
       "max      17130.000000\n",
       "Name: m_minutes, dtype: float64"
      ]
     },
     "execution_count": 51,
     "metadata": {},
     "output_type": "execute_result"
    }
   ],
   "source": [
    "data[data.tariff == 'smart'].m_minutes.describe()"
   ]
  },
  {
   "cell_type": "code",
   "execution_count": 52,
   "metadata": {},
   "outputs": [
    {
     "data": {
      "text/plain": [
       "count      149.000000\n",
       "mean       777.901708\n",
       "std       1889.560521\n",
       "min          0.000000\n",
       "25%        346.363636\n",
       "50%        587.368421\n",
       "75%        791.052632\n",
       "max      22680.000000\n",
       "Name: m_minutes, dtype: float64"
      ]
     },
     "execution_count": 52,
     "metadata": {},
     "output_type": "execute_result"
    }
   ],
   "source": [
    "data[data.tariff == 'ultra'].m_minutes.describe()"
   ]
  },
  {
   "cell_type": "markdown",
   "metadata": {},
   "source": [
    "Пользователи тарифа \"Ультра\" в среднем разговаривают больше, чем пользователи \"Смарт\": около 19 минут в день и около 15 минут в день, соответственно. \n",
    "\n",
    "В обоих случаях средние значения заметно превышают медиану. Значит, в выборке много значений, значительно превышающих средние. Разброс очень большой: кто-то почти не звонит, а кто-то разговаривает часами."
   ]
  },
  {
   "cell_type": "code",
   "execution_count": 53,
   "metadata": {
    "scrolled": true
   },
   "outputs": [],
   "source": [
    "#напишем функцию для построения гистограмм плотностей для сравнения двух срезов данных\n",
    "def step_hist(data1, data2, label1, label2, range1, range2, bins1, bins2, xlabel, ylabel, title):\n",
    "    data1.hist(histtype='step', density = True, range=range1, bins=bins1, \\\n",
    "                                        linewidth=2, alpha=0.7, label=label1, \\\n",
    "                                        figsize = (12, 5)).set(xlabel = xlabel, \\\n",
    "                                                                ylabel = ylabel)\n",
    "    data2.hist(histtype='step', density = True, range=range2, bins=bins2, \\\n",
    "                                            linewidth=2, alpha=0.7, label=label2)\n",
    "    plt.legend()\n",
    "    plt.title(title);"
   ]
  },
  {
   "cell_type": "code",
   "execution_count": 54,
   "metadata": {},
   "outputs": [
    {
     "data": {
      "image/png": "[encoded data removed]",
      "text/plain": [
       "<Figure size 864x360 with 1 Axes>"
      ]
     },
     "metadata": {
      "needs_background": "light"
     },
     "output_type": "display_data"
    }
   ],
   "source": [
    "step_hist(data[data.tariff == 'smart'].m_minutes, data[data.tariff == 'ultra'].m_minutes, \\\n",
    "          'smart', 'ultra', (0, 3000), (0, 3000), 50, 50, \\\n",
    "          'Среднее количество минут звонков в месяц', 'Плотность вероятности', \n",
    "          'Гистограмма плотностей по использованию минут')"
   ]
  },
  {
   "cell_type": "markdown",
   "metadata": {},
   "source": [
    "В тариф \"Smart\" включено только 500 минут, а в тариф \"Ultra\" - целых 3000 минут. Поэтому неудивительно, что клиенты на тарифе \"Ultra\" чаще склонны тратить более 500 минут в месяц. \n",
    "\n",
    "Среди клиентов на тарифе \"Smart\" большая часть укладывается в лимит включенных минут. Дисперсия заметно выше среди пользователей тарифа \"Ultra\":"
   ]
  },
  {
   "cell_type": "code",
   "execution_count": 55,
   "metadata": {},
   "outputs": [
    {
     "data": {
      "text/plain": [
       "1195473.1286196862"
      ]
     },
     "execution_count": 55,
     "metadata": {},
     "output_type": "execute_result"
    }
   ],
   "source": [
    "np.var(data[data.tariff == 'smart'].m_minutes, ddof = 1)"
   ]
  },
  {
   "cell_type": "code",
   "execution_count": 56,
   "metadata": {},
   "outputs": [
    {
     "data": {
      "text/plain": [
       "3570438.9625161537"
      ]
     },
     "execution_count": 56,
     "metadata": {},
     "output_type": "execute_result"
    }
   ],
   "source": [
    "np.var(data[data.tariff == 'ultra'].m_minutes, ddof = 1)"
   ]
  },
  {
   "cell_type": "markdown",
   "metadata": {},
   "source": [
    "### Использование SMS-сообщений"
   ]
  },
  {
   "cell_type": "code",
   "execution_count": 57,
   "metadata": {},
   "outputs": [
    {
     "data": {
      "text/plain": [
       "count    351.000000\n",
       "mean      42.144728\n",
       "std       70.160528\n",
       "min        0.000000\n",
       "25%       11.911923\n",
       "50%       31.648352\n",
       "75%       55.549451\n",
       "max      930.000000\n",
       "Name: m_messages, dtype: float64"
      ]
     },
     "execution_count": 57,
     "metadata": {},
     "output_type": "execute_result"
    }
   ],
   "source": [
    "data[data.tariff == 'smart'].m_messages.describe()"
   ]
  },
  {
   "cell_type": "code",
   "execution_count": 58,
   "metadata": {},
   "outputs": [
    {
     "data": {
      "text/plain": [
       "count     149.000000\n",
       "mean       73.496031\n",
       "std       139.547083\n",
       "min         0.000000\n",
       "25%        17.837838\n",
       "50%        48.461538\n",
       "75%        91.111111\n",
       "max      1550.000000\n",
       "Name: m_messages, dtype: float64"
      ]
     },
     "execution_count": 58,
     "metadata": {},
     "output_type": "execute_result"
    }
   ],
   "source": [
    "data[data.tariff == 'ultra'].m_messages.describe()"
   ]
  },
  {
   "cell_type": "markdown",
   "metadata": {},
   "source": [
    "В тариф \"Smart\" включено всего 50 сообщений в месяц, а в тариф \"Ultra\" - целых 1000. Так что здесь та же тенденция, что и с минутами: пользователи \"Ultra\" в среднем отправляют чуть ли не вдвое больше сообщений, чем пользователи \"Smart\" (76 против 41, соответственно).\n",
    "\n",
    "Большинство пользователей \"Smart\" укладывается в скромный пакет SMS, включенный в тариф. А вот среди клиентов на тарифе \"Ultra\" много тех, кто не ограничивают себя в общении: дисперсия заметно выше, чем у клиентов на \"Smart\"."
   ]
  },
  {
   "cell_type": "code",
   "execution_count": 59,
   "metadata": {},
   "outputs": [
    {
     "name": "stdout",
     "output_type": "stream",
     "text": [
      "Дисперсия распределения среднемесячного количества сообщений на тарифе \"Smart\": 4908\n",
      "Дисперсия распределения среднемесячного количества сообщений на тарифе \"Ultra\": 19343\n"
     ]
    }
   ],
   "source": [
    "print('Дисперсия распределения среднемесячного количества сообщений на тарифе \"Smart\":', round(np.var(data[data.tariff == 'smart'].m_messages)))\n",
    "print('Дисперсия распределения среднемесячного количества сообщений на тарифе \"Ultra\":', round(np.var(data[data.tariff == 'ultra'].m_messages)))"
   ]
  },
  {
   "cell_type": "code",
   "execution_count": 60,
   "metadata": {},
   "outputs": [
    {
     "data": {
      "image/png": "[encoded data removed]",
      "text/plain": [
       "<Figure size 864x360 with 1 Axes>"
      ]
     },
     "metadata": {
      "needs_background": "light"
     },
     "output_type": "display_data"
    }
   ],
   "source": [
    "step_hist(data[data.tariff == 'smart'].m_messages, data[data.tariff == 'ultra'].m_messages, \\\n",
    "          'smart', 'ultra', (0, 400), (0, 400), 40, 40, \\\n",
    "          'Среднее количество SMS-сообщений в месяц', 'Плотность вероятности', 'Гистограмма плотностей по количеству SMS-сообщений')"
   ]
  },
  {
   "cell_type": "markdown",
   "metadata": {},
   "source": [
    "На графике хорошо заметно, что многие абоненты почти не пользуются SMS-сообщениями. С ростом популярности мессенджеров обмен SMS-сообщениями теряет свою актуальность."
   ]
  },
  {
   "cell_type": "markdown",
   "metadata": {},
   "source": [
    "### Использование интернет-трафика"
   ]
  },
  {
   "cell_type": "code",
   "execution_count": 61,
   "metadata": {},
   "outputs": [
    {
     "data": {
      "text/plain": [
       "count       351.000000\n",
       "mean      23047.263576\n",
       "std       46720.677544\n",
       "min           0.000000\n",
       "25%       15001.140839\n",
       "50%       17674.723404\n",
       "75%       20426.104972\n",
       "max      602040.000000\n",
       "Name: m_mb_used, dtype: float64"
      ]
     },
     "execution_count": 61,
     "metadata": {},
     "output_type": "execute_result"
    }
   ],
   "source": [
    "data[data.tariff == 'smart'].m_mb_used.describe()"
   ]
  },
  {
   "cell_type": "code",
   "execution_count": 62,
   "metadata": {},
   "outputs": [
    {
     "data": {
      "text/plain": [
       "count       149.000000\n",
       "mean      28878.827120\n",
       "std       66781.667668\n",
       "min           0.000000\n",
       "25%       16069.578947\n",
       "50%       21145.542169\n",
       "75%       29239.385965\n",
       "max      798210.000000\n",
       "Name: m_mb_used, dtype: float64"
      ]
     },
     "execution_count": 62,
     "metadata": {},
     "output_type": "execute_result"
    }
   ],
   "source": [
    "data[data.tariff == 'ultra'].m_mb_used.describe()"
   ]
  },
  {
   "cell_type": "code",
   "execution_count": 63,
   "metadata": {
    "scrolled": false
   },
   "outputs": [
    {
     "data": {
      "image/png": "[encoded data removed]",
      "text/plain": [
       "<Figure size 864x360 with 1 Axes>"
      ]
     },
     "metadata": {
      "needs_background": "light"
     },
     "output_type": "display_data"
    }
   ],
   "source": [
    "step_hist(data[data.tariff == 'smart'].m_mb_used, data[data.tariff == 'ultra'].m_mb_used, \\\n",
    "          'smart', 'ultra', (0, 30000), (0, 30000), 60, 60, \\\n",
    "          'Средний объем интернет-трафика за месяц, Мб', 'Плотность вероятности', 'Гистограмма плотностей по объему интернет-трафика')"
   ]
  },
  {
   "cell_type": "markdown",
   "metadata": {},
   "source": [
    "В \"Smart\" включено 15 Гб, а в \"Ultra\" - 30 Гб. Только каждый четвертый абонент на тарифе \"Smart\" укладывается в лимит. Большинству приходится доплачивать за интернет-трафик сверх абонентской платы.\n",
    "\n",
    "Пользователи \"Ultra\" в большинстве своем укладываются в лимит своего тарифа (30 Гб), но ведь и абонентская плата у них в 3 с лишним раза выше. \n",
    "\n",
    "Интересно, кто же в итоге в выигрыше? Скоро узнаем."
   ]
  },
  {
   "cell_type": "code",
   "execution_count": 64,
   "metadata": {
    "scrolled": true
   },
   "outputs": [
    {
     "data": {
      "text/html": [
       "<div>\n",
       "<style scoped>\n",
       "    .dataframe tbody tr th:only-of-type {\n",
       "        vertical-align: middle;\n",
       "    }\n",
       "\n",
       "    .dataframe tbody tr th {\n",
       "        vertical-align: top;\n",
       "    }\n",
       "\n",
       "    .dataframe thead tr th {\n",
       "        text-align: left;\n",
       "    }\n",
       "</style>\n",
       "<table border=\"1\" class=\"dataframe\">\n",
       "  <thead>\n",
       "    <tr>\n",
       "      <th></th>\n",
       "      <th>tariff</th>\n",
       "      <th colspan=\"3\" halign=\"left\">m_minutes</th>\n",
       "      <th colspan=\"3\" halign=\"left\">m_messages</th>\n",
       "      <th colspan=\"3\" halign=\"left\">m_mb_used</th>\n",
       "    </tr>\n",
       "    <tr>\n",
       "      <th></th>\n",
       "      <th></th>\n",
       "      <th>mean</th>\n",
       "      <th>median</th>\n",
       "      <th>var</th>\n",
       "      <th>mean</th>\n",
       "      <th>median</th>\n",
       "      <th>var</th>\n",
       "      <th>mean</th>\n",
       "      <th>median</th>\n",
       "      <th>var</th>\n",
       "    </tr>\n",
       "  </thead>\n",
       "  <tbody>\n",
       "    <tr>\n",
       "      <th>0</th>\n",
       "      <td>smart</td>\n",
       "      <td>584.544367</td>\n",
       "      <td>464.390244</td>\n",
       "      <td>1.195473e+06</td>\n",
       "      <td>42.144728</td>\n",
       "      <td>31.648352</td>\n",
       "      <td>4922.499673</td>\n",
       "      <td>23047.263576</td>\n",
       "      <td>17674.723404</td>\n",
       "      <td>2.182822e+09</td>\n",
       "    </tr>\n",
       "    <tr>\n",
       "      <th>1</th>\n",
       "      <td>ultra</td>\n",
       "      <td>777.901708</td>\n",
       "      <td>587.368421</td>\n",
       "      <td>3.570439e+06</td>\n",
       "      <td>73.496031</td>\n",
       "      <td>48.461538</td>\n",
       "      <td>19473.388451</td>\n",
       "      <td>28878.827120</td>\n",
       "      <td>21145.542169</td>\n",
       "      <td>4.459791e+09</td>\n",
       "    </tr>\n",
       "  </tbody>\n",
       "</table>\n",
       "</div>"
      ],
      "text/plain": [
       "  tariff   m_minutes                           m_messages             \\\n",
       "                mean      median           var       mean     median   \n",
       "0  smart  584.544367  464.390244  1.195473e+06  42.144728  31.648352   \n",
       "1  ultra  777.901708  587.368421  3.570439e+06  73.496031  48.461538   \n",
       "\n",
       "                    m_mb_used                              \n",
       "            var          mean        median           var  \n",
       "0   4922.499673  23047.263576  17674.723404  2.182822e+09  \n",
       "1  19473.388451  28878.827120  21145.542169  4.459791e+09  "
      ]
     },
     "execution_count": 64,
     "metadata": {},
     "output_type": "execute_result"
    }
   ],
   "source": [
    "data.groupby('tariff')[['m_minutes', 'm_messages', 'm_mb_used']].agg([np.mean, np.median, np.var]).reset_index()"
   ]
  },
  {
   "cell_type": "markdown",
   "metadata": {},
   "source": [
    "Итак, мы выяснили, как отличается поведение пользователей двух тарифов по использованию минут, SMS-сообщений и интернет-трафика. Осталось узнать главное: отличаются ли абоненты на тарифах \"Smart\" и \"Ultra\" по выручке, которую они приносят \"Мегалайну\"."
   ]
  },
  {
   "cell_type": "markdown",
   "metadata": {},
   "source": [
    "## Проверка гипотез<a id = 'hypotheses'></a>"
   ]
  },
  {
   "cell_type": "markdown",
   "metadata": {},
   "source": [
    "### Гипотеза №1"
   ]
  },
  {
   "cell_type": "markdown",
   "metadata": {},
   "source": [
    "Проверим гипотезу о том, что средняя выручка пользователей тарифов «Ультра» и «Смарт» различается:\n",
    "    - нулевая гипотеза: средняя выручка на двух тарифах одинаковая;\n",
    "    - альтернативная гипотеза: средняя выручка различается."
   ]
  },
  {
   "cell_type": "markdown",
   "metadata": {},
   "source": [
    "Сначала вычислим среднюю выручку пользователей двух тарифов на данных нашей выборки:"
   ]
  },
  {
   "cell_type": "code",
   "execution_count": 65,
   "metadata": {},
   "outputs": [
    {
     "data": {
      "text/plain": [
       "2737.937939362339"
      ]
     },
     "execution_count": 65,
     "metadata": {},
     "output_type": "execute_result"
    }
   ],
   "source": [
    "data[data.tariff == 'smart'].income.mean()"
   ]
  },
  {
   "cell_type": "code",
   "execution_count": 66,
   "metadata": {},
   "outputs": [
    {
     "data": {
      "text/plain": [
       "3340.441341807501"
      ]
     },
     "execution_count": 66,
     "metadata": {},
     "output_type": "execute_result"
    }
   ],
   "source": [
    "data[data.tariff == 'ultra'].income.mean()"
   ]
  },
  {
   "cell_type": "markdown",
   "metadata": {},
   "source": [
    "Средняя выручка с абонента с тарифом \"Ultra\" в среднем выше, чем с абонента \"Smart\". При этом разница не так велика, как можно было бы ожидать, зная, что абонентская плата на тарифе \"Ultra\" в 3 с лишним раза выше, чем на тарифе \"Smart\"."
   ]
  },
  {
   "cell_type": "code",
   "execution_count": 67,
   "metadata": {},
   "outputs": [
    {
     "data": {
      "image/png": "[encoded data removed]",
      "text/plain": [
       "<Figure size 432x288 with 1 Axes>"
      ]
     },
     "metadata": {
      "needs_background": "light"
     },
     "output_type": "display_data"
    }
   ],
   "source": [
    "x = np.sort(data[(data.tariff == 'smart') & (data.income < 4000)].income)\n",
    "y = np.arange(1, len(x) + 1) / len(x)\n",
    "plt.plot(x, y, marker = '.', linestyle = 'none')\n",
    "plt.title('Распределение средней выручки с пользователя тарифа \"Smart\"')\n",
    "plt.xlabel('Средняя выручка с пользователя за месяц')\n",
    "plt.ylabel('Доля пользователей');"
   ]
  },
  {
   "cell_type": "code",
   "execution_count": 68,
   "metadata": {},
   "outputs": [
    {
     "data": {
      "image/png": "[encoded data removed]",
      "text/plain": [
       "<Figure size 432x288 with 1 Axes>"
      ]
     },
     "metadata": {
      "needs_background": "light"
     },
     "output_type": "display_data"
    }
   ],
   "source": [
    "x = np.sort(data[(data.tariff == 'ultra') & (data.income < 4000) & (data.income > 1800)].income)\n",
    "y = np.arange(1, len(x) + 1) / len(x)\n",
    "plt.plot(x, y, marker = '.', linestyle = 'none')\n",
    "plt.title('Распределение средней выручки с пользователя тарифа \"Ultra\"')\n",
    "plt.xlabel('Средняя выручка с пользователя за месяц')\n",
    "plt.ylabel('Доля пользователей');"
   ]
  },
  {
   "cell_type": "markdown",
   "metadata": {},
   "source": [
    "Больше 80% пользователей тарифа \"Smart\" тратят больше, чем 550 руб / мес. (размер абонентской платы).\n",
    "\n",
    "Больше 80% пользователей тарифа \"Ultra\" ничего не платят сверх абонентской платы (1950 руб / мес.).\n",
    "\n",
    "У абонентов \"Ultra\" высокая абонентская плата, а абоненты \"Smart\" много переплачивают сверх абонентской платы. При этом на обоих тарифах много пользователей, которые тратят сильно больше, чем остальные. В итоге получается, что среднее арифметическое выручки клиентов на тарифах \"Smart\" и \"Ultra\" отличается не так уж сильно."
   ]
  },
  {
   "cell_type": "markdown",
   "metadata": {},
   "source": [
    "Мы знаем, что средняя выручка с пользователя тарифа \"Ultra\" выше, чем средняя выручка с пользователя тарифа \"Smart\". Но наша выборка сравнительно небольшая. Можно ли считать это различие статистически значимым?"
   ]
  },
  {
   "cell_type": "code",
   "execution_count": 69,
   "metadata": {},
   "outputs": [
    {
     "data": {
      "text/plain": [
       "1.1849080620576853"
      ]
     },
     "execution_count": 69,
     "metadata": {},
     "output_type": "execute_result"
    }
   ],
   "source": [
    "np.var(data[data.tariff == 'smart'].income) / np.var(data[data.tariff == 'ultra'].income)"
   ]
  },
  {
   "cell_type": "markdown",
   "metadata": {},
   "source": [
    "Разница в дисперсии двух выборок небольшая. Учтем это при использовании метода scipy.stats.ttest_ind."
   ]
  },
  {
   "cell_type": "code",
   "execution_count": 70,
   "metadata": {},
   "outputs": [
    {
     "name": "stdout",
     "output_type": "stream",
     "text": [
      "p-значение:  0.6100418472230837\n",
      "Не получилось отвергнуть нулевую гипотезу\n"
     ]
    }
   ],
   "source": [
    "alpha = 0.05\n",
    "results = st.ttest_ind(data[data.tariff == 'smart'].income, data[data.tariff == 'ultra'].income, equal_var = True)\n",
    "print('p-значение: ', results.pvalue)\n",
    "    \n",
    "if results.pvalue < alpha:\n",
    "    print(\"Отвергаем нулевую гипотезу\")\n",
    "else:\n",
    "    print(\"Не получилось отвергнуть нулевую гипотезу\")"
   ]
  },
  {
   "cell_type": "markdown",
   "metadata": {},
   "source": [
    "Таким образом, по данным нашей выборки у нас нет оснований отвергнуть нулевую гипотезу о равенстве средней выручки с пользователей \"Smart\" и \"Ultra\". Если собрать данные по всем клиентам \"Мегалайна\", может оказаться, что абоненты на тарифе \"Smart\" приносят компании столько же денег, сколько и абоненты на тарифе \"Ultra\"."
   ]
  },
  {
   "cell_type": "markdown",
   "metadata": {},
   "source": [
    "### Гипотеза №2"
   ]
  },
  {
   "cell_type": "markdown",
   "metadata": {},
   "source": [
    "Проверим вторую гипотезу - о том, что средняя выручка пользователей из Москвы отличается от выручки пользователей из других регионов. В Москве самый высокий уровень зарплат, так что вполне возможно, что люди тратят больше на мобильную связь.\n",
    "\n",
    "- Нулевая гипотеза: средняя выручка с пользователя из Москвы не отличается от средней выручки с пользователя из другого региона.\n",
    "- Альтернативная гипотеза: средняя выручка с пользователя из Москвы отличается от средней выручки с пользователя из другого региона.\n",
    "\n",
    "Сравним средние показатели по москвичам и жителям других городов по нашей выборке, а также оценим дисперсию."
   ]
  },
  {
   "cell_type": "code",
   "execution_count": 71,
   "metadata": {},
   "outputs": [
    {
     "data": {
      "text/plain": [
       "2081.8559398801704"
      ]
     },
     "execution_count": 71,
     "metadata": {},
     "output_type": "execute_result"
    }
   ],
   "source": [
    "data[data.city == 'Москва'].income.mean()"
   ]
  },
  {
   "cell_type": "code",
   "execution_count": 72,
   "metadata": {},
   "outputs": [
    {
     "data": {
      "text/plain": [
       "3123.786131165491"
      ]
     },
     "execution_count": 72,
     "metadata": {},
     "output_type": "execute_result"
    }
   ],
   "source": [
    "data[data.city != 'Москва'].income.mean()"
   ]
  },
  {
   "cell_type": "markdown",
   "metadata": {},
   "source": [
    "Как ни странно, по данным нашей выборки москвичи в среднем тратят меньше. Является ли эта разница статистически значимой?"
   ]
  },
  {
   "cell_type": "code",
   "execution_count": 73,
   "metadata": {},
   "outputs": [
    {
     "data": {
      "text/plain": [
       "8.538248956040858"
      ]
     },
     "execution_count": 73,
     "metadata": {},
     "output_type": "execute_result"
    }
   ],
   "source": [
    "np.var(data[data.city != 'Москва'].income) / np.var(data[data.city == 'Москва'].income)"
   ]
  },
  {
   "cell_type": "code",
   "execution_count": 74,
   "metadata": {},
   "outputs": [
    {
     "name": "stdout",
     "output_type": "stream",
     "text": [
      "p-значение:  0.19682175209704503\n",
      "Не получилось отвергнуть нулевую гипотезу\n"
     ]
    }
   ],
   "source": [
    "alpha = 0.05\n",
    "results = st.ttest_ind(data[data.city == 'Москва'].income, data[data.city != 'Москва'].income, equal_var = False)\n",
    "print('p-значение: ', results.pvalue)\n",
    "    \n",
    "if results.pvalue < alpha:\n",
    "    print(\"Отвергаем нулевую гипотезу\")\n",
    "else:\n",
    "    print(\"Не получилось отвергнуть нулевую гипотезу\")"
   ]
  },
  {
   "cell_type": "markdown",
   "metadata": {},
   "source": [
    "Таким образом, у нас нет оснований утверждать, что жители Москвы приносят компании больше денег, чем жители других регионов. Возможно, сделать статистически значимые выводы удастся на большем объеме данных."
   ]
  },
  {
   "cell_type": "markdown",
   "metadata": {},
   "source": [
    "Итак, мы проверили две гипотезы и по данным нашей выборки не смогли сделать статистически значимых выводов."
   ]
  },
  {
   "cell_type": "markdown",
   "metadata": {},
   "source": [
    "## Выводы<a id = 'summary'></a>"
   ]
  },
  {
   "cell_type": "markdown",
   "metadata": {},
   "source": [
    "- Абонентская плата на тарифе \"Smart\" **в 3.5 раза ниже**, чем на \"Ultra\", и вероятно поэтому **тариф \"Smart\" пользуется большей популярностью**: в нашей выборке 70% пользователей выбрали именно его.\n",
    "\n",
    "\n",
    "- **Пользователи тарифа \"Ultra\" в среднем разговаривают больше, чем пользователи \"Smart\"**: около 19 минут в день и около 15 минут в день, соответственно. \n",
    "\n",
    "\n",
    "- Среди клиентов на тарифе \"Smart\" большая часть укладывается в пакет включенных минут (500). В тариф \"Ultra\" включено целых 3000 минут, так что пользователи этого тарифа чаще разговаривают более 500 минут в месяц.\n",
    "\n",
    "\n",
    "- **Пользователи \"Ultra\" в среднем отправляют чуть ли не вдвое больше сообщений, чем пользователи \"Smart\"** (76 против 41, соответственно).\n",
    "\n",
    "\n",
    "- При этом **многие абоненты вообще почти не пользуются SMS-сообщениями**. С ростом популярности мессенджеров обмен SMS-сообщениями теряет свою актуальность.\n",
    "\n",
    "\n",
    "- Если минут и сообщений, включенных в абонентскую плату, большинству абонентов на тарифе \"Smart\" достаточно, то с интернет-трафиком ситуация иная. Только каждый четвертый абонент укладывается в лимит 15 Гб. **Большинству абонентов на тарифе \"Smart\" приходится доплачивать за интернет-трафик сверх абонентской платы**.\n",
    "\n",
    "\n",
    "- **Большинство (более 80%) пользователей тарифа \"Smart\" тратят больше, чем 550 руб / мес. (размер абонентской платы)**. Большинство (более 80%) пользователей тарифа \"Ultra\" ничего не платят сверх абонентской платы (1950 руб / мес.).\n",
    "\n",
    "\n",
    "- У абонентов \"Ultra\" высокая абонентская плата, а абоненты \"Smart\" много переплачивают сверх абонентской платы. При этом на обоих тарифах много пользователей, которые тратят сильно больше, чем остальные. В итоге получается, что **средние показатели выручки с клиентов на тарифах \"Smart\" и \"Ultra\" сопоставимы между собой**.\n",
    "\n",
    "\n",
    "- По данным нашей выборки **нет оснований отвергнуть нулевую гипотезу о равенстве средней выручки с пользователей \"Smart\" и \"Ultra\"**.\n",
    "\n",
    "\n",
    "- После проведения статистического текста у нас также **нет оснований утверждать, что жители Москвы приносят компании больше денег, чем жители других регионов**. "
   ]
  },
  {
   "cell_type": "code",
   "execution_count": null,
   "metadata": {},
   "outputs": [],
   "source": []
  }
 ],
 "metadata": {
  "kernelspec": {
   "display_name": "Python 3",
   "language": "python",
   "name": "python3"
  },
  "language_info": {
   "codemirror_mode": {
    "name": "ipython",
    "version": 3
   },
   "file_extension": ".py",
   "mimetype": "text/x-python",
   "name": "python",
   "nbconvert_exporter": "python",
   "pygments_lexer": "ipython3",
   "version": "3.7.6"
  }
 },
 "nbformat": 4,
 "nbformat_minor": 2
}
