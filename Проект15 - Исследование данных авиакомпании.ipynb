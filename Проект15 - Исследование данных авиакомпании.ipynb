{
  "nbformat": 4,
  "nbformat_minor": 0,
  "metadata": {
    "colab": {
      "name": "Проект15 - Исследование данных авиакомпании.ipynb",
      "provenance": []
    },
    "kernelspec": {
      "name": "python3",
      "display_name": "Python 3"
    },
    "language_info": {
      "name": "python"
    }
  },
  "cells": [
    {
      "cell_type": "markdown",
      "metadata": {
        "id": "TtQHw28AlTUq"
      },
      "source": [
        "# Исследование данных авиакомпании"
      ]
    },
    {
      "cell_type": "markdown",
      "metadata": {
        "id": "jKVsDUXrlgFp"
      },
      "source": [
        "Российская авиакомпания F9 выполняет внутренние пассажирские перевозки. Нужно извлечь данные из базы с помощью SQL-запросов и проанализировать спрос на рейсы в города, где проходят крупнейшие культурные фестивали."
      ]
    },
    {
      "cell_type": "markdown",
      "metadata": {
        "id": "UuE9zzYlAM4V"
      },
      "source": [
        "## Извлечение данных"
      ]
    },
    {
      "cell_type": "markdown",
      "metadata": {
        "id": "FuFW0qz3mcuZ"
      },
      "source": [
        "Найдём количество рейсов на каждой модели самолёта с вылетом в сентябре 2018 года. Назовём получившееся поле flights_amount:\n",
        "\n",
        "\n",
        "\n",
        "---\n",
        "\n",
        "```\n",
        "SELECT\n",
        "    aircrafts.model AS model,\n",
        "    COUNT(flights.flight_id) AS flights_amount\n",
        "FROM\n",
        "    flights\n",
        "    INNER JOIN aircrafts ON flights.aircraft_code = aircrafts.aircraft_code\n",
        "WHERE\n",
        "    DATE_TRUNC('MONTH', flights.departure_time) :: date = '2018-09-01'\n",
        "GROUP BY\n",
        "    model\n",
        "```\n",
        "\n"
      ]
    },
    {
      "cell_type": "markdown",
      "metadata": {
        "id": "Xh-hFZ1hnYXm"
      },
      "source": [
        "\n",
        "---\n",
        "\n",
        "\n",
        "```\n",
        "MODEL\tFLIGHTS_AMOUNT\n",
        "Airbus A319-100\t607\n",
        "Airbus A321-200\t960\n",
        "Boeing 737-300\t630\n",
        "Boeing 767-300\t600\n",
        "Boeing 777-300\t300\n",
        "Bombardier CRJ-200\t4446\n",
        "Cessna 208 Caravan\t4557\n",
        "Sukhoi SuperJet-100\t4185\n",
        "\n",
        "```\n",
        "\n",
        "\n"
      ]
    },
    {
      "cell_type": "markdown",
      "metadata": {
        "id": "pGFo1dUYoB_H"
      },
      "source": [
        "Для удобства выведем отдельно: \n",
        "\n",
        "* Boeing,\n",
        "* Airbus,\n",
        "* другие (“other”):"
      ]
    },
    {
      "cell_type": "markdown",
      "metadata": {
        "id": "4dz2eaPyojhV"
      },
      "source": [
        "\n",
        "\n",
        "---\n",
        "\n",
        "\n",
        "\n",
        "```\n",
        "SELECT\n",
        "    CASE \n",
        "    WHEN aircrafts.model LIKE 'Boeing%' THEN 'Boeing'\n",
        "    WHEN aircrafts.model LIKE 'Airbus%' THEN 'Airbus'\n",
        "    ELSE 'other'\n",
        "    END\n",
        "    AS aircraft_model,\n",
        "    COUNT(flights.flight_id) AS flights_amount\n",
        "FROM\n",
        "    flights\n",
        "    INNER JOIN aircrafts ON flights.aircraft_code = aircrafts.aircraft_code\n",
        "WHERE\n",
        "    DATE_TRUNC('MONTH', flights.departure_time) :: date = '2018-09-01'\n",
        "GROUP BY\n",
        "    aircraft_model\n",
        "```\n",
        "\n"
      ]
    },
    {
      "cell_type": "markdown",
      "metadata": {
        "id": "luPdoU4Doucy"
      },
      "source": [
        "\n",
        "\n",
        "---\n",
        "\n",
        "\n",
        "\n",
        "```\n",
        "AIRCRAFT_MODEL\tFLIGHTS_AMOUNT\n",
        "Airbus\t1567\n",
        "Boeing\t1530\n",
        "other\t13188\n",
        "```\n",
        "\n",
        "\n",
        "\n",
        "\n"
      ]
    },
    {
      "cell_type": "markdown",
      "metadata": {
        "id": "XY2I_tBUpQog"
      },
      "source": [
        "Посчитаем среднее количество прибывающих рейсов в день для каждого города за сентябрь 2018 года. Назовём получившееся поле average_flights:"
      ]
    },
    {
      "cell_type": "markdown",
      "metadata": {
        "id": "pPJGp7v5pgRe"
      },
      "source": [
        "\n",
        "\n",
        "---\n",
        "\n",
        "\n",
        "\n",
        "```\n",
        "SELECT\n",
        "    sub.city AS city,\n",
        "    AVG(sub.flights_to_airport) AS average_flights\n",
        "FROM (\n",
        "    SELECT\n",
        "        airports.city AS city,\n",
        "        COUNT(flights.flight_id) AS flights_to_airport\n",
        "    FROM\n",
        "        flights\n",
        "        INNER JOIN airports ON flights.arrival_airport = airports.airport_code\n",
        "    WHERE\n",
        "        DATE_TRUNC('DAY', flights.arrival_time) :: date BETWEEN '2018-09-01'\n",
        "        AND '2018-09-30'\n",
        "    GROUP BY\n",
        "        airports.city,\n",
        "        EXTRACT(DAY FROM flights.arrival_time)) as sub\n",
        "GROUP BY\n",
        "    sub.city\n",
        "```\n",
        "\n"
      ]
    },
    {
      "cell_type": "markdown",
      "metadata": {
        "id": "IVvbj5mVpokA"
      },
      "source": [
        "\n",
        "\n",
        "---\n",
        "\n",
        "\n",
        "\n",
        "```\n",
        "CITY\tAVERAGE_FLIGHTS\n",
        "Абакан\t3.87097\n",
        "Анадырь\t1\n",
        "Анапа\t2.16129\n",
        "Архангельск\t5.35484\n",
        "Астрахань\t2.45161\n",
        "Барнаул\t2.6129\n",
        "Белгород\t6\n",
        "Белоярский\t2\n",
        "Благовещенск\t1\n",
        "Братск\t1\n",
        "Брянск\t10\n",
        "Бугульма\t3\n",
        "Владивосток\t3\n",
        "Владикавказ\t2\n",
        "Волгоград\t5.12903\n",
        "Воркута\t4.58065\n",
        "Воронеж\t2\n",
        "Геленджик\t2.59091\n",
        "Горно-Алтайск\t1.3871\n",
        "Грозный\t1.12903\n",
        "Екатеринбург\t11.3226\n",
        "Иваново\t1\n",
        "Ижевск\t1\n",
        "Иркутск\t6.03226\n",
        "Йошкар-Ола\t4.29032\n",
        "Казань\t7.74194\n",
        "Калининград\t2.58065\n",
        "Калуга\t2.03226\n",
        "Кемерово\t2\n",
        "Киров\t6\n",
        "Когалым\t3.16129\n",
        "Комсомольск-на-Амуре\t1\n",
        "Краснодар\t3.90323\n",
        "Красноярск\t11.5806\n",
        "Курган\t3.41935\n",
        "Курск\t2.29032\n",
        "Кызыл\t1.27778\n",
        "Липецк\t1.29412\n",
        "Магадан\t1.35714\n",
        "Магнитогорск\t4\n",
        "Махачкала\t3.29032\n",
        "Минеральные Воды\t3.41935\n",
        "Мирный\t6.29032\n",
        "Москва\t129.774\n",
        "Мурманск\t2\n",
        "Надым\t2.29032\n",
        "Нальчик\t3\n",
        "Нарьян-Мар\t2.6129\n",
        "Нерюнгри\t2.58065\n",
        "Нефтеюганск\t1\n",
        "Нижневартовск\t3.12903\n",
        "Нижнекамск\t3.74194\n",
        "Нижний Новгород\t5.87097\n",
        "Новокузнецк\t6.03226\n",
        "Новосибирск\t17.3226\n",
        "Новый Уренгой\t8.29032\n",
        "Норильск\t2.29032\n",
        "Ноябрьск\t3\n",
        "Нягань\t1\n",
        "Омск\t3.29032\n",
        "Оренбург\t5\n",
        "Орск\t1.59091\n",
        "Пенза\t4\n",
        "Пермь\t10.129\n",
        "Петрозаводск\t5.87097\n",
        "Петропавловск-Камчатский\t1\n",
        "Псков\t1.54839\n",
        "Ростов-на-Дону\t10.1935\n",
        "Салехард\t2\n",
        "Самара\t3\n",
        "Санкт-Петербург\t31.1613\n",
        "Саранск\t2\n",
        "Саратов\t4\n",
        "Советский\t9\n",
        "Сочи\t9.6129\n",
        "Ставрополь\t2\n",
        "Стрежевой\t1\n",
        "Сургут\t8.74194\n",
        "Сыктывкар\t4.12903\n",
        "Тамбов\t4\n",
        "Томск\t4.19355\n",
        "Тюмень\t6.96774\n",
        "Удачный\t3\n",
        "Улан-Удэ\t1.6087\n",
        "Ульяновск\t9.58065\n",
        "Урай\t2\n",
        "Усинск\t1\n",
        "Усть-Илимск\t2.87097\n",
        "Усть-Кут\t1\n",
        "Уфа\t6.29032\n",
        "Ухта\t3\n",
        "Хабаровск\t6.54839\n",
        "Ханты-Мансийск\t8.41935\n",
        "Чебоксары\t5\n",
        "Челябинск\t6.70968\n",
        "Череповец\t2.16129\n",
        "Чита\t1.58065\n",
        "Элиста\t4.87097\n",
        "Южно-Сахалинск\t4.29032\n",
        "Якутск\t2.74194\n",
        "Ярославль\t1.32258\n",
        "\n",
        "```\n",
        "\n"
      ]
    },
    {
      "cell_type": "markdown",
      "metadata": {
        "id": "EBSi4X_tpxUh"
      },
      "source": [
        "Выведем фестивали, которые проходили с 23 июля по 30 сентября 2018 года в Москве, и номер недели, в которую они проходили:"
      ]
    },
    {
      "cell_type": "markdown",
      "metadata": {
        "id": "FOP-J23Np8wK"
      },
      "source": [
        "\n",
        "\n",
        "---\n",
        "\n",
        "\n",
        "\n",
        "```\n",
        "SELECT\n",
        "    festival_name AS festival_name,\n",
        "    EXTRACT(WEEK FROM festival_date) AS festival_week\n",
        "FROM\n",
        "    festivals\n",
        "WHERE\n",
        "    festival_city = 'Москва'\n",
        "    AND DATE_TRUNC('DAY', festival_date) :: date BETWEEN \n",
        "    '2018-07-23' AND '2018-09-30'\n",
        "```\n",
        "\n"
      ]
    },
    {
      "cell_type": "markdown",
      "metadata": {
        "id": "CeExtxggqDWN"
      },
      "source": [
        "\n",
        "\n",
        "---\n",
        "\n",
        "\n",
        "\n",
        "```\n",
        "FESTIVAL_NAME\tFESTIVAL_WEEK\n",
        "Park Live\t30\n",
        "Пикник Афиши\t31\n",
        "Видфест\t36\n",
        "```\n",
        "\n"
      ]
    },
    {
      "cell_type": "markdown",
      "metadata": {
        "id": "LjF1GEMbqN0Y"
      },
      "source": [
        "Для каждой недели с 23 июля по 30 сентября 2018 года посчитаем количество билетов, которые купили на рейсы в Москву. Составим таблицу с номером недели, количеством купленных за неделю билетов, отметкой, проходил ли в эту неделю фестиваль, и названием фестиваля:"
      ]
    },
    {
      "cell_type": "markdown",
      "metadata": {
        "id": "hAY3mG6cqme8"
      },
      "source": [
        "\n",
        "\n",
        "---\n",
        "\n",
        "\n",
        "\n",
        "```\n",
        "SELECT\n",
        "    *\n",
        "FROM\n",
        "        (\n",
        "        SELECT\n",
        "            EXTRACT(WEEK FROM flights.arrival_time) as week_number,\n",
        "            COUNT(ticket_flights.ticket_no) AS ticket_amount\n",
        "        FROM\n",
        "            ticket_flights\n",
        "            INNER JOIN flights ON ticket_flights.flight_id = flights.flight_id\n",
        "        WHERE\n",
        "            flights.arrival_airport IN ('SVO', 'VKO', 'DME')\n",
        "            AND DATE_TRUNC('DAY', flights.arrival_time) :: date BETWEEN \n",
        "                            '2018-07-23' AND '2018-09-30'\n",
        "        GROUP BY\n",
        "            week_number\n",
        "        ORDER BY\n",
        "            week_number) AS sub\n",
        "        LEFT JOIN                    \n",
        "        (\n",
        "        SELECT\n",
        "            EXTRACT(WEEK FROM festival_date) AS festival_week,\n",
        "            festival_name AS festival_name\n",
        "        FROM\n",
        "            festivals\n",
        "        WHERE\n",
        "            festival_city = 'Москва'\n",
        "        AND DATE_TRUNC('DAY', festival_date) :: date BETWEEN \n",
        "                        '2018-07-23' AND '2018-09-30') AS sub2\n",
        "        ON sub.week_number = sub2.festival_week\n",
        "```\n",
        "\n"
      ]
    },
    {
      "cell_type": "markdown",
      "metadata": {
        "id": "4zQTD-Rhqz1_"
      },
      "source": [
        "\n",
        "\n",
        "---\n",
        "\n",
        "\n",
        "\n",
        "```\n",
        "WEEK_NUMBER\tTICKET_AMOUNT\tFESTIVAL_WEEK\tFESTIVAL_NAME\n",
        "30\t43568\t30\tPark Live\n",
        "31\t51034\t31\tПикник Афиши\n",
        "32\t51675\tnan\t\n",
        "33\t51378\tnan\t\n",
        "34\t51492\tnan\t\n",
        "35\t51360\tnan\t\n",
        "36\t51386\t36\tВидфест\n",
        "37\t51670\tnan\t\n",
        "38\t51518\tnan\t\n",
        "39\t51623\tnan\t\n",
        "```\n",
        "\n"
      ]
    },
    {
      "cell_type": "markdown",
      "metadata": {
        "id": "YkdmK3RIAT7L"
      },
      "source": [
        "## Анализ данных"
      ]
    },
    {
      "cell_type": "markdown",
      "metadata": {
        "id": "3jV57DScrMGU"
      },
      "source": [
        "Результаты запросов сохранены в файлы.\n",
        "\n",
        "query_1.csv:\n",
        "\n",
        "* model — модель самолета;\n",
        "* flights_amount — количество рейсов для каждой модели самолетов model в сентябре 2018 года.\n",
        "\n",
        "query_3.csv:\n",
        "\n",
        "* city — город;\n",
        "* average_flights — среднее количество рейсов, прибывающих в город (city) за день в сентябре 2018 года.\n",
        "\n",
        "Выберем топ-10 городов по количеству рейсов и построим графики: \n",
        "* модели самолётов и количество рейсов, \n",
        "* города и количество рейсов, \n",
        "* топ-10 городов и количество рейсов."
      ]
    },
    {
      "cell_type": "code",
      "metadata": {
        "id": "uEi4puZ5oduZ"
      },
      "source": [
        "# импортируем библиотеки\n",
        "import pandas as pd\n",
        "import matplotlib.pyplot as plt"
      ],
      "execution_count": 1,
      "outputs": []
    },
    {
      "cell_type": "code",
      "metadata": {
        "colab": {
          "base_uri": "https://localhost:8080/",
          "height": 300
        },
        "id": "Ql6mq6RT8kkR",
        "outputId": "90f92af9-aa9c-4ecc-d8f7-d6b79d8d79c4"
      },
      "source": [
        "# сохраним файл с моделями самолетов и количеством рейсов в сентябре 2018 года\n",
        "aircrafts = pd.read_csv('/query_1.csv')\n",
        "aircrafts"
      ],
      "execution_count": 2,
      "outputs": [
        {
          "output_type": "execute_result",
          "data": {
            "text/html": [
              "<div>\n",
              "<style scoped>\n",
              "    .dataframe tbody tr th:only-of-type {\n",
              "        vertical-align: middle;\n",
              "    }\n",
              "\n",
              "    .dataframe tbody tr th {\n",
              "        vertical-align: top;\n",
              "    }\n",
              "\n",
              "    .dataframe thead th {\n",
              "        text-align: right;\n",
              "    }\n",
              "</style>\n",
              "<table border=\"1\" class=\"dataframe\">\n",
              "  <thead>\n",
              "    <tr style=\"text-align: right;\">\n",
              "      <th></th>\n",
              "      <th>model</th>\n",
              "      <th>flights_amount</th>\n",
              "    </tr>\n",
              "  </thead>\n",
              "  <tbody>\n",
              "    <tr>\n",
              "      <th>0</th>\n",
              "      <td>Airbus A319-100</td>\n",
              "      <td>607</td>\n",
              "    </tr>\n",
              "    <tr>\n",
              "      <th>1</th>\n",
              "      <td>Airbus A321-200</td>\n",
              "      <td>960</td>\n",
              "    </tr>\n",
              "    <tr>\n",
              "      <th>2</th>\n",
              "      <td>Boeing 737-300</td>\n",
              "      <td>630</td>\n",
              "    </tr>\n",
              "    <tr>\n",
              "      <th>3</th>\n",
              "      <td>Boeing 767-300</td>\n",
              "      <td>600</td>\n",
              "    </tr>\n",
              "    <tr>\n",
              "      <th>4</th>\n",
              "      <td>Boeing 777-300</td>\n",
              "      <td>300</td>\n",
              "    </tr>\n",
              "    <tr>\n",
              "      <th>5</th>\n",
              "      <td>Bombardier CRJ-200</td>\n",
              "      <td>4446</td>\n",
              "    </tr>\n",
              "    <tr>\n",
              "      <th>6</th>\n",
              "      <td>Cessna 208 Caravan</td>\n",
              "      <td>4557</td>\n",
              "    </tr>\n",
              "    <tr>\n",
              "      <th>7</th>\n",
              "      <td>Sukhoi SuperJet-100</td>\n",
              "      <td>4185</td>\n",
              "    </tr>\n",
              "  </tbody>\n",
              "</table>\n",
              "</div>"
            ],
            "text/plain": [
              "                 model  flights_amount\n",
              "0      Airbus A319-100             607\n",
              "1      Airbus A321-200             960\n",
              "2       Boeing 737-300             630\n",
              "3       Boeing 767-300             600\n",
              "4       Boeing 777-300             300\n",
              "5   Bombardier CRJ-200            4446\n",
              "6   Cessna 208 Caravan            4557\n",
              "7  Sukhoi SuperJet-100            4185"
            ]
          },
          "metadata": {
            "tags": []
          },
          "execution_count": 2
        }
      ]
    },
    {
      "cell_type": "code",
      "metadata": {
        "colab": {
          "base_uri": "https://localhost:8080/"
        },
        "id": "vDvqHxIx-r1G",
        "outputId": "2c80ba8a-8827-4f31-c7c0-d0e3da016dd9"
      },
      "source": [
        "# проверим тип данных\n",
        "aircrafts.info()"
      ],
      "execution_count": 3,
      "outputs": [
        {
          "output_type": "stream",
          "text": [
            "<class 'pandas.core.frame.DataFrame'>\n",
            "RangeIndex: 8 entries, 0 to 7\n",
            "Data columns (total 2 columns):\n",
            " #   Column          Non-Null Count  Dtype \n",
            "---  ------          --------------  ----- \n",
            " 0   model           8 non-null      object\n",
            " 1   flights_amount  8 non-null      int64 \n",
            "dtypes: int64(1), object(1)\n",
            "memory usage: 256.0+ bytes\n"
          ],
          "name": "stdout"
        }
      ]
    },
    {
      "cell_type": "markdown",
      "metadata": {
        "id": "0SYRcQAw-0dh"
      },
      "source": [
        "В таблице представлено 8 моделей самолетов (названия в текстовом формате) и количество рейсов в сентябре 2018 года, произведенных на каждой модели (в числовом формате int64)."
      ]
    },
    {
      "cell_type": "code",
      "metadata": {
        "colab": {
          "base_uri": "https://localhost:8080/",
          "height": 365
        },
        "id": "n3RvHV-Z-v_X",
        "outputId": "ed93069c-12b2-49d3-a221-ea8b325f7919"
      },
      "source": [
        "# визуализируем количество рейсов на разных моделях\n",
        "aircrafts.sort_values(by = 'flights_amount', ascending = False).set_index('model')\\\n",
        "                                                                    .plot(kind = 'bar', legend = False)\n",
        "plt.title('Количество рейсов в сентябре 2018 г. по моделям самолетов')\n",
        "plt.xlabel('Модель')\n",
        "plt.ylabel('Количество рейсов')\n",
        "plt.xticks(rotation = 45);"
      ],
      "execution_count": 4,
      "outputs": [
        {
          "output_type": "display_data",
          "data": {
            "image/png": "[encoded data removed]",
            "text/plain": [
              "<Figure size 432x288 with 1 Axes>"
            ]
          },
          "metadata": {
            "tags": [],
            "needs_background": "light"
          }
        }
      ]
    },
    {
      "cell_type": "markdown",
      "metadata": {
        "id": "9eTWFTTS_BZv"
      },
      "source": [
        "Сравнивать количество рейсов на разных моделях в контексте нашей задачи не совсем корректно, поскольку их вместимость отличается в десятки раз.\n",
        "\n",
        "Сравнивать количество рейсов на разных моделях в контексте нашей задачи не совсем корректно, поскольку их вместимость отличается в десятки раз.\n",
        "\n",
        "**Cessna 208 Caravan** активно используется в региональных пассажирских перевозках, но вместимость этой модели - всего 9 пассажиров.\n",
        "<a href = 'https://aviacenter.org/f/samolet_cessna_208b_grand_caravan_ex_dlya_mestnykh_i_regionalnykh_avialiniy_v_rossii_0.pdf'>Источник</a>\n",
        "\n",
        "Вместимость **Bombardier CRJ200** - 50 человек. Эта модель используется, в частности, в чартерной и деловой авиации (например, авиакомпанией Руслайн).\n",
        "<a href = 'https://yandex.ru/turbo/jetvip.ru/s/chastnie-samoleti/bombardier-crj-200/'>Источник</a>\n",
        "\n",
        "Печально известный **Sukhoi Superjet 100** еще эксплуатировался в 2018 году, модель вмещала от 87 до 108 пассажиров.\n",
        "<a href = 'https://ru.wikipedia.org/wiki/Sukhoi_Superjet_100'>Источник</a>\n",
        "\n",
        "Вместимость **Airbus A319-100** - 124-156 человек, **Airbus A321-200** - от 170 до 220 человек, \n",
        "\n",
        "**Boeing 737-300** рассчитан на 150 пассажиров,\n",
        "\n",
        "**Boeing 767-300** вмещает от 218 до 360 пассажиров,\n",
        "\n",
        "**Boeing 777-300** - до 550 человек.\n",
        "\n",
        "Как видим, количество рейсов на нашем графике обратно пропорционально вместимости: количество рейсов на моделях небольшой вместимости измеряется в тысячах, а рейсов на Boeing 777-300 было всего 300, но эта модель вмещает до 550 человек.\n",
        "\n",
        "Возможно, в базе данных представлены не только регулярные пассажирские рейсы, но и чартерные или деловые авиаперелеты.\n",
        "\n",
        "4500 рейсов на Cessna 208 Caravan перевезли не более 40 500 пассажиров. Это количество соответствует примерно 75 рейсам на Boeing 777-300 (при условии, что все билеты проданы). В то же время, большие самолеты не всегда заполняются полностью.\n",
        "\n",
        "Логичнее оценивать количество билетов, проданных на рейсы, выполняющиеся на разных моделях."
      ]
    },
    {
      "cell_type": "code",
      "metadata": {
        "colab": {
          "base_uri": "https://localhost:8080/",
          "height": 423
        },
        "id": "0MSk3nES-3Fa",
        "outputId": "26c1f690-cbc5-4382-f0cd-9035e0100a76"
      },
      "source": [
        "# сохраним файл со средним количеством прибывающих рейсов по городам в сентябре 2018 года\n",
        "cities = pd.read_csv('/query_3.csv')\n",
        "cities"
      ],
      "execution_count": 5,
      "outputs": [
        {
          "output_type": "execute_result",
          "data": {
            "text/html": [
              "<div>\n",
              "<style scoped>\n",
              "    .dataframe tbody tr th:only-of-type {\n",
              "        vertical-align: middle;\n",
              "    }\n",
              "\n",
              "    .dataframe tbody tr th {\n",
              "        vertical-align: top;\n",
              "    }\n",
              "\n",
              "    .dataframe thead th {\n",
              "        text-align: right;\n",
              "    }\n",
              "</style>\n",
              "<table border=\"1\" class=\"dataframe\">\n",
              "  <thead>\n",
              "    <tr style=\"text-align: right;\">\n",
              "      <th></th>\n",
              "      <th>city</th>\n",
              "      <th>average_flights</th>\n",
              "    </tr>\n",
              "  </thead>\n",
              "  <tbody>\n",
              "    <tr>\n",
              "      <th>0</th>\n",
              "      <td>Абакан</td>\n",
              "      <td>3.870968</td>\n",
              "    </tr>\n",
              "    <tr>\n",
              "      <th>1</th>\n",
              "      <td>Анадырь</td>\n",
              "      <td>1.000000</td>\n",
              "    </tr>\n",
              "    <tr>\n",
              "      <th>2</th>\n",
              "      <td>Анапа</td>\n",
              "      <td>2.161290</td>\n",
              "    </tr>\n",
              "    <tr>\n",
              "      <th>3</th>\n",
              "      <td>Архангельск</td>\n",
              "      <td>5.354839</td>\n",
              "    </tr>\n",
              "    <tr>\n",
              "      <th>4</th>\n",
              "      <td>Астрахань</td>\n",
              "      <td>2.451613</td>\n",
              "    </tr>\n",
              "    <tr>\n",
              "      <th>...</th>\n",
              "      <td>...</td>\n",
              "      <td>...</td>\n",
              "    </tr>\n",
              "    <tr>\n",
              "      <th>96</th>\n",
              "      <td>Чита</td>\n",
              "      <td>1.580645</td>\n",
              "    </tr>\n",
              "    <tr>\n",
              "      <th>97</th>\n",
              "      <td>Элиста</td>\n",
              "      <td>4.870968</td>\n",
              "    </tr>\n",
              "    <tr>\n",
              "      <th>98</th>\n",
              "      <td>Южно-Сахалинск</td>\n",
              "      <td>4.290323</td>\n",
              "    </tr>\n",
              "    <tr>\n",
              "      <th>99</th>\n",
              "      <td>Якутск</td>\n",
              "      <td>2.741935</td>\n",
              "    </tr>\n",
              "    <tr>\n",
              "      <th>100</th>\n",
              "      <td>Ярославль</td>\n",
              "      <td>1.322581</td>\n",
              "    </tr>\n",
              "  </tbody>\n",
              "</table>\n",
              "<p>101 rows × 2 columns</p>\n",
              "</div>"
            ],
            "text/plain": [
              "               city  average_flights\n",
              "0            Абакан         3.870968\n",
              "1           Анадырь         1.000000\n",
              "2             Анапа         2.161290\n",
              "3       Архангельск         5.354839\n",
              "4         Астрахань         2.451613\n",
              "..              ...              ...\n",
              "96             Чита         1.580645\n",
              "97           Элиста         4.870968\n",
              "98   Южно-Сахалинск         4.290323\n",
              "99           Якутск         2.741935\n",
              "100       Ярославль         1.322581\n",
              "\n",
              "[101 rows x 2 columns]"
            ]
          },
          "metadata": {
            "tags": []
          },
          "execution_count": 5
        }
      ]
    },
    {
      "cell_type": "code",
      "metadata": {
        "colab": {
          "base_uri": "https://localhost:8080/"
        },
        "id": "XE3AduIF_RNL",
        "outputId": "496b82a9-ebc9-4a99-9920-d195a594d4a5"
      },
      "source": [
        "cities.info()"
      ],
      "execution_count": 6,
      "outputs": [
        {
          "output_type": "stream",
          "text": [
            "<class 'pandas.core.frame.DataFrame'>\n",
            "RangeIndex: 101 entries, 0 to 100\n",
            "Data columns (total 2 columns):\n",
            " #   Column           Non-Null Count  Dtype  \n",
            "---  ------           --------------  -----  \n",
            " 0   city             101 non-null    object \n",
            " 1   average_flights  101 non-null    float64\n",
            "dtypes: float64(1), object(1)\n",
            "memory usage: 1.7+ KB\n"
          ],
          "name": "stdout"
        }
      ]
    },
    {
      "cell_type": "markdown",
      "metadata": {
        "id": "HTs87pCl_Wiy"
      },
      "source": [
        "В таблице представлены данные по 101 городу. Названия городов - в текстовом виде (тип object), среднее количество прибывающих рейсов в день - в числовом формате (тип float64)."
      ]
    },
    {
      "cell_type": "code",
      "metadata": {
        "colab": {
          "base_uri": "https://localhost:8080/",
          "height": 300
        },
        "id": "jyx-sdnw_T7H",
        "outputId": "3e8efac0-59e6-4ded-e78f-de1d9c302ee7"
      },
      "source": [
        "# посмотрим на распределение среднего количества рейсов по городам\n",
        "cities.describe()"
      ],
      "execution_count": 7,
      "outputs": [
        {
          "output_type": "execute_result",
          "data": {
            "text/html": [
              "<div>\n",
              "<style scoped>\n",
              "    .dataframe tbody tr th:only-of-type {\n",
              "        vertical-align: middle;\n",
              "    }\n",
              "\n",
              "    .dataframe tbody tr th {\n",
              "        vertical-align: top;\n",
              "    }\n",
              "\n",
              "    .dataframe thead th {\n",
              "        text-align: right;\n",
              "    }\n",
              "</style>\n",
              "<table border=\"1\" class=\"dataframe\">\n",
              "  <thead>\n",
              "    <tr style=\"text-align: right;\">\n",
              "      <th></th>\n",
              "      <th>average_flights</th>\n",
              "    </tr>\n",
              "  </thead>\n",
              "  <tbody>\n",
              "    <tr>\n",
              "      <th>count</th>\n",
              "      <td>101.000000</td>\n",
              "    </tr>\n",
              "    <tr>\n",
              "      <th>mean</th>\n",
              "      <td>5.494189</td>\n",
              "    </tr>\n",
              "    <tr>\n",
              "      <th>std</th>\n",
              "      <td>13.119790</td>\n",
              "    </tr>\n",
              "    <tr>\n",
              "      <th>min</th>\n",
              "      <td>1.000000</td>\n",
              "    </tr>\n",
              "    <tr>\n",
              "      <th>25%</th>\n",
              "      <td>2.000000</td>\n",
              "    </tr>\n",
              "    <tr>\n",
              "      <th>50%</th>\n",
              "      <td>3.000000</td>\n",
              "    </tr>\n",
              "    <tr>\n",
              "      <th>75%</th>\n",
              "      <td>5.870968</td>\n",
              "    </tr>\n",
              "    <tr>\n",
              "      <th>max</th>\n",
              "      <td>129.774194</td>\n",
              "    </tr>\n",
              "  </tbody>\n",
              "</table>\n",
              "</div>"
            ],
            "text/plain": [
              "       average_flights\n",
              "count       101.000000\n",
              "mean          5.494189\n",
              "std          13.119790\n",
              "min           1.000000\n",
              "25%           2.000000\n",
              "50%           3.000000\n",
              "75%           5.870968\n",
              "max         129.774194"
            ]
          },
          "metadata": {
            "tags": []
          },
          "execution_count": 7
        }
      ]
    },
    {
      "cell_type": "markdown",
      "metadata": {
        "id": "Ap5Quuoc_cqR"
      },
      "source": [
        "Половина всех городов принимала в среднем не более 3 рейсов в день. Среднее (5.5) больше медианы (3), а стандартное отклонение довольно велико (более 13): значит, есть города, куда ежедневно прибывает сильно больше рейсов. Максимальное количество - почти 130 рейсов в день."
      ]
    },
    {
      "cell_type": "code",
      "metadata": {
        "colab": {
          "base_uri": "https://localhost:8080/",
          "height": 295
        },
        "id": "v0grmRsY_ZZF",
        "outputId": "da79b024-ed30-41a0-8734-a5ee03356289"
      },
      "source": [
        "# визуализируем распределение по среднему количеству прибывающих рейсов\n",
        "cities.hist(range = (0,35), bins = 100)\n",
        "plt.title('Распределение по количеству рейсов в сентябре 2018 г.')\n",
        "plt.xlabel('Среднее количество рейсов в день')\n",
        "plt.ylabel('Количество городов');"
      ],
      "execution_count": 8,
      "outputs": [
        {
          "output_type": "display_data",
          "data": {
            "image/png": "[encoded data removed]",
            "text/plain": [
              "<Figure size 432x288 with 1 Axes>"
            ]
          },
          "metadata": {
            "tags": [],
            "needs_background": "light"
          }
        }
      ]
    },
    {
      "cell_type": "code",
      "metadata": {
        "colab": {
          "base_uri": "https://localhost:8080/",
          "height": 363
        },
        "id": "DV839sMl_gor",
        "outputId": "51952a90-3139-4115-927a-28281872a2dc"
      },
      "source": [
        "# посмотрим на Топ-10 городов по среднему количеству прибывающих рейсов в сентябре 2018 г.\n",
        "cities.sort_values(by = 'average_flights', ascending = False).head(10)"
      ],
      "execution_count": 9,
      "outputs": [
        {
          "output_type": "execute_result",
          "data": {
            "text/html": [
              "<div>\n",
              "<style scoped>\n",
              "    .dataframe tbody tr th:only-of-type {\n",
              "        vertical-align: middle;\n",
              "    }\n",
              "\n",
              "    .dataframe tbody tr th {\n",
              "        vertical-align: top;\n",
              "    }\n",
              "\n",
              "    .dataframe thead th {\n",
              "        text-align: right;\n",
              "    }\n",
              "</style>\n",
              "<table border=\"1\" class=\"dataframe\">\n",
              "  <thead>\n",
              "    <tr style=\"text-align: right;\">\n",
              "      <th></th>\n",
              "      <th>city</th>\n",
              "      <th>average_flights</th>\n",
              "    </tr>\n",
              "  </thead>\n",
              "  <tbody>\n",
              "    <tr>\n",
              "      <th>43</th>\n",
              "      <td>Москва</td>\n",
              "      <td>129.774194</td>\n",
              "    </tr>\n",
              "    <tr>\n",
              "      <th>70</th>\n",
              "      <td>Санкт-Петербург</td>\n",
              "      <td>31.161290</td>\n",
              "    </tr>\n",
              "    <tr>\n",
              "      <th>54</th>\n",
              "      <td>Новосибирск</td>\n",
              "      <td>17.322581</td>\n",
              "    </tr>\n",
              "    <tr>\n",
              "      <th>33</th>\n",
              "      <td>Красноярск</td>\n",
              "      <td>11.580645</td>\n",
              "    </tr>\n",
              "    <tr>\n",
              "      <th>20</th>\n",
              "      <td>Екатеринбург</td>\n",
              "      <td>11.322581</td>\n",
              "    </tr>\n",
              "    <tr>\n",
              "      <th>67</th>\n",
              "      <td>Ростов-на-Дону</td>\n",
              "      <td>10.193548</td>\n",
              "    </tr>\n",
              "    <tr>\n",
              "      <th>63</th>\n",
              "      <td>Пермь</td>\n",
              "      <td>10.129032</td>\n",
              "    </tr>\n",
              "    <tr>\n",
              "      <th>10</th>\n",
              "      <td>Брянск</td>\n",
              "      <td>10.000000</td>\n",
              "    </tr>\n",
              "    <tr>\n",
              "      <th>74</th>\n",
              "      <td>Сочи</td>\n",
              "      <td>9.612903</td>\n",
              "    </tr>\n",
              "    <tr>\n",
              "      <th>84</th>\n",
              "      <td>Ульяновск</td>\n",
              "      <td>9.580645</td>\n",
              "    </tr>\n",
              "  </tbody>\n",
              "</table>\n",
              "</div>"
            ],
            "text/plain": [
              "               city  average_flights\n",
              "43           Москва       129.774194\n",
              "70  Санкт-Петербург        31.161290\n",
              "54      Новосибирск        17.322581\n",
              "33       Красноярск        11.580645\n",
              "20     Екатеринбург        11.322581\n",
              "67   Ростов-на-Дону        10.193548\n",
              "63            Пермь        10.129032\n",
              "10           Брянск        10.000000\n",
              "74             Сочи         9.612903\n",
              "84        Ульяновск         9.580645"
            ]
          },
          "metadata": {
            "tags": []
          },
          "execution_count": 9
        }
      ]
    },
    {
      "cell_type": "markdown",
      "metadata": {
        "id": "xr0TgM1-_mV3"
      },
      "source": [
        "Вполне ожидаемо, что с большим отрывом лидирует Москва, следом идет Санкт-Петербург и еще несколько крупных городов."
      ]
    },
    {
      "cell_type": "code",
      "metadata": {
        "colab": {
          "base_uri": "https://localhost:8080/",
          "height": 356
        },
        "id": "Wwli6ho-_jfA",
        "outputId": "5dc50c27-97d2-46b8-da5c-054238b7c48c"
      },
      "source": [
        "# визуализируем Топ-10 городов\n",
        "cities.sort_values(by = 'average_flights', ascending = False).head(10).set_index('city')\\\n",
        "                                                                    .plot(kind = 'bar', legend = False)\n",
        "plt.title('Топ-10 городов по количеству прибывающих рейсов в сентябре 2018 г.')\n",
        "plt.xlabel('Город')\n",
        "plt.ylabel('Среднее количество рейсов в день')\n",
        "plt.xticks(rotation = 45);"
      ],
      "execution_count": 10,
      "outputs": [
        {
          "output_type": "display_data",
          "data": {
            "image/png": "[encoded data removed]",
            "text/plain": [
              "<Figure size 432x288 with 1 Axes>"
            ]
          },
          "metadata": {
            "tags": [],
            "needs_background": "light"
          }
        }
      ]
    },
    {
      "cell_type": "markdown",
      "metadata": {
        "id": "-W7Nu6uM_uAv"
      },
      "source": [
        "Новосибирск, Красноярск, Екатеринбург, Ростов-на-Дону, Пермь - города-миллионники, удаленные от Москвы и Санкт-Петербурга. Логично, что здесь большой пассажиропоток и люди часто предпочитают самолеты другим видам транспорта.\n",
        "\n",
        "Сочи - приморский город, и высокий авиатрафик в сентябре может объясняться сезоном отпусков.\n",
        "\n",
        "Попадание Ульяновска и Брянска в Топ-10 объяснить сложнее. Это может быть связано с какими-то мероприятиями, проходящими в это время, или с другими причинами."
      ]
    },
    {
      "cell_type": "markdown",
      "metadata": {
        "id": "CVlmhZCa_zYQ"
      },
      "source": [
        "## Выводы"
      ]
    },
    {
      "cell_type": "markdown",
      "metadata": {
        "id": "DitjvauD_5H9"
      },
      "source": [
        "Изучили и визуализировали данные за сентябрь 2018 г.:\n",
        "\n",
        "* количество рейсов по моделям самолетов;\n",
        "* среднее количество прибывающих рейсов по городам.\n",
        "\n",
        "Выяснили, что:\n",
        "\n",
        "* Наибольшее количество рейсов приходится на модели самолетов с небольшой вместимостью. В региональных авиаперевозках и деловой авиации активно используются модели, рассчитанные всего на несколько человек или несколько десятков пассажиров. На огромных самолетах, вмещающих сотни человек, выполняется гораздо меньше рейсов.\n",
        "\n",
        "* В течение исследуемого периода большинство городов принимало в среднем не более 5-10 рейсов ежедневно. По количеству рейсов с большим отрывом лидировала Москва (почти 130 рейсов в день), следом идут Санкт-Петербург (31 рейс в день) и города-миллионники: Новосибирск, Красноярск, Екатеринбург, Ростов-на-Дону, Пермь."
      ]
    },
    {
      "cell_type": "code",
      "metadata": {
        "id": "3dQy79nH_osf"
      },
      "source": [
        ""
      ],
      "execution_count": null,
      "outputs": []
    }
  ]
}