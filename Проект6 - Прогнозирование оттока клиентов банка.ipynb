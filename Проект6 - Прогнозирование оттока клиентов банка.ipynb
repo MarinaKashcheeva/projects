{
 "cells": [
  {
   "cell_type": "markdown",
   "metadata": {},
   "source": [
    "# Прогнозирование оттока клиентов банка"
   ]
  },
  {
   "cell_type": "markdown",
   "metadata": {},
   "source": [
    "Из «Бета-Банка» стали уходить клиенты. Каждый месяц. Немного, но заметно. Банковские маркетологи посчитали: сохранять текущих клиентов дешевле, чем привлекать новых.\n",
    "\n",
    "Нужно спрогнозировать, уйдёт клиент из банка в ближайшее время или нет. Имеются исторические данные о поведении клиентов и расторжении договоров с банком:"
   ]
  },
  {
   "cell_type": "markdown",
   "metadata": {},
   "source": [
    "    - RowNumber — индекс строки в данных\n",
    "    - CustomerId — уникальный идентификатор клиента\n",
    "    - Surname — фамилия\n",
    "    - CreditScore — кредитный рейтинг\n",
    "    - Geography — страна проживания\n",
    "    - Gender — пол\n",
    "    - Age — возраст\n",
    "    - Tenure — количество недвижимости у клиента\n",
    "    - Balance — баланс на счёте\n",
    "    - NumOfProducts — количество продуктов банка, используемых клиентом\n",
    "    - HasCrCard — наличие кредитной карты\n",
    "    - IsActiveMember — активность клиента\n",
    "    - EstimatedSalary — предполагаемая зарплата\n",
    "    - Exited — факт ухода клиента"
   ]
  },
  {
   "cell_type": "markdown",
   "metadata": {},
   "source": [
    "***Цель:*** построить модель с предельно большим значением *F1*-меры (от 0.59). \n",
    "\n",
    "***Дополнительно:*** измерить *AUC-ROC*, сравнить её значение с *F1*-мерой."
   ]
  },
  {
   "cell_type": "markdown",
   "metadata": {},
   "source": [
    "### Содержание"
   ]
  },
  {
   "cell_type": "markdown",
   "metadata": {},
   "source": [
    "1. [Подготовка данных](#preprocessing)\n",
    "2. [Исправление дисбаланса классов](#models)\n",
    "3. [Выбор и улучшение модели](#bestmodel)\n",
    "4. [Выводы](#conclusion)"
   ]
  },
  {
   "cell_type": "markdown",
   "metadata": {},
   "source": [
    "# Подготовка данных <a id = 'preprocessing'></id>"
   ]
  },
  {
   "cell_type": "markdown",
   "metadata": {},
   "source": [
    "Импортируем библиотеки, необходимые модули и метрики:"
   ]
  },
  {
   "cell_type": "code",
   "execution_count": 1,
   "metadata": {},
   "outputs": [],
   "source": [
    "import pandas as pd\n",
    "import numpy as np\n",
    "import matplotlib.pyplot as plt\n",
    "from sklearn.ensemble import RandomForestClassifier\n",
    "from sklearn.linear_model import LogisticRegression\n",
    "from sklearn.model_selection import train_test_split\n",
    "from sklearn.metrics import f1_score\n",
    "from sklearn.metrics import roc_curve\n",
    "from sklearn.metrics import roc_auc_score\n",
    "from sklearn.preprocessing import StandardScaler\n",
    "from sklearn.utils import shuffle\n",
    "\n",
    "import warnings\n",
    "warnings.filterwarnings(\"ignore\")"
   ]
  },
  {
   "cell_type": "markdown",
   "metadata": {},
   "source": [
    "Прочитаем файл с историческими данными, сохраним его в переменную `data` и посмотрим на первые строки:"
   ]
  },
  {
   "cell_type": "code",
   "execution_count": 2,
   "metadata": {
    "scrolled": true
   },
   "outputs": [
    {
     "data": {
      "text/html": [
       "<div>\n",
       "<style scoped>\n",
       "    .dataframe tbody tr th:only-of-type {\n",
       "        vertical-align: middle;\n",
       "    }\n",
       "\n",
       "    .dataframe tbody tr th {\n",
       "        vertical-align: top;\n",
       "    }\n",
       "\n",
       "    .dataframe thead th {\n",
       "        text-align: right;\n",
       "    }\n",
       "</style>\n",
       "<table border=\"1\" class=\"dataframe\">\n",
       "  <thead>\n",
       "    <tr style=\"text-align: right;\">\n",
       "      <th></th>\n",
       "      <th>RowNumber</th>\n",
       "      <th>CustomerId</th>\n",
       "      <th>Surname</th>\n",
       "      <th>CreditScore</th>\n",
       "      <th>Geography</th>\n",
       "      <th>Gender</th>\n",
       "      <th>Age</th>\n",
       "      <th>Tenure</th>\n",
       "      <th>Balance</th>\n",
       "      <th>NumOfProducts</th>\n",
       "      <th>HasCrCard</th>\n",
       "      <th>IsActiveMember</th>\n",
       "      <th>EstimatedSalary</th>\n",
       "      <th>Exited</th>\n",
       "    </tr>\n",
       "  </thead>\n",
       "  <tbody>\n",
       "    <tr>\n",
       "      <th>0</th>\n",
       "      <td>1</td>\n",
       "      <td>15634602</td>\n",
       "      <td>Hargrave</td>\n",
       "      <td>619</td>\n",
       "      <td>France</td>\n",
       "      <td>Female</td>\n",
       "      <td>42</td>\n",
       "      <td>2.0</td>\n",
       "      <td>0.00</td>\n",
       "      <td>1</td>\n",
       "      <td>1</td>\n",
       "      <td>1</td>\n",
       "      <td>101348.88</td>\n",
       "      <td>1</td>\n",
       "    </tr>\n",
       "    <tr>\n",
       "      <th>1</th>\n",
       "      <td>2</td>\n",
       "      <td>15647311</td>\n",
       "      <td>Hill</td>\n",
       "      <td>608</td>\n",
       "      <td>Spain</td>\n",
       "      <td>Female</td>\n",
       "      <td>41</td>\n",
       "      <td>1.0</td>\n",
       "      <td>83807.86</td>\n",
       "      <td>1</td>\n",
       "      <td>0</td>\n",
       "      <td>1</td>\n",
       "      <td>112542.58</td>\n",
       "      <td>0</td>\n",
       "    </tr>\n",
       "    <tr>\n",
       "      <th>2</th>\n",
       "      <td>3</td>\n",
       "      <td>15619304</td>\n",
       "      <td>Onio</td>\n",
       "      <td>502</td>\n",
       "      <td>France</td>\n",
       "      <td>Female</td>\n",
       "      <td>42</td>\n",
       "      <td>8.0</td>\n",
       "      <td>159660.80</td>\n",
       "      <td>3</td>\n",
       "      <td>1</td>\n",
       "      <td>0</td>\n",
       "      <td>113931.57</td>\n",
       "      <td>1</td>\n",
       "    </tr>\n",
       "    <tr>\n",
       "      <th>3</th>\n",
       "      <td>4</td>\n",
       "      <td>15701354</td>\n",
       "      <td>Boni</td>\n",
       "      <td>699</td>\n",
       "      <td>France</td>\n",
       "      <td>Female</td>\n",
       "      <td>39</td>\n",
       "      <td>1.0</td>\n",
       "      <td>0.00</td>\n",
       "      <td>2</td>\n",
       "      <td>0</td>\n",
       "      <td>0</td>\n",
       "      <td>93826.63</td>\n",
       "      <td>0</td>\n",
       "    </tr>\n",
       "    <tr>\n",
       "      <th>4</th>\n",
       "      <td>5</td>\n",
       "      <td>15737888</td>\n",
       "      <td>Mitchell</td>\n",
       "      <td>850</td>\n",
       "      <td>Spain</td>\n",
       "      <td>Female</td>\n",
       "      <td>43</td>\n",
       "      <td>2.0</td>\n",
       "      <td>125510.82</td>\n",
       "      <td>1</td>\n",
       "      <td>1</td>\n",
       "      <td>1</td>\n",
       "      <td>79084.10</td>\n",
       "      <td>0</td>\n",
       "    </tr>\n",
       "  </tbody>\n",
       "</table>\n",
       "</div>"
      ],
      "text/plain": [
       "   RowNumber  CustomerId   Surname  CreditScore Geography  Gender  Age  \\\n",
       "0          1    15634602  Hargrave          619    France  Female   42   \n",
       "1          2    15647311      Hill          608     Spain  Female   41   \n",
       "2          3    15619304      Onio          502    France  Female   42   \n",
       "3          4    15701354      Boni          699    France  Female   39   \n",
       "4          5    15737888  Mitchell          850     Spain  Female   43   \n",
       "\n",
       "   Tenure    Balance  NumOfProducts  HasCrCard  IsActiveMember  \\\n",
       "0     2.0       0.00              1          1               1   \n",
       "1     1.0   83807.86              1          0               1   \n",
       "2     8.0  159660.80              3          1               0   \n",
       "3     1.0       0.00              2          0               0   \n",
       "4     2.0  125510.82              1          1               1   \n",
       "\n",
       "   EstimatedSalary  Exited  \n",
       "0        101348.88       1  \n",
       "1        112542.58       0  \n",
       "2        113931.57       1  \n",
       "3         93826.63       0  \n",
       "4         79084.10       0  "
      ]
     },
     "execution_count": 2,
     "metadata": {},
     "output_type": "execute_result"
    }
   ],
   "source": [
    "data = pd.read_csv('churn.csv')\n",
    "data.head()"
   ]
  },
  {
   "cell_type": "markdown",
   "metadata": {},
   "source": [
    "Избавимся от ненужных признаков, которые не несут в себе информации, полезной для обучения модели:"
   ]
  },
  {
   "cell_type": "code",
   "execution_count": 3,
   "metadata": {
    "scrolled": true
   },
   "outputs": [
    {
     "data": {
      "text/html": [
       "<div>\n",
       "<style scoped>\n",
       "    .dataframe tbody tr th:only-of-type {\n",
       "        vertical-align: middle;\n",
       "    }\n",
       "\n",
       "    .dataframe tbody tr th {\n",
       "        vertical-align: top;\n",
       "    }\n",
       "\n",
       "    .dataframe thead th {\n",
       "        text-align: right;\n",
       "    }\n",
       "</style>\n",
       "<table border=\"1\" class=\"dataframe\">\n",
       "  <thead>\n",
       "    <tr style=\"text-align: right;\">\n",
       "      <th></th>\n",
       "      <th>CreditScore</th>\n",
       "      <th>Geography</th>\n",
       "      <th>Gender</th>\n",
       "      <th>Age</th>\n",
       "      <th>Tenure</th>\n",
       "      <th>Balance</th>\n",
       "      <th>NumOfProducts</th>\n",
       "      <th>HasCrCard</th>\n",
       "      <th>IsActiveMember</th>\n",
       "      <th>EstimatedSalary</th>\n",
       "      <th>Exited</th>\n",
       "    </tr>\n",
       "  </thead>\n",
       "  <tbody>\n",
       "    <tr>\n",
       "      <th>0</th>\n",
       "      <td>619</td>\n",
       "      <td>France</td>\n",
       "      <td>Female</td>\n",
       "      <td>42</td>\n",
       "      <td>2.0</td>\n",
       "      <td>0.00</td>\n",
       "      <td>1</td>\n",
       "      <td>1</td>\n",
       "      <td>1</td>\n",
       "      <td>101348.88</td>\n",
       "      <td>1</td>\n",
       "    </tr>\n",
       "    <tr>\n",
       "      <th>1</th>\n",
       "      <td>608</td>\n",
       "      <td>Spain</td>\n",
       "      <td>Female</td>\n",
       "      <td>41</td>\n",
       "      <td>1.0</td>\n",
       "      <td>83807.86</td>\n",
       "      <td>1</td>\n",
       "      <td>0</td>\n",
       "      <td>1</td>\n",
       "      <td>112542.58</td>\n",
       "      <td>0</td>\n",
       "    </tr>\n",
       "    <tr>\n",
       "      <th>2</th>\n",
       "      <td>502</td>\n",
       "      <td>France</td>\n",
       "      <td>Female</td>\n",
       "      <td>42</td>\n",
       "      <td>8.0</td>\n",
       "      <td>159660.80</td>\n",
       "      <td>3</td>\n",
       "      <td>1</td>\n",
       "      <td>0</td>\n",
       "      <td>113931.57</td>\n",
       "      <td>1</td>\n",
       "    </tr>\n",
       "    <tr>\n",
       "      <th>3</th>\n",
       "      <td>699</td>\n",
       "      <td>France</td>\n",
       "      <td>Female</td>\n",
       "      <td>39</td>\n",
       "      <td>1.0</td>\n",
       "      <td>0.00</td>\n",
       "      <td>2</td>\n",
       "      <td>0</td>\n",
       "      <td>0</td>\n",
       "      <td>93826.63</td>\n",
       "      <td>0</td>\n",
       "    </tr>\n",
       "    <tr>\n",
       "      <th>4</th>\n",
       "      <td>850</td>\n",
       "      <td>Spain</td>\n",
       "      <td>Female</td>\n",
       "      <td>43</td>\n",
       "      <td>2.0</td>\n",
       "      <td>125510.82</td>\n",
       "      <td>1</td>\n",
       "      <td>1</td>\n",
       "      <td>1</td>\n",
       "      <td>79084.10</td>\n",
       "      <td>0</td>\n",
       "    </tr>\n",
       "  </tbody>\n",
       "</table>\n",
       "</div>"
      ],
      "text/plain": [
       "   CreditScore Geography  Gender  Age  Tenure    Balance  NumOfProducts  \\\n",
       "0          619    France  Female   42     2.0       0.00              1   \n",
       "1          608     Spain  Female   41     1.0   83807.86              1   \n",
       "2          502    France  Female   42     8.0  159660.80              3   \n",
       "3          699    France  Female   39     1.0       0.00              2   \n",
       "4          850     Spain  Female   43     2.0  125510.82              1   \n",
       "\n",
       "   HasCrCard  IsActiveMember  EstimatedSalary  Exited  \n",
       "0          1               1        101348.88       1  \n",
       "1          0               1        112542.58       0  \n",
       "2          1               0        113931.57       1  \n",
       "3          0               0         93826.63       0  \n",
       "4          1               1         79084.10       0  "
      ]
     },
     "execution_count": 3,
     "metadata": {},
     "output_type": "execute_result"
    }
   ],
   "source": [
    "data = data.drop(['RowNumber', 'CustomerId', 'Surname'], axis = 1)\n",
    "data.head()"
   ]
  },
  {
   "cell_type": "markdown",
   "metadata": {},
   "source": [
    "Узнаем количество наблюдений в датасете и типы данных в разных столбцах:"
   ]
  },
  {
   "cell_type": "code",
   "execution_count": 4,
   "metadata": {},
   "outputs": [
    {
     "name": "stdout",
     "output_type": "stream",
     "text": [
      "<class 'pandas.core.frame.DataFrame'>\n",
      "RangeIndex: 10000 entries, 0 to 9999\n",
      "Data columns (total 11 columns):\n",
      " #   Column           Non-Null Count  Dtype  \n",
      "---  ------           --------------  -----  \n",
      " 0   CreditScore      10000 non-null  int64  \n",
      " 1   Geography        10000 non-null  object \n",
      " 2   Gender           10000 non-null  object \n",
      " 3   Age              10000 non-null  int64  \n",
      " 4   Tenure           9091 non-null   float64\n",
      " 5   Balance          10000 non-null  float64\n",
      " 6   NumOfProducts    10000 non-null  int64  \n",
      " 7   HasCrCard        10000 non-null  int64  \n",
      " 8   IsActiveMember   10000 non-null  int64  \n",
      " 9   EstimatedSalary  10000 non-null  float64\n",
      " 10  Exited           10000 non-null  int64  \n",
      "dtypes: float64(3), int64(6), object(2)\n",
      "memory usage: 859.5+ KB\n"
     ]
    }
   ],
   "source": [
    "data.info()"
   ]
  },
  {
   "cell_type": "markdown",
   "metadata": {},
   "source": [
    "У нас есть 10 000 наблюдений, но в столбце с количеством недвижимости почти 10% данных пропущено.\n",
    "\n",
    "Случайные ли это пропуски? Сравним наблюдения, где есть пропуски, со всеми остальными. Есть ли заметные различия в этих срезах данных?"
   ]
  },
  {
   "cell_type": "code",
   "execution_count": 5,
   "metadata": {
    "scrolled": true
   },
   "outputs": [
    {
     "data": {
      "text/plain": [
       "CreditScore          648.451045\n",
       "Age                   38.647965\n",
       "Tenure                      NaN\n",
       "Balance            76117.341474\n",
       "NumOfProducts          1.530253\n",
       "HasCrCard              0.710671\n",
       "IsActiveMember         0.510451\n",
       "EstimatedSalary    99180.389373\n",
       "Exited                 0.201320\n",
       "dtype: float64"
      ]
     },
     "execution_count": 5,
     "metadata": {},
     "output_type": "execute_result"
    }
   ],
   "source": [
    "data[data.Tenure.isnull()].mean()"
   ]
  },
  {
   "cell_type": "code",
   "execution_count": 6,
   "metadata": {},
   "outputs": [
    {
     "data": {
      "text/plain": [
       "CreditScore           650.736553\n",
       "Age                    38.949181\n",
       "Tenure                  4.997690\n",
       "Balance             76522.740015\n",
       "NumOfProducts           1.530195\n",
       "HasCrCard               0.704983\n",
       "IsActiveMember          0.515565\n",
       "EstimatedSalary    100181.214924\n",
       "Exited                  0.203938\n",
       "dtype: float64"
      ]
     },
     "execution_count": 6,
     "metadata": {},
     "output_type": "execute_result"
    }
   ],
   "source": [
    "data[~data.Tenure.isnull()].mean()"
   ]
  },
  {
   "cell_type": "markdown",
   "metadata": {},
   "source": [
    "Там, где пропущены значения в столбце с недвижимостью, другие признаки распределены примерно так же, как в остальном датасете. Скорее всего, пропуски носят случайный характер. \n",
    "\n",
    "Можно ли заменить их средним или медианой? Посмотрим на распределение данных в столбце с пропусками (`Tenure`):"
   ]
  },
  {
   "cell_type": "code",
   "execution_count": 7,
   "metadata": {},
   "outputs": [
    {
     "data": {
      "image/png": "[encoded data removed]",
      "text/plain": [
       "<Figure size 432x288 with 1 Axes>"
      ]
     },
     "metadata": {
      "needs_background": "light"
     },
     "output_type": "display_data"
    }
   ],
   "source": [
    "data.Tenure.value_counts(dropna = False).sort_index().plot(kind = 'bar', \\\n",
    "                                        title = 'Количество недвижимости у клиентов банка', rot = 0)\n",
    "plt.xlabel('Количество недвижимости')\n",
    "plt.ylabel('Количество клиентов');"
   ]
  },
  {
   "cell_type": "markdown",
   "metadata": {},
   "source": [
    "Распределение количества объектов недвижимости выглядит не очень правдоподобно. Логика и здравый смысл подсказывают, что тех, кто владеет 5+ объектами недвижимости, должно быть меньше, чем тех, кто владеет 1-2.\n",
    "\n",
    "Возможно, в описании данных ошибка и в этом столбце содержится не \"количество недвижимости\", а количество лет владения недвижимостью.\n",
    "\n",
    "Посмотрим, коррелируют ли данные в этом столбце с предполагаемым доходом или балансом на счете:"
   ]
  },
  {
   "cell_type": "code",
   "execution_count": 8,
   "metadata": {},
   "outputs": [
    {
     "data": {
      "image/png": "[encoded data removed]",
      "text/plain": [
       "<Figure size 432x288 with 1 Axes>"
      ]
     },
     "metadata": {
      "needs_background": "light"
     },
     "output_type": "display_data"
    }
   ],
   "source": [
    "data.plot.scatter(x = 'Tenure', y = 'Balance')\n",
    "plt.title('Владение недвижимостью и баланс на счете')\n",
    "plt.xlabel('Владение недвижимостью')\n",
    "plt.ylabel('Баланс на банковском счете');"
   ]
  },
  {
   "cell_type": "code",
   "execution_count": 9,
   "metadata": {},
   "outputs": [
    {
     "data": {
      "image/png": "[encoded data removed]",
      "text/plain": [
       "<Figure size 432x288 with 1 Axes>"
      ]
     },
     "metadata": {
      "needs_background": "light"
     },
     "output_type": "display_data"
    }
   ],
   "source": [
    "data.plot.scatter(x = 'Tenure', y = 'EstimatedSalary')\n",
    "plt.title('Владение недвижимостью и предполагаемый уровень дохода')\n",
    "plt.xlabel('Владение недвижимостью')\n",
    "plt.ylabel('Предполагаемый доход');"
   ]
  },
  {
   "cell_type": "markdown",
   "metadata": {},
   "source": [
    "Никакой заметной взаимосвязи не прослеживается. Скорее всего, если заменим пропуски средним/медианным значением, это ни на что не повлияет. \n",
    "\n",
    "Но если заменить пропуски средним или медианой, распределение данных в этом столбце заметно изменится: появится сильный перевес в пользу значения 5. \n",
    "\n",
    "Поэтому лучше заменим пропуски случайными значениями в диапазоне от 1 до 9, которые в нашей выборке встречаются примерно с одинаковой частотой:"
   ]
  },
  {
   "cell_type": "code",
   "execution_count": 10,
   "metadata": {},
   "outputs": [
    {
     "data": {
      "image/png": "[encoded data removed]",
      "text/plain": [
       "<Figure size 432x288 with 1 Axes>"
      ]
     },
     "metadata": {
      "needs_background": "light"
     },
     "output_type": "display_data"
    }
   ],
   "source": [
    "np.random.seed(5)\n",
    "data.loc[data.Tenure.isna(), 'Tenure'] = np.random.randint(1, 10, 909)\n",
    "data.Tenure = data.Tenure.astype('int')\n",
    "data.Tenure.value_counts(dropna = False).sort_index().plot(kind = 'bar', \\\n",
    "                                        title = 'Владение недвижимостью', rot = 0)\n",
    "plt.xlabel('Владение недвижимостью')\n",
    "plt.ylabel('Количество клиентов');"
   ]
  },
  {
   "cell_type": "markdown",
   "metadata": {},
   "source": [
    "Теперь все в порядке: пропусков больше нет, и при этом исходное распределение данных в столбце не изменилось."
   ]
  },
  {
   "cell_type": "markdown",
   "metadata": {},
   "source": [
    "В двух столбцах нашего датасета (`Geography` и `Gender`) содержатся данные типа object. Для обучения модели нужны данные в числовом виде.\n",
    "\n",
    "Приведем данные в этих столбцах к числовым значениям, воспользовавшись техникой прямого кодирования (при этом удалим один из полученных столбцов, чтобы избежать \"ловушки фиктивных признаков\"):"
   ]
  },
  {
   "cell_type": "code",
   "execution_count": 11,
   "metadata": {},
   "outputs": [
    {
     "data": {
      "text/plain": [
       "Male      0.5457\n",
       "Female    0.4543\n",
       "Name: Gender, dtype: float64"
      ]
     },
     "execution_count": 11,
     "metadata": {},
     "output_type": "execute_result"
    }
   ],
   "source": [
    "data.Gender.value_counts(normalize = True)"
   ]
  },
  {
   "cell_type": "code",
   "execution_count": 12,
   "metadata": {},
   "outputs": [
    {
     "data": {
      "text/plain": [
       "France     0.5014\n",
       "Germany    0.2509\n",
       "Spain      0.2477\n",
       "Name: Geography, dtype: float64"
      ]
     },
     "execution_count": 12,
     "metadata": {},
     "output_type": "execute_result"
    }
   ],
   "source": [
    "data.Geography.value_counts(normalize = True)"
   ]
  },
  {
   "cell_type": "code",
   "execution_count": 13,
   "metadata": {
    "scrolled": false
   },
   "outputs": [
    {
     "data": {
      "text/html": [
       "<div>\n",
       "<style scoped>\n",
       "    .dataframe tbody tr th:only-of-type {\n",
       "        vertical-align: middle;\n",
       "    }\n",
       "\n",
       "    .dataframe tbody tr th {\n",
       "        vertical-align: top;\n",
       "    }\n",
       "\n",
       "    .dataframe thead th {\n",
       "        text-align: right;\n",
       "    }\n",
       "</style>\n",
       "<table border=\"1\" class=\"dataframe\">\n",
       "  <thead>\n",
       "    <tr style=\"text-align: right;\">\n",
       "      <th></th>\n",
       "      <th>CreditScore</th>\n",
       "      <th>Age</th>\n",
       "      <th>Tenure</th>\n",
       "      <th>Balance</th>\n",
       "      <th>NumOfProducts</th>\n",
       "      <th>HasCrCard</th>\n",
       "      <th>IsActiveMember</th>\n",
       "      <th>EstimatedSalary</th>\n",
       "      <th>Exited</th>\n",
       "      <th>Geography_Germany</th>\n",
       "      <th>Geography_Spain</th>\n",
       "      <th>Gender_Male</th>\n",
       "    </tr>\n",
       "  </thead>\n",
       "  <tbody>\n",
       "    <tr>\n",
       "      <th>0</th>\n",
       "      <td>619</td>\n",
       "      <td>42</td>\n",
       "      <td>2</td>\n",
       "      <td>0.00</td>\n",
       "      <td>1</td>\n",
       "      <td>1</td>\n",
       "      <td>1</td>\n",
       "      <td>101348.88</td>\n",
       "      <td>1</td>\n",
       "      <td>0</td>\n",
       "      <td>0</td>\n",
       "      <td>0</td>\n",
       "    </tr>\n",
       "    <tr>\n",
       "      <th>1</th>\n",
       "      <td>608</td>\n",
       "      <td>41</td>\n",
       "      <td>1</td>\n",
       "      <td>83807.86</td>\n",
       "      <td>1</td>\n",
       "      <td>0</td>\n",
       "      <td>1</td>\n",
       "      <td>112542.58</td>\n",
       "      <td>0</td>\n",
       "      <td>0</td>\n",
       "      <td>1</td>\n",
       "      <td>0</td>\n",
       "    </tr>\n",
       "    <tr>\n",
       "      <th>2</th>\n",
       "      <td>502</td>\n",
       "      <td>42</td>\n",
       "      <td>8</td>\n",
       "      <td>159660.80</td>\n",
       "      <td>3</td>\n",
       "      <td>1</td>\n",
       "      <td>0</td>\n",
       "      <td>113931.57</td>\n",
       "      <td>1</td>\n",
       "      <td>0</td>\n",
       "      <td>0</td>\n",
       "      <td>0</td>\n",
       "    </tr>\n",
       "    <tr>\n",
       "      <th>3</th>\n",
       "      <td>699</td>\n",
       "      <td>39</td>\n",
       "      <td>1</td>\n",
       "      <td>0.00</td>\n",
       "      <td>2</td>\n",
       "      <td>0</td>\n",
       "      <td>0</td>\n",
       "      <td>93826.63</td>\n",
       "      <td>0</td>\n",
       "      <td>0</td>\n",
       "      <td>0</td>\n",
       "      <td>0</td>\n",
       "    </tr>\n",
       "    <tr>\n",
       "      <th>4</th>\n",
       "      <td>850</td>\n",
       "      <td>43</td>\n",
       "      <td>2</td>\n",
       "      <td>125510.82</td>\n",
       "      <td>1</td>\n",
       "      <td>1</td>\n",
       "      <td>1</td>\n",
       "      <td>79084.10</td>\n",
       "      <td>0</td>\n",
       "      <td>0</td>\n",
       "      <td>1</td>\n",
       "      <td>0</td>\n",
       "    </tr>\n",
       "  </tbody>\n",
       "</table>\n",
       "</div>"
      ],
      "text/plain": [
       "   CreditScore  Age  Tenure    Balance  NumOfProducts  HasCrCard  \\\n",
       "0          619   42       2       0.00              1          1   \n",
       "1          608   41       1   83807.86              1          0   \n",
       "2          502   42       8  159660.80              3          1   \n",
       "3          699   39       1       0.00              2          0   \n",
       "4          850   43       2  125510.82              1          1   \n",
       "\n",
       "   IsActiveMember  EstimatedSalary  Exited  Geography_Germany  \\\n",
       "0               1        101348.88       1                  0   \n",
       "1               1        112542.58       0                  0   \n",
       "2               0        113931.57       1                  0   \n",
       "3               0         93826.63       0                  0   \n",
       "4               1         79084.10       0                  0   \n",
       "\n",
       "   Geography_Spain  Gender_Male  \n",
       "0                0            0  \n",
       "1                1            0  \n",
       "2                0            0  \n",
       "3                0            0  \n",
       "4                1            0  "
      ]
     },
     "execution_count": 13,
     "metadata": {},
     "output_type": "execute_result"
    }
   ],
   "source": [
    "data = pd.get_dummies(data, drop_first=True)\n",
    "data.head()"
   ]
  },
  {
   "cell_type": "markdown",
   "metadata": {},
   "source": [
    "Проверим, что доли каждого класса не изменились:"
   ]
  },
  {
   "cell_type": "code",
   "execution_count": 14,
   "metadata": {},
   "outputs": [
    {
     "data": {
      "text/plain": [
       "0.5457"
      ]
     },
     "execution_count": 14,
     "metadata": {},
     "output_type": "execute_result"
    }
   ],
   "source": [
    "data.Gender_Male.mean()"
   ]
  },
  {
   "cell_type": "code",
   "execution_count": 15,
   "metadata": {},
   "outputs": [
    {
     "data": {
      "text/plain": [
       "0.2477"
      ]
     },
     "execution_count": 15,
     "metadata": {},
     "output_type": "execute_result"
    }
   ],
   "source": [
    "data.Geography_Spain.mean()"
   ]
  },
  {
   "cell_type": "code",
   "execution_count": 16,
   "metadata": {},
   "outputs": [
    {
     "data": {
      "text/plain": [
       "0.2509"
      ]
     },
     "execution_count": 16,
     "metadata": {},
     "output_type": "execute_result"
    }
   ],
   "source": [
    "data.Geography_Germany.mean()"
   ]
  },
  {
   "cell_type": "markdown",
   "metadata": {},
   "source": [
    "Теперь подготовим данные к обучению модели: выделим признаки и целевой признак, разделим на обучающую, валидационную и тестовую выборки (в соотношении 3:1:1):"
   ]
  },
  {
   "cell_type": "code",
   "execution_count": 17,
   "metadata": {},
   "outputs": [
    {
     "name": "stdout",
     "output_type": "stream",
     "text": [
      "(10000, 11)\n",
      "(6000, 11) (2000, 11) (2000, 11)\n"
     ]
    }
   ],
   "source": [
    "features = data.drop(['Exited'], axis = 1)\n",
    "target = data['Exited']\n",
    "print(features.shape)\n",
    "features_train, features_t, target_train, target_t = train_test_split(features, target, test_size = 0.4, random_state = 12345)\n",
    "features_valid, features_test, target_valid, target_test = train_test_split(features_t, target_t, test_size = 0.5, random_state = 12345)\n",
    "print(features_train.shape, features_valid.shape, features_test.shape)"
   ]
  },
  {
   "cell_type": "markdown",
   "metadata": {},
   "source": [
    "Следующий шаг - масштабирование численных признаков. Используем метод стандартизации данных, чтобы алгоритм при обучении модели использовал все признаки как в равной степени значимые:"
   ]
  },
  {
   "cell_type": "code",
   "execution_count": 18,
   "metadata": {
    "scrolled": true
   },
   "outputs": [],
   "source": [
    "numeric = ['CreditScore', 'Age', 'Tenure', 'Balance', 'NumOfProducts', 'EstimatedSalary']\n",
    "scaler = StandardScaler()\n",
    "scaler.fit(features_train.loc[:, numeric])\n",
    "features_train.loc[:, numeric] = scaler.transform(features_train.loc[:, numeric])\n",
    "features_valid.loc[:, numeric] = scaler.transform(features_valid.loc[:, numeric])\n",
    "features_test.loc[:, numeric] = scaler.transform(features_test.loc[:, numeric])"
   ]
  },
  {
   "cell_type": "markdown",
   "metadata": {},
   "source": [
    "# Исправление дисбаланса классов <a id = 'models'></id>"
   ]
  },
  {
   "cell_type": "markdown",
   "metadata": {},
   "source": [
    "Посмотрим, какой баланс классов в нашем исходном датасете:"
   ]
  },
  {
   "cell_type": "code",
   "execution_count": 19,
   "metadata": {},
   "outputs": [
    {
     "data": {
      "text/plain": [
       "0    0.7963\n",
       "1    0.2037\n",
       "Name: Exited, dtype: float64"
      ]
     },
     "execution_count": 19,
     "metadata": {},
     "output_type": "execute_result"
    }
   ],
   "source": [
    "data.Exited.value_counts(normalize = True)"
   ]
  },
  {
   "cell_type": "markdown",
   "metadata": {},
   "source": [
    "В нашей выборке клиентов, которые ушли из \"Бета-Банка\", в 4 раза меньше, чем тех, кто еще является клиентом. Значит, наблюдается довольно выраженный дисбаланс классов целевого признака.\n",
    "\n",
    "Попробуем обучить модели без учета дисбаланса классов, а потом - с учетом этого дисбаланса. И сравним результаты (F1 score)."
   ]
  },
  {
   "cell_type": "markdown",
   "metadata": {},
   "source": [
    "### Логистическая регрессия без учета дисбаланса классов"
   ]
  },
  {
   "cell_type": "code",
   "execution_count": 20,
   "metadata": {},
   "outputs": [
    {
     "data": {
      "text/plain": [
       "0.33108108108108103"
      ]
     },
     "execution_count": 20,
     "metadata": {},
     "output_type": "execute_result"
    }
   ],
   "source": [
    "logreg = LogisticRegression(random_state = 12345, solver = 'liblinear')\n",
    "logreg.fit(features_train, target_train)\n",
    "predicted_valid = logreg.predict(features_valid)\n",
    "f1_score(target_valid, predicted_valid)"
   ]
  },
  {
   "cell_type": "markdown",
   "metadata": {},
   "source": [
    "### Случайный лес без учета дисбаланса классов"
   ]
  },
  {
   "cell_type": "code",
   "execution_count": 21,
   "metadata": {},
   "outputs": [
    {
     "data": {
      "text/plain": [
       "0.562111801242236"
      ]
     },
     "execution_count": 21,
     "metadata": {},
     "output_type": "execute_result"
    }
   ],
   "source": [
    "ranfor = RandomForestClassifier(random_state = 12345, n_estimators = 100, max_depth = 10)\n",
    "ranfor.fit(features_train, target_train)\n",
    "predicted_valid = ranfor.predict(features_valid)\n",
    "f1_score(target_valid, predicted_valid)"
   ]
  },
  {
   "cell_type": "markdown",
   "metadata": {},
   "source": [
    "Теперь попробуем обучить такие же модели после использования **техники взвешивания классов**:"
   ]
  },
  {
   "cell_type": "markdown",
   "metadata": {},
   "source": [
    "### Логистическая регрессия с учетом дисбаланса классов (взвешивание классов)"
   ]
  },
  {
   "cell_type": "code",
   "execution_count": 22,
   "metadata": {},
   "outputs": [
    {
     "data": {
      "text/plain": [
       "0.4893071000855432"
      ]
     },
     "execution_count": 22,
     "metadata": {},
     "output_type": "execute_result"
    }
   ],
   "source": [
    "logreg = LogisticRegression(random_state = 12345, solver = 'liblinear', class_weight = 'balanced')\n",
    "logreg.fit(features_train, target_train)\n",
    "predicted_valid = logreg.predict(features_valid)\n",
    "f1_score(target_valid, predicted_valid)"
   ]
  },
  {
   "cell_type": "markdown",
   "metadata": {},
   "source": [
    "### Случайный лес с учетом дисбаланса классов (взвешивание классов)"
   ]
  },
  {
   "cell_type": "code",
   "execution_count": 23,
   "metadata": {},
   "outputs": [
    {
     "data": {
      "text/plain": [
       "0.6127864897466828"
      ]
     },
     "execution_count": 23,
     "metadata": {},
     "output_type": "execute_result"
    }
   ],
   "source": [
    "ranfor = RandomForestClassifier(random_state=12345, n_estimators = 100, max_depth = 10, \\\n",
    "                                class_weight = 'balanced')\n",
    "ranfor.fit(features_train, target_train)\n",
    "predicted_valid = ranfor.predict(features_valid)\n",
    "f1_score(target_valid, predicted_valid)"
   ]
  },
  {
   "cell_type": "markdown",
   "metadata": {},
   "source": [
    "Попробуем другую технику (***upsampling***). Напишем и применим функцию для увеличения выборки, с учетом того, что в нашем датасете нынешних клиентов в 4 раза больше, чем бывших клиентов:"
   ]
  },
  {
   "cell_type": "code",
   "execution_count": 24,
   "metadata": {},
   "outputs": [],
   "source": [
    "def upsample(features, target, repeat):\n",
    "    features_zeros = features[target == 0]\n",
    "    features_ones = features[target == 1]\n",
    "    target_zeros = target[target == 0]\n",
    "    target_ones = target[target == 1]\n",
    " \n",
    "    features_upsampled = pd.concat([features_zeros] + [features_ones] * repeat)\n",
    "    target_upsampled = pd.concat([target_zeros] + [target_ones] * repeat)\n",
    "    \n",
    "    features_upsampled, target_upsampled = shuffle(features_upsampled, target_upsampled, \\\n",
    "                                                   random_state=12345)\n",
    "    \n",
    "    return features_upsampled, target_upsampled"
   ]
  },
  {
   "cell_type": "code",
   "execution_count": 25,
   "metadata": {},
   "outputs": [],
   "source": [
    "features_upsampled, target_upsampled = upsample(features_train, target_train, 4)"
   ]
  },
  {
   "cell_type": "markdown",
   "metadata": {},
   "source": [
    "### Логистическая регрессия с учетом дисбаланса классов (upsampling)"
   ]
  },
  {
   "cell_type": "code",
   "execution_count": 26,
   "metadata": {},
   "outputs": [
    {
     "data": {
      "text/plain": [
       "0.48843187660668386"
      ]
     },
     "execution_count": 26,
     "metadata": {},
     "output_type": "execute_result"
    }
   ],
   "source": [
    "#обучим модель логистической регрессии после исправления дисбаланса с помощью upsampling\n",
    "logreg2 = LogisticRegression(random_state = 12345, solver = 'liblinear')\n",
    "logreg2.fit(features_upsampled, target_upsampled)\n",
    "predicted_valid2 = logreg2.predict(features_valid)\n",
    "f1_score(target_valid, predicted_valid2)"
   ]
  },
  {
   "cell_type": "markdown",
   "metadata": {},
   "source": [
    "### Случайный лес с учетом дисбаланса классов (upsampling)"
   ]
  },
  {
   "cell_type": "code",
   "execution_count": 27,
   "metadata": {},
   "outputs": [
    {
     "data": {
      "text/plain": [
       "0.6202393906420022"
      ]
     },
     "execution_count": 27,
     "metadata": {},
     "output_type": "execute_result"
    }
   ],
   "source": [
    "#обучим модель случайного леса после исправления дисбаланса с помощью upsampling\n",
    "ranfor2 = RandomForestClassifier(random_state=12345, n_estimators = 100, max_depth = 10)\n",
    "ranfor2.fit(features_upsampled, target_upsampled)\n",
    "predicted_valid2 = ranfor2.predict(features_valid)\n",
    "f1_score(target_valid, predicted_valid2)"
   ]
  },
  {
   "cell_type": "markdown",
   "metadata": {},
   "source": [
    "Попробуем другую технику (***downsampling***). Напишем и применим функцию для уменьшения выборки, с учетом того, что в нашем датасете нынешних клиентов в 4 раза больше, чем бывших клиентов:"
   ]
  },
  {
   "cell_type": "code",
   "execution_count": 28,
   "metadata": {},
   "outputs": [],
   "source": [
    "def downsample(features, target, fraction):\n",
    "    features_zeros = features[target == 0]\n",
    "    features_ones = features[target == 1]\n",
    "    target_zeros = target[target == 0]\n",
    "    target_ones = target[target == 1]\n",
    " \n",
    "    features_downsampled = pd.concat([features_zeros.sample(frac=fraction, random_state=12345)]\\\n",
    "                                     + [features_ones])\n",
    "    target_downsampled = pd.concat([target_zeros.sample(frac=fraction, random_state=12345)]\\\n",
    "                                   + [target_ones])\n",
    "    features_downsampled, target_downsampled = shuffle(features_downsampled, target_downsampled, \\\n",
    "                                                       random_state=12345)\n",
    "    return features_downsampled, target_downsampled"
   ]
  },
  {
   "cell_type": "code",
   "execution_count": 29,
   "metadata": {},
   "outputs": [],
   "source": [
    "features_downsampled, target_downsampled = downsample(features_train, target_train, 0.25)"
   ]
  },
  {
   "cell_type": "markdown",
   "metadata": {},
   "source": [
    "### Логистическая регрессия с учетом дисбаланса классов (downsampling)"
   ]
  },
  {
   "cell_type": "code",
   "execution_count": 30,
   "metadata": {},
   "outputs": [
    {
     "data": {
      "text/plain": [
       "0.4901117798796217"
      ]
     },
     "execution_count": 30,
     "metadata": {},
     "output_type": "execute_result"
    }
   ],
   "source": [
    "#обучим модель логистической регрессии после исправления дисбаланса с помощью downsampling\n",
    "logreg3 = LogisticRegression(random_state = 12345, solver = 'liblinear')\n",
    "logreg3.fit(features_downsampled, target_downsampled)\n",
    "predicted_valid3 = logreg3.predict(features_valid)\n",
    "f1_score(target_valid, predicted_valid3)"
   ]
  },
  {
   "cell_type": "markdown",
   "metadata": {},
   "source": [
    "### Случайный лес с учетом дисбаланса классов (downsampling)"
   ]
  },
  {
   "cell_type": "code",
   "execution_count": 31,
   "metadata": {},
   "outputs": [
    {
     "data": {
      "text/plain": [
       "0.5988593155893536"
      ]
     },
     "execution_count": 31,
     "metadata": {},
     "output_type": "execute_result"
    }
   ],
   "source": [
    "#обучим модель случайного леса после исправления дисбаланса с помощью downsampling\n",
    "ranfor3 = RandomForestClassifier(random_state=12345, n_estimators = 100, max_depth = 10)\n",
    "ranfor3.fit(features_downsampled, target_downsampled)\n",
    "predicted_valid3 = ranfor3.predict(features_valid)\n",
    "f1_score(target_valid, predicted_valid3)"
   ]
  },
  {
   "cell_type": "markdown",
   "metadata": {},
   "source": [
    "- Показатель F1 значительно повысился после исправления дисбаланса классов.\n",
    "\n",
    "- Случайный лес показывает результаты заметно лучше, чем логистическая регрессия. Дальше будем работать с моделями случайного леса. \n",
    "\n",
    "- Попробуем улучшить их с использованием гиперпараметров и выясним, какая техника исправления дисбаланса классов дает наилучший результат."
   ]
  },
  {
   "cell_type": "markdown",
   "metadata": {},
   "source": [
    "# Выбор и улучшение модели <a id = 'bestmodel'></id>"
   ]
  },
  {
   "cell_type": "markdown",
   "metadata": {},
   "source": [
    "Подберем оптимальные значения количества деревьев и глубины дерева с использованием разных техник исправления дисбаланса классов. \n",
    "\n",
    "Будем оптимизировать модели по двум метрикам: F1 score и ROC AUC. \n",
    "\n",
    "После обучения моделей сравним результаты и выберем лучшую."
   ]
  },
  {
   "cell_type": "markdown",
   "metadata": {},
   "source": [
    "### Взвешивание классов"
   ]
  },
  {
   "cell_type": "markdown",
   "metadata": {},
   "source": [
    "- оптимизация по ***F1 score***:"
   ]
  },
  {
   "cell_type": "code",
   "execution_count": 32,
   "metadata": {
    "scrolled": false
   },
   "outputs": [
    {
     "name": "stdout",
     "output_type": "stream",
     "text": [
      "Оптимальное количество деревьев: 65\n",
      "Оптимальная глубина дерева: 7\n"
     ]
    }
   ],
   "source": [
    "best_model_cw_f1 = None\n",
    "best_result_cw_f1 = 0\n",
    "best_est = 0\n",
    "best_depth = 0\n",
    "for est in range(10, 121, 5):\n",
    "    for depth in range(3, 15):\n",
    "        model = RandomForestClassifier(random_state = 12345, n_estimators = est, max_depth = depth, \\\n",
    "                                      class_weight = 'balanced')\n",
    "        model.fit(features_train, target_train)\n",
    "        pred_valid = model.predict(features_valid)\n",
    "        result = f1_score(target_valid, pred_valid)\n",
    "        if result > best_result_cw_f1:\n",
    "            best_model_cw_f1 = model\n",
    "            best_result_cw_f1 = result\n",
    "            best_est = est\n",
    "            best_depth = depth\n",
    "\n",
    "proba_one_valid_cw_f1 = best_model_cw_f1.predict_proba(features_valid)[:,1]\n",
    "print('Оптимальное количество деревьев:', best_est)\n",
    "print('Оптимальная глубина дерева:', best_depth)"
   ]
  },
  {
   "cell_type": "markdown",
   "metadata": {},
   "source": [
    "- оптимизация по ***ROC AUC score***:"
   ]
  },
  {
   "cell_type": "code",
   "execution_count": 33,
   "metadata": {
    "scrolled": true
   },
   "outputs": [
    {
     "name": "stdout",
     "output_type": "stream",
     "text": [
      "Оптимальное количество деревьев: 115\n",
      "Оптимальная глубина дерева: 7\n"
     ]
    }
   ],
   "source": [
    "best_model_cw_rocauc = None\n",
    "best_result_cw_rocauc = 0\n",
    "best_est = 0\n",
    "best_depth = 0\n",
    "for est in range(10, 121, 5):\n",
    "    for depth in range(3, 15):\n",
    "        model = RandomForestClassifier(random_state = 12345, n_estimators = est, max_depth = depth, \\\n",
    "                                      class_weight = 'balanced')\n",
    "        model.fit(features_train, target_train)\n",
    "        proba_one_valid = model.predict_proba(features_valid)[:,1]\n",
    "        result = roc_auc_score(target_valid, proba_one_valid)\n",
    "        if result > best_result_cw_rocauc:\n",
    "            best_model_cw_rocauc = model\n",
    "            best_result_cw_rocauc = result\n",
    "            best_est = est\n",
    "            best_depth = depth\n",
    "\n",
    "pred_valid_cw_rocauc = best_model_cw_rocauc.predict(features_valid)\n",
    "proba_one_valid_cw_rocauc = best_model_cw_rocauc.predict_proba(features_valid)[:,1]\n",
    "print('Оптимальное количество деревьев:', best_est)\n",
    "print('Оптимальная глубина дерева:', best_depth)"
   ]
  },
  {
   "cell_type": "markdown",
   "metadata": {},
   "source": [
    "### Техника upsampling"
   ]
  },
  {
   "cell_type": "markdown",
   "metadata": {},
   "source": [
    "- оптимизация по ***F1 score***:"
   ]
  },
  {
   "cell_type": "code",
   "execution_count": 34,
   "metadata": {
    "scrolled": true
   },
   "outputs": [
    {
     "name": "stdout",
     "output_type": "stream",
     "text": [
      "Оптимальное количество деревьев: 25\n",
      "Оптимальная глубина дерева: 14\n"
     ]
    }
   ],
   "source": [
    "best_model_up_f1 = None\n",
    "best_result_up_f1 = 0\n",
    "best_est = 0\n",
    "best_depth = 0\n",
    "for est in range(10, 121, 5):\n",
    "    for depth in range(3, 15):\n",
    "        model = RandomForestClassifier(random_state = 12345, n_estimators = est, max_depth = depth)\n",
    "        model.fit(features_upsampled, target_upsampled)\n",
    "        pred_valid = model.predict(features_valid)\n",
    "        result = f1_score(target_valid, pred_valid)\n",
    "        if result > best_result_up_f1:\n",
    "            best_model_up_f1 = model\n",
    "            best_result_up_f1 = result\n",
    "            best_est = est\n",
    "            best_depth = depth\n",
    "            \n",
    "proba_one_valid_up_f1 = best_model_up_f1.predict_proba(features_valid)[:,1]\n",
    "print('Оптимальное количество деревьев:', best_est)\n",
    "print('Оптимальная глубина дерева:', best_depth)"
   ]
  },
  {
   "cell_type": "markdown",
   "metadata": {},
   "source": [
    "- оптимизация по ***ROC AUC score***:"
   ]
  },
  {
   "cell_type": "code",
   "execution_count": 35,
   "metadata": {
    "scrolled": false
   },
   "outputs": [
    {
     "name": "stdout",
     "output_type": "stream",
     "text": [
      "Оптимальное количество деревьев: 115\n",
      "Оптимальная глубина дерева: 8\n"
     ]
    }
   ],
   "source": [
    "best_model_up_rocauc = None\n",
    "best_result_up_rocauc = 0\n",
    "best_est = 0\n",
    "best_depth = 0\n",
    "for est in range(10, 121, 5):\n",
    "    for depth in range(3, 15):\n",
    "        model = RandomForestClassifier(random_state = 12345, n_estimators = est, max_depth = depth)\n",
    "        model.fit(features_upsampled, target_upsampled)\n",
    "        proba_one_valid = model.predict_proba(features_valid)[:,1]\n",
    "        result = roc_auc_score(target_valid, proba_one_valid)\n",
    "        if result > best_result_up_rocauc:\n",
    "            best_model_up_rocauc = model\n",
    "            best_result_up_rocauc = result\n",
    "            best_est = est\n",
    "            best_depth = depth\n",
    "\n",
    "pred_valid_up_rocauc = best_model_up_rocauc.predict(features_valid)\n",
    "proba_one_valid_up_rocauc = best_model_up_rocauc.predict_proba(features_valid)[:,1]\n",
    "\n",
    "print('Оптимальное количество деревьев:', best_est)\n",
    "print('Оптимальная глубина дерева:', best_depth)"
   ]
  },
  {
   "cell_type": "markdown",
   "metadata": {},
   "source": [
    "### Техника downsampling"
   ]
  },
  {
   "cell_type": "markdown",
   "metadata": {},
   "source": [
    "- оптимизация по ***F1 score***:"
   ]
  },
  {
   "cell_type": "code",
   "execution_count": 36,
   "metadata": {
    "scrolled": true
   },
   "outputs": [
    {
     "name": "stdout",
     "output_type": "stream",
     "text": [
      "Оптимальное количество деревьев: 10\n",
      "Оптимальная глубина дерева: 4\n"
     ]
    }
   ],
   "source": [
    "best_model_down_f1 = None\n",
    "best_result_down_f1 = 0\n",
    "best_est = 0\n",
    "best_depth = 0\n",
    "for est in range(10, 121, 5):\n",
    "    for depth in range(3, 15):\n",
    "        model = RandomForestClassifier(random_state = 12345, n_estimators = est, max_depth = depth)\n",
    "        model.fit(features_downsampled, target_downsampled)\n",
    "        pred_valid = model.predict(features_valid)\n",
    "        result = f1_score(target_valid, pred_valid)\n",
    "        if result > best_result_down_f1:\n",
    "            best_model_down_f1 = model\n",
    "            best_result_down_f1 = result\n",
    "            best_est = est\n",
    "            best_depth = depth\n",
    "            \n",
    "proba_one_valid_down_f1 = best_model_down_f1.predict_proba(features_valid)[:,1]\n",
    "print('Оптимальное количество деревьев:', best_est)\n",
    "print('Оптимальная глубина дерева:', best_depth)"
   ]
  },
  {
   "cell_type": "markdown",
   "metadata": {},
   "source": [
    "- оптимизация по ***ROC AUC score***:"
   ]
  },
  {
   "cell_type": "code",
   "execution_count": 37,
   "metadata": {
    "scrolled": true
   },
   "outputs": [
    {
     "name": "stdout",
     "output_type": "stream",
     "text": [
      "Оптимальное количество деревьев: 85\n",
      "Оптимальная глубина дерева: 6\n"
     ]
    }
   ],
   "source": [
    "best_model_down_rocauc = None\n",
    "best_result_down_rocauc = 0\n",
    "best_est = 0\n",
    "best_depth = 0\n",
    "for est in range(10, 121, 5):\n",
    "    for depth in range(3, 15):\n",
    "        model = RandomForestClassifier(random_state = 12345, n_estimators = est, max_depth = depth)\n",
    "        model.fit(features_downsampled, target_downsampled)\n",
    "        proba_one_valid = model.predict_proba(features_valid)[:,1]\n",
    "        result = roc_auc_score(target_valid, proba_one_valid)\n",
    "        if result > best_result_down_rocauc:\n",
    "            best_model_down_rocauc = model\n",
    "            best_result_down_rocauc = result\n",
    "            best_est = est\n",
    "            best_depth = depth\n",
    "            \n",
    "pred_valid_down_rocauc = best_model_down_rocauc.predict(features_valid)\n",
    "proba_one_valid_down_rocauc = best_model_down_rocauc.predict_proba(features_valid)[:,1]\n",
    "\n",
    "print('Оптимальное количество деревьев:', best_est)\n",
    "print('Оптимальная глубина дерева:', best_depth)"
   ]
  },
  {
   "cell_type": "markdown",
   "metadata": {},
   "source": [
    "### Сравнение результатов моделей на валидационной выборке"
   ]
  },
  {
   "cell_type": "code",
   "execution_count": 38,
   "metadata": {},
   "outputs": [
    {
     "name": "stdout",
     "output_type": "stream",
     "text": [
      "Взвешивание классов, оптимизация по F1 score:\n",
      "F1 score: 0.6356\n",
      "ROC-AUC score: 0.8545\n",
      "\n",
      "Взвешивание классов, оптимизация по ROC AUC:\n",
      "F1 score: 0.6263\n",
      "ROC-AUC score: 0.8549\n",
      "\n",
      "Upsampling, оптимизация по F1 score:\n",
      "F1 score: 0.6241\n",
      "ROC-AUC score: 0.8351\n",
      "\n",
      "Upsampling, оптимизация по ROC AUC:\n",
      "F1 score: 0.6143\n",
      "ROC-AUC score: 0.8551\n",
      "\n",
      "Downsampling, оптимизация по F1 score:\n",
      "F1 score: 0.6081\n",
      "ROC-AUC score: 0.8348\n",
      "\n",
      "Downsampling, оптимизация по ROC AUC:\n",
      "F1 score: 0.5917\n",
      "ROC-AUC score: 0.8501\n"
     ]
    }
   ],
   "source": [
    "print('Взвешивание классов, оптимизация по F1 score:')\n",
    "print('F1 score:', round(best_result_cw_f1, 4))\n",
    "print('ROC-AUC score:', round(roc_auc_score(target_valid, proba_one_valid_cw_f1), 4))\n",
    "print()\n",
    "print('Взвешивание классов, оптимизация по ROC AUC:')\n",
    "print('F1 score:', round(f1_score(target_valid, pred_valid_cw_rocauc), 4))\n",
    "print('ROC-AUC score:', round(best_result_cw_rocauc, 4))\n",
    "print()\n",
    "print('Upsampling, оптимизация по F1 score:')\n",
    "print('F1 score:', round(best_result_up_f1, 4))\n",
    "print('ROC-AUC score:', round(roc_auc_score(target_valid, proba_one_valid_up_f1), 4))\n",
    "print()\n",
    "print('Upsampling, оптимизация по ROC AUC:')\n",
    "print('F1 score:', round(f1_score(target_valid, pred_valid_up_rocauc), 4))\n",
    "print('ROC-AUC score:', round(best_result_up_rocauc, 4))\n",
    "print()\n",
    "print('Downsampling, оптимизация по F1 score:')\n",
    "print('F1 score:', round(best_result_down_f1, 4))\n",
    "print('ROC-AUC score:', round(roc_auc_score(target_valid, proba_one_valid_down_f1), 4))\n",
    "print()\n",
    "print('Downsampling, оптимизация по ROC AUC:')\n",
    "print('F1 score:', round(f1_score(target_valid, pred_valid_down_rocauc), 4))\n",
    "print('ROC-AUC score:', round(best_result_down_rocauc, 4))"
   ]
  },
  {
   "cell_type": "markdown",
   "metadata": {},
   "source": [
    "Наилучшие результаты продемонстрировала модель, в которой используется **взвешивание классов**. \n",
    "\n",
    "Оптимизация по F1 score кажется более удачной, поскольку модель демонстрирует заметно более высокий F1 score при том, что ROC AUC лишь немного уступает результату модели, которая оптимизировалась по ROC AUC."
   ]
  },
  {
   "cell_type": "markdown",
   "metadata": {},
   "source": [
    "Построим ***ROC-кривые*** для двух моделей:"
   ]
  },
  {
   "cell_type": "code",
   "execution_count": 39,
   "metadata": {
    "scrolled": true
   },
   "outputs": [
    {
     "data": {
      "image/png": "[encoded data removed]",
      "text/plain": [
       "<Figure size 432x288 with 1 Axes>"
      ]
     },
     "metadata": {
      "needs_background": "light"
     },
     "output_type": "display_data"
    }
   ],
   "source": [
    "fpr_f1, tpr_f1, thresholds = roc_curve(target_valid, proba_one_valid_cw_f1)\n",
    "fpr_roc, tpr_roc, thresholds = roc_curve(target_valid, proba_one_valid_cw_rocauc)\n",
    "plt.figure()\n",
    "plt.step(fpr_f1, tpr_f1)\n",
    "plt.step(fpr_roc, tpr_roc)\n",
    "plt.plot([0, 1], [0, 1], linestyle='--')\n",
    "plt.xlim([0, 1])\n",
    "plt.ylim([0, 1])\n",
    "plt.xlabel('False Positive Rate')\n",
    "plt.ylabel('True Positive Rate')\n",
    "plt.title('ROC-кривые')\n",
    "plt.grid(True)\n",
    "plt.show()"
   ]
  },
  {
   "cell_type": "markdown",
   "metadata": {},
   "source": [
    "Как видим, ROC-кривые для двух моделей практически совпадают."
   ]
  },
  {
   "cell_type": "markdown",
   "metadata": {},
   "source": [
    "Проверим, какие F1 и ROC AUC на тестовой выборке."
   ]
  },
  {
   "cell_type": "markdown",
   "metadata": {},
   "source": [
    "Показатели модели, которую оптимизировали по ***F1 score***:"
   ]
  },
  {
   "cell_type": "code",
   "execution_count": 40,
   "metadata": {},
   "outputs": [
    {
     "name": "stdout",
     "output_type": "stream",
     "text": [
      "F1 score на тестовой выборке: 0.6109\n"
     ]
    }
   ],
   "source": [
    "pred_test_cw_f1 = best_model_cw_f1.predict(features_test)\n",
    "print('F1 score на тестовой выборке:', round(f1_score(target_test, pred_test_cw_f1), 4))"
   ]
  },
  {
   "cell_type": "code",
   "execution_count": 41,
   "metadata": {},
   "outputs": [
    {
     "name": "stdout",
     "output_type": "stream",
     "text": [
      "ROC AUC на тестовой выборке 0.8528\n"
     ]
    }
   ],
   "source": [
    "prob_one_test_cw_f1 = best_model_cw_f1.predict_proba(features_test)[:,1]\n",
    "print('ROC AUC на тестовой выборке', round(roc_auc_score(target_test, prob_one_test_cw_f1), 4))"
   ]
  },
  {
   "cell_type": "markdown",
   "metadata": {},
   "source": [
    "Показатели модели, которую оптимизировали по ***ROC AUC***:"
   ]
  },
  {
   "cell_type": "code",
   "execution_count": 42,
   "metadata": {},
   "outputs": [
    {
     "name": "stdout",
     "output_type": "stream",
     "text": [
      "F1 score на тестовой выборке: 0.609\n"
     ]
    }
   ],
   "source": [
    "pred_test_cw_roc = best_model_cw_rocauc.predict(features_test)\n",
    "print('F1 score на тестовой выборке:', round(f1_score(target_test, pred_test_cw_roc), 4))"
   ]
  },
  {
   "cell_type": "code",
   "execution_count": 43,
   "metadata": {},
   "outputs": [
    {
     "name": "stdout",
     "output_type": "stream",
     "text": [
      "ROC AUC на тестовой выборке: 0.8546\n"
     ]
    }
   ],
   "source": [
    "prob_one_test_cw_roc = best_model_cw_rocauc.predict_proba(features_test)[:,1]\n",
    "print('ROC AUC на тестовой выборке:', round(roc_auc_score(target_test, prob_one_test_cw_roc), 4))"
   ]
  },
  {
   "cell_type": "markdown",
   "metadata": {},
   "source": [
    "Показатели чуть ниже, чем на валидационной выборке, но разница не критична. Значит, модель не переобучена и справляется с задачей на новых данных."
   ]
  },
  {
   "cell_type": "markdown",
   "metadata": {},
   "source": [
    "Модель, которую оптимизировали по F1 score, показывает лучший F1 score и на тестовых данных. \n",
    "\n",
    "И наоборот: модель, которую оптимизировали по ROC AUC, на тестовой выборке также демонстрирует более высокий ROC AUC. \n",
    "\n",
    "В нашем случае основной параметр, на который ориентируемся, - F1 score. Поэтому остановимся на модели `best_model_cw_f1`."
   ]
  },
  {
   "cell_type": "markdown",
   "metadata": {},
   "source": [
    "# Выводы <a id = 'conclusion'></id>"
   ]
  },
  {
   "cell_type": "markdown",
   "metadata": {},
   "source": [
    "На этапе предобработки:\n",
    "    - избавились от бесполезных признаков и пропусков в данных;\n",
    "    - привели категориальные признаки к числовому виду;\n",
    "    - масштабировали числовые признаки;\n",
    "    - выделили признаки для обучения модели и целевой признак;\n",
    "    - разделили данные на обучающую, валидационную и тестовую выборки (3:1:1).\n",
    "    \n",
    "Обучили модели логистической регрессии и случайного леса: сначала без учета дисбаланса классов, затем после исправления дисбаланса классов при помощи разных техник. \n",
    "\n",
    "Выбрали алгоритм, который демонстрирует наилучшие результаты на валидационной выборке (**случайный лес**).\n",
    "\n",
    "Подобрали **гиперпараметры (количество деревьев и максимальную глубину дерева)**, которые дают наилучший результат **по F1 score и по ROC AUC**.\n",
    "\n",
    "Сравнили модели, использующие разные техники исправления дисбаланса классов (взвешивание классов, upsampling, downsampling). Наилучшие результаты продемонстрировали модели, использующие **взвешивание классов**. \n",
    "\n",
    "Получили **две лучшие модели с максимальной глубиной дерева 7 и с разным количеством деревьев (65 и 115)**. Построили для них ROC-кривые, сравнили показатели F1 и ROC AUC на валидационной выборке. \n",
    "\n",
    "Проверили работу моделей на тестовой выборке. Наилучший результат дает модель, которая оптимизировалась по **F1 score**."
   ]
  },
  {
   "cell_type": "markdown",
   "metadata": {},
   "source": [
    "Остановились на модели `best_model_cw_f1`, которая продемонстрировала наилучшие результаты:\n",
    "    - F1 score: 0.6356 на валидационной выборке и 0.6109 на тестовой выборке;\n",
    "    - ROC AUC: 0.8545 на валидационной выборке и 0.8528 на тестовой выборке."
   ]
  },
  {
   "cell_type": "code",
   "execution_count": null,
   "metadata": {},
   "outputs": [],
   "source": []
  }
 ],
 "metadata": {
  "kernelspec": {
   "display_name": "Python 3",
   "language": "python",
   "name": "python3"
  },
  "language_info": {
   "codemirror_mode": {
    "name": "ipython",
    "version": 3
   },
   "file_extension": ".py",
   "mimetype": "text/x-python",
   "name": "python",
   "nbconvert_exporter": "python",
   "pygments_lexer": "ipython3",
   "version": "3.7.6"
  },
  "toc": {
   "base_numbering": 1,
   "nav_menu": {},
   "number_sections": true,
   "sideBar": true,
   "skip_h1_title": true,
   "title_cell": "Table of Contents",
   "title_sidebar": "Contents",
   "toc_cell": false,
   "toc_position": {},
   "toc_section_display": true,
   "toc_window_display": false
  }
 },
 "nbformat": 4,
 "nbformat_minor": 2
}
