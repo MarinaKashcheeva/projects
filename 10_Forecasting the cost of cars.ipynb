{
 "cells": [
  {
   "cell_type": "markdown",
   "metadata": {},
   "source": [
    "# Определение стоимости автомобилей"
   ]
  },
  {
   "cell_type": "markdown",
   "metadata": {},
   "source": [
    "Сервис по продаже автомобилей с пробегом «Не бит, не крашен» разрабатывает приложение для привлечения новых клиентов. В нём можно быстро узнать рыночную стоимость автомобиля. В нашем распоряжении исторические данные: технические характеристики, комплектации и цены автомобилей. Нужно построить модель для определения стоимости. \n",
    "\n",
    "Заказчику важны:\n",
    "\n",
    "- качество предсказания;\n",
    "- скорость предсказания;\n",
    "- время обучения."
   ]
  },
  {
   "cell_type": "markdown",
   "metadata": {},
   "source": [
    "## Подготовка данных"
   ]
  },
  {
   "cell_type": "markdown",
   "metadata": {},
   "source": [
    "Импортируем библиотеки:"
   ]
  },
  {
   "cell_type": "code",
   "execution_count": 1,
   "metadata": {},
   "outputs": [],
   "source": [
    "import pandas as pd\n",
    "import numpy as np\n",
    "from matplotlib import pyplot as plt\n",
    "from sklearn.preprocessing import StandardScaler\n",
    "from sklearn.model_selection import train_test_split\n",
    "from sklearn.model_selection import GridSearchCV\n",
    "\n",
    "from sklearn.ensemble import RandomForestRegressor\n",
    "from sklearn.linear_model import Lasso\n",
    "from lightgbm import LGBMRegressor\n",
    "from catboost import CatBoostRegressor\n",
    "from catboost import Pool, cv\n",
    "from sklearn.metrics import mean_squared_error\n",
    "\n",
    "import warnings\n",
    "warnings.filterwarnings('ignore')"
   ]
  },
  {
   "cell_type": "markdown",
   "metadata": {},
   "source": [
    "Загрузим данные и посмотрим на первые строки:"
   ]
  },
  {
   "cell_type": "code",
   "execution_count": 2,
   "metadata": {
    "scrolled": false
   },
   "outputs": [
    {
     "data": {
      "text/html": [
       "<div>\n",
       "<style scoped>\n",
       "    .dataframe tbody tr th:only-of-type {\n",
       "        vertical-align: middle;\n",
       "    }\n",
       "\n",
       "    .dataframe tbody tr th {\n",
       "        vertical-align: top;\n",
       "    }\n",
       "\n",
       "    .dataframe thead th {\n",
       "        text-align: right;\n",
       "    }\n",
       "</style>\n",
       "<table border=\"1\" class=\"dataframe\">\n",
       "  <thead>\n",
       "    <tr style=\"text-align: right;\">\n",
       "      <th></th>\n",
       "      <th>DateCrawled</th>\n",
       "      <th>Price</th>\n",
       "      <th>VehicleType</th>\n",
       "      <th>RegistrationYear</th>\n",
       "      <th>Gearbox</th>\n",
       "      <th>Power</th>\n",
       "      <th>Model</th>\n",
       "      <th>Kilometer</th>\n",
       "      <th>RegistrationMonth</th>\n",
       "      <th>FuelType</th>\n",
       "      <th>Brand</th>\n",
       "      <th>NotRepaired</th>\n",
       "      <th>DateCreated</th>\n",
       "      <th>NumberOfPictures</th>\n",
       "      <th>PostalCode</th>\n",
       "      <th>LastSeen</th>\n",
       "    </tr>\n",
       "  </thead>\n",
       "  <tbody>\n",
       "    <tr>\n",
       "      <td>0</td>\n",
       "      <td>2016-03-24 11:52:17</td>\n",
       "      <td>480</td>\n",
       "      <td>NaN</td>\n",
       "      <td>1993</td>\n",
       "      <td>manual</td>\n",
       "      <td>0</td>\n",
       "      <td>golf</td>\n",
       "      <td>150000</td>\n",
       "      <td>0</td>\n",
       "      <td>petrol</td>\n",
       "      <td>volkswagen</td>\n",
       "      <td>NaN</td>\n",
       "      <td>2016-03-24 00:00:00</td>\n",
       "      <td>0</td>\n",
       "      <td>70435</td>\n",
       "      <td>2016-04-07 03:16:57</td>\n",
       "    </tr>\n",
       "    <tr>\n",
       "      <td>1</td>\n",
       "      <td>2016-03-24 10:58:45</td>\n",
       "      <td>18300</td>\n",
       "      <td>coupe</td>\n",
       "      <td>2011</td>\n",
       "      <td>manual</td>\n",
       "      <td>190</td>\n",
       "      <td>NaN</td>\n",
       "      <td>125000</td>\n",
       "      <td>5</td>\n",
       "      <td>gasoline</td>\n",
       "      <td>audi</td>\n",
       "      <td>yes</td>\n",
       "      <td>2016-03-24 00:00:00</td>\n",
       "      <td>0</td>\n",
       "      <td>66954</td>\n",
       "      <td>2016-04-07 01:46:50</td>\n",
       "    </tr>\n",
       "    <tr>\n",
       "      <td>2</td>\n",
       "      <td>2016-03-14 12:52:21</td>\n",
       "      <td>9800</td>\n",
       "      <td>suv</td>\n",
       "      <td>2004</td>\n",
       "      <td>auto</td>\n",
       "      <td>163</td>\n",
       "      <td>grand</td>\n",
       "      <td>125000</td>\n",
       "      <td>8</td>\n",
       "      <td>gasoline</td>\n",
       "      <td>jeep</td>\n",
       "      <td>NaN</td>\n",
       "      <td>2016-03-14 00:00:00</td>\n",
       "      <td>0</td>\n",
       "      <td>90480</td>\n",
       "      <td>2016-04-05 12:47:46</td>\n",
       "    </tr>\n",
       "    <tr>\n",
       "      <td>3</td>\n",
       "      <td>2016-03-17 16:54:04</td>\n",
       "      <td>1500</td>\n",
       "      <td>small</td>\n",
       "      <td>2001</td>\n",
       "      <td>manual</td>\n",
       "      <td>75</td>\n",
       "      <td>golf</td>\n",
       "      <td>150000</td>\n",
       "      <td>6</td>\n",
       "      <td>petrol</td>\n",
       "      <td>volkswagen</td>\n",
       "      <td>no</td>\n",
       "      <td>2016-03-17 00:00:00</td>\n",
       "      <td>0</td>\n",
       "      <td>91074</td>\n",
       "      <td>2016-03-17 17:40:17</td>\n",
       "    </tr>\n",
       "    <tr>\n",
       "      <td>4</td>\n",
       "      <td>2016-03-31 17:25:20</td>\n",
       "      <td>3600</td>\n",
       "      <td>small</td>\n",
       "      <td>2008</td>\n",
       "      <td>manual</td>\n",
       "      <td>69</td>\n",
       "      <td>fabia</td>\n",
       "      <td>90000</td>\n",
       "      <td>7</td>\n",
       "      <td>gasoline</td>\n",
       "      <td>skoda</td>\n",
       "      <td>no</td>\n",
       "      <td>2016-03-31 00:00:00</td>\n",
       "      <td>0</td>\n",
       "      <td>60437</td>\n",
       "      <td>2016-04-06 10:17:21</td>\n",
       "    </tr>\n",
       "  </tbody>\n",
       "</table>\n",
       "</div>"
      ],
      "text/plain": [
       "           DateCrawled  Price VehicleType  RegistrationYear Gearbox  Power  \\\n",
       "0  2016-03-24 11:52:17    480         NaN              1993  manual      0   \n",
       "1  2016-03-24 10:58:45  18300       coupe              2011  manual    190   \n",
       "2  2016-03-14 12:52:21   9800         suv              2004    auto    163   \n",
       "3  2016-03-17 16:54:04   1500       small              2001  manual     75   \n",
       "4  2016-03-31 17:25:20   3600       small              2008  manual     69   \n",
       "\n",
       "   Model  Kilometer  RegistrationMonth  FuelType       Brand NotRepaired  \\\n",
       "0   golf     150000                  0    petrol  volkswagen         NaN   \n",
       "1    NaN     125000                  5  gasoline        audi         yes   \n",
       "2  grand     125000                  8  gasoline        jeep         NaN   \n",
       "3   golf     150000                  6    petrol  volkswagen          no   \n",
       "4  fabia      90000                  7  gasoline       skoda          no   \n",
       "\n",
       "           DateCreated  NumberOfPictures  PostalCode             LastSeen  \n",
       "0  2016-03-24 00:00:00                 0       70435  2016-04-07 03:16:57  \n",
       "1  2016-03-24 00:00:00                 0       66954  2016-04-07 01:46:50  \n",
       "2  2016-03-14 00:00:00                 0       90480  2016-04-05 12:47:46  \n",
       "3  2016-03-17 00:00:00                 0       91074  2016-03-17 17:40:17  \n",
       "4  2016-03-31 00:00:00                 0       60437  2016-04-06 10:17:21  "
      ]
     },
     "execution_count": 2,
     "metadata": {},
     "output_type": "execute_result"
    }
   ],
   "source": [
    "df = pd.read_csv('autos.csv')\n",
    "df.head()"
   ]
  },
  {
   "cell_type": "markdown",
   "metadata": {},
   "source": [
    "Узнаем количество данных в датасете и типы данных в разных столбцах:"
   ]
  },
  {
   "cell_type": "code",
   "execution_count": 3,
   "metadata": {
    "scrolled": true
   },
   "outputs": [
    {
     "name": "stdout",
     "output_type": "stream",
     "text": [
      "<class 'pandas.core.frame.DataFrame'>\n",
      "RangeIndex: 354369 entries, 0 to 354368\n",
      "Data columns (total 16 columns):\n",
      "DateCrawled          354369 non-null object\n",
      "Price                354369 non-null int64\n",
      "VehicleType          316879 non-null object\n",
      "RegistrationYear     354369 non-null int64\n",
      "Gearbox              334536 non-null object\n",
      "Power                354369 non-null int64\n",
      "Model                334664 non-null object\n",
      "Kilometer            354369 non-null int64\n",
      "RegistrationMonth    354369 non-null int64\n",
      "FuelType             321474 non-null object\n",
      "Brand                354369 non-null object\n",
      "NotRepaired          283215 non-null object\n",
      "DateCreated          354369 non-null object\n",
      "NumberOfPictures     354369 non-null int64\n",
      "PostalCode           354369 non-null int64\n",
      "LastSeen             354369 non-null object\n",
      "dtypes: int64(7), object(9)\n",
      "memory usage: 43.3+ MB\n"
     ]
    }
   ],
   "source": [
    "df.info()"
   ]
  },
  {
   "cell_type": "markdown",
   "metadata": {},
   "source": [
    "Сохраним количество наблюдений в датасете в переменную `size`:"
   ]
  },
  {
   "cell_type": "code",
   "execution_count": 4,
   "metadata": {},
   "outputs": [
    {
     "data": {
      "text/plain": [
       "354369"
      ]
     },
     "execution_count": 4,
     "metadata": {},
     "output_type": "execute_result"
    }
   ],
   "source": [
    "size = len(df)\n",
    "size"
   ]
  },
  {
   "cell_type": "markdown",
   "metadata": {},
   "source": [
    "Оставим только те столбцы, которые пригодятся для обучения модели:"
   ]
  },
  {
   "cell_type": "code",
   "execution_count": 5,
   "metadata": {
    "scrolled": true
   },
   "outputs": [
    {
     "name": "stdout",
     "output_type": "stream",
     "text": [
      "<class 'pandas.core.frame.DataFrame'>\n",
      "RangeIndex: 354369 entries, 0 to 354368\n",
      "Data columns (total 10 columns):\n",
      "Price               354369 non-null int64\n",
      "VehicleType         316879 non-null object\n",
      "RegistrationYear    354369 non-null int64\n",
      "Gearbox             334536 non-null object\n",
      "Power               354369 non-null int64\n",
      "Model               334664 non-null object\n",
      "Kilometer           354369 non-null int64\n",
      "FuelType            321474 non-null object\n",
      "Brand               354369 non-null object\n",
      "NotRepaired         283215 non-null object\n",
      "dtypes: int64(4), object(6)\n",
      "memory usage: 27.0+ MB\n"
     ]
    }
   ],
   "source": [
    "df = df.drop(['DateCrawled', 'RegistrationMonth', 'DateCreated', 'NumberOfPictures', 'PostalCode', 'LastSeen'], axis = 1)\n",
    "df.info()"
   ]
  },
  {
   "cell_type": "markdown",
   "metadata": {},
   "source": [
    "Посмотрим, сколько пропусков в датасете и в каких столбцах есть пропущенные значения:"
   ]
  },
  {
   "cell_type": "code",
   "execution_count": 6,
   "metadata": {},
   "outputs": [
    {
     "data": {
      "text/plain": [
       "Price                   0\n",
       "VehicleType         37490\n",
       "RegistrationYear        0\n",
       "Gearbox             19833\n",
       "Power                   0\n",
       "Model               19705\n",
       "Kilometer               0\n",
       "FuelType            32895\n",
       "Brand                   0\n",
       "NotRepaired         71154\n",
       "dtype: int64"
      ]
     },
     "execution_count": 6,
     "metadata": {},
     "output_type": "execute_result"
    }
   ],
   "source": [
    "df.isna().sum()"
   ]
  },
  {
   "cell_type": "markdown",
   "metadata": {},
   "source": [
    "Больше всего пропусков в столбце `NotRepaired`. Посмотрим, как распределены данные в этом столбце:"
   ]
  },
  {
   "cell_type": "code",
   "execution_count": 7,
   "metadata": {},
   "outputs": [
    {
     "data": {
      "text/plain": [
       "no     0.697468\n",
       "NaN    0.200791\n",
       "yes    0.101741\n",
       "Name: NotRepaired, dtype: float64"
      ]
     },
     "execution_count": 7,
     "metadata": {},
     "output_type": "execute_result"
    }
   ],
   "source": [
    "df.NotRepaired.value_counts(dropna = False, normalize = True)"
   ]
  },
  {
   "cell_type": "markdown",
   "metadata": {},
   "source": [
    "70% авто не были в серьезном ремонте и только 10% были, а про остальные 20% информация не предоставлена. Эта информация важна для предсказания цены, и все автовладельцы это понимают: машины, побывавшие в авариях, стоят дешевле. \n",
    "\n",
    "Если автовладелец не указал эту информацию, будем по умолчанию считать, что автомобиль \"не бит, не крашен\". \n",
    "\n",
    "А если \"бит и крашен\", то, умалчивая об этой информации, автовладелец, скорее всего, понимает, что при продаже этот факт выяснится, и реальная цена, по которой он сможет продать машину, вероятно, будет отличаться от предсказанной сервисом (в меньшую сторону)."
   ]
  },
  {
   "cell_type": "code",
   "execution_count": 8,
   "metadata": {
    "scrolled": true
   },
   "outputs": [
    {
     "data": {
      "text/plain": [
       "no     0.898259\n",
       "yes    0.101741\n",
       "Name: NotRepaired, dtype: float64"
      ]
     },
     "execution_count": 8,
     "metadata": {},
     "output_type": "execute_result"
    }
   ],
   "source": [
    "df.NotRepaired = df.NotRepaired.fillna('no')\n",
    "df.NotRepaired.value_counts(dropna = False, normalize = True)"
   ]
  },
  {
   "cell_type": "markdown",
   "metadata": {},
   "source": [
    "Около 5,5% объектов в датасете содержат пропуски в столбце с моделью авто. Можно предположить, что один из ключевых признаков для предсказания цены: машины одной модели одного года выпуска, скорее всего, будут стоить примерно одинаково. \n",
    "\n",
    "Но угадать модель на основе других данных об автомобиле - сложная задача, а ошибка приведет к ошибкам в работе нашей модели. \n",
    "\n",
    "Так что лучше избавимся от объектов, для которых не указана модель, тем более, что датасет довольно большой и потеря 5% от него не критична.\n",
    "\n",
    "Правда, есть еще и объекты, где модель не отсутствует, а обозначена как \"other\". Возможно, это редкие модели или модели, названия которых указали с ошибками. В любом случае, такое значение модели не информативно и вряд ли поможет обучению модели.\n",
    "\n",
    "Посмотрим, сколько в датасете таких объектов."
   ]
  },
  {
   "cell_type": "code",
   "execution_count": 9,
   "metadata": {},
   "outputs": [
    {
     "data": {
      "text/plain": [
       "6.891404157812901"
      ]
     },
     "execution_count": 9,
     "metadata": {},
     "output_type": "execute_result"
    }
   ],
   "source": [
    "df[(df.Model.isna()) | (df.Model == 'other')].Model.count() / size * 100"
   ]
  },
  {
   "cell_type": "markdown",
   "metadata": {},
   "source": [
    "В общей сложности (пропусков и \"other\") - чуть менее 7%. Не так уж много; удалим эти объекты."
   ]
  },
  {
   "cell_type": "code",
   "execution_count": 10,
   "metadata": {},
   "outputs": [],
   "source": [
    "df.drop(df[(df.Model.isna()) | (df.Model == 'other')].index, inplace = True)"
   ]
  },
  {
   "cell_type": "markdown",
   "metadata": {},
   "source": [
    "Много пропусков в столбце `VehicleType`:"
   ]
  },
  {
   "cell_type": "code",
   "execution_count": 11,
   "metadata": {},
   "outputs": [
    {
     "data": {
      "text/plain": [
       "sedan          0.266562\n",
       "small          0.235264\n",
       "wagon          0.195698\n",
       "NaN            0.092840\n",
       "bus            0.076131\n",
       "convertible    0.057655\n",
       "coupe          0.040239\n",
       "suv            0.028897\n",
       "other          0.006714\n",
       "Name: VehicleType, dtype: float64"
      ]
     },
     "execution_count": 11,
     "metadata": {},
     "output_type": "execute_result"
    }
   ],
   "source": [
    "df.VehicleType.value_counts(dropna = False, normalize = True)"
   ]
  },
  {
   "cell_type": "markdown",
   "metadata": {},
   "source": [
    "Тип кузова зависит от модели. Значит, можно заполнить пропуски в столбце с типом кузова, опираясь на тип кузова, указанный для других авто той же модели. \n",
    "\n",
    "Правда, выясняется, что для одной и той же модели могут указывать разные типы кузова."
   ]
  },
  {
   "cell_type": "code",
   "execution_count": 12,
   "metadata": {},
   "outputs": [
    {
     "data": {
      "text/plain": [
       "Model   VehicleType\n",
       "100     sedan          278\n",
       "        wagon          109\n",
       "        coupe            2\n",
       "        convertible      1\n",
       "145     small           19\n",
       "                      ... \n",
       "zafira  sedan           22\n",
       "        small           11\n",
       "        suv              7\n",
       "        convertible      1\n",
       "        coupe            1\n",
       "Name: VehicleType, Length: 1123, dtype: int64"
      ]
     },
     "execution_count": 12,
     "metadata": {},
     "output_type": "execute_result"
    }
   ],
   "source": [
    "df.groupby('Model').VehicleType.value_counts()"
   ]
  },
  {
   "cell_type": "markdown",
   "metadata": {},
   "source": [
    "Положимся на мнение большинства: для каждой модели найдем наиболее часто встречающееся значение в столбце с типом кузова.\n",
    "\n",
    "Но сначала проверим, все ли названия моделей уникальны. Оказывается, не все. 8 названий моделей относятся более чем к 1 бренду. Сохраним их в переменную `not_unique_models`:"
   ]
  },
  {
   "cell_type": "code",
   "execution_count": 13,
   "metadata": {},
   "outputs": [],
   "source": [
    "not_unique_models = df.groupby('Model').Brand.nunique().sort_values(ascending = False).head(8).index.to_list()"
   ]
  },
  {
   "cell_type": "markdown",
   "metadata": {},
   "source": [
    "Посмотрим, что это за модели и к каким брендам они относятся:"
   ]
  },
  {
   "cell_type": "code",
   "execution_count": 14,
   "metadata": {},
   "outputs": [
    {
     "data": {
      "text/plain": [
       "Model       Brand     \n",
       "1_reihe     mazda          100\n",
       "            peugeot       1206\n",
       "3_reihe     mazda         1322\n",
       "            peugeot       2171\n",
       "5_reihe     mazda          329\n",
       "            peugeot        113\n",
       "defender    land_rover      75\n",
       "            rover            1\n",
       "discovery   land_rover      77\n",
       "            rover            2\n",
       "freelander  land_rover     215\n",
       "            rover            3\n",
       "grand       chrysler       110\n",
       "            jeep           241\n",
       "            suzuki         210\n",
       "matiz       chevrolet      284\n",
       "            daewoo         159\n",
       "Name: Brand, dtype: int64"
      ]
     },
     "execution_count": 14,
     "metadata": {},
     "output_type": "execute_result"
    }
   ],
   "source": [
    "df[df.Model.isin(not_unique_models)].groupby(['Model', 'Brand']).Brand.count()"
   ]
  },
  {
   "cell_type": "markdown",
   "metadata": {},
   "source": [
    "В случае с 3 моделями Land Rover проблему можно решить, переименовав бренд \"rover\" в \"land_rover\":"
   ]
  },
  {
   "cell_type": "code",
   "execution_count": 15,
   "metadata": {},
   "outputs": [],
   "source": [
    "df.loc[df.Brand == 'rover', 'Brand'] = 'land_rover'"
   ]
  },
  {
   "cell_type": "markdown",
   "metadata": {},
   "source": [
    "Остальные модели из списка неуникальных названий моделей переименуем, добавив к названию модели название соответствующего бренда:"
   ]
  },
  {
   "cell_type": "code",
   "execution_count": 16,
   "metadata": {},
   "outputs": [],
   "source": [
    "def model_brand(row):\n",
    "    model_brand = row['Model'] + ' ' + row['Brand']\n",
    "    return model_brand"
   ]
  },
  {
   "cell_type": "code",
   "execution_count": 17,
   "metadata": {},
   "outputs": [],
   "source": [
    "df.loc[(df.Model.isin(not_unique_models)) & (df.Brand.isin(['mazda', 'peugeot', 'chrysler', 'jeep', 'suzuki', 'chevrolet', 'daewoo'])), 'Model'] = df.loc[(df.Model.isin(not_unique_models)) & (df.Brand.isin(['mazda', 'peugeot', 'chrysler', 'jeep', 'suzuki', 'chevrolet', 'daewoo']))].apply(model_brand, axis = 1)"
   ]
  },
  {
   "cell_type": "markdown",
   "metadata": {},
   "source": [
    "Теперь можем для каждой уникальной модели найти наиболее часто встречающееся значение в столбце `VehicleType` (тип кузова). Сохраним это значение в новый столбец `VType` и используем для замены пропусков в столбце с типом кузова. После замены удалим новый столбец `VType`:"
   ]
  },
  {
   "cell_type": "code",
   "execution_count": 18,
   "metadata": {
    "scrolled": true
   },
   "outputs": [],
   "source": [
    "vtm = {}\n",
    "for i in df.Model.values:\n",
    "    if i not in vtm:\n",
    "        vt = df[df.Model == i].VehicleType.value_counts().index[0]\n",
    "        vtm[i] = vt"
   ]
  },
  {
   "cell_type": "code",
   "execution_count": 19,
   "metadata": {
    "scrolled": false
   },
   "outputs": [
    {
     "data": {
      "text/html": [
       "<div>\n",
       "<style scoped>\n",
       "    .dataframe tbody tr th:only-of-type {\n",
       "        vertical-align: middle;\n",
       "    }\n",
       "\n",
       "    .dataframe tbody tr th {\n",
       "        vertical-align: top;\n",
       "    }\n",
       "\n",
       "    .dataframe thead th {\n",
       "        text-align: right;\n",
       "    }\n",
       "</style>\n",
       "<table border=\"1\" class=\"dataframe\">\n",
       "  <thead>\n",
       "    <tr style=\"text-align: right;\">\n",
       "      <th></th>\n",
       "      <th>Price</th>\n",
       "      <th>VehicleType</th>\n",
       "      <th>RegistrationYear</th>\n",
       "      <th>Gearbox</th>\n",
       "      <th>Power</th>\n",
       "      <th>Model</th>\n",
       "      <th>Kilometer</th>\n",
       "      <th>FuelType</th>\n",
       "      <th>Brand</th>\n",
       "      <th>NotRepaired</th>\n",
       "      <th>VType</th>\n",
       "    </tr>\n",
       "  </thead>\n",
       "  <tbody>\n",
       "    <tr>\n",
       "      <td>0</td>\n",
       "      <td>480</td>\n",
       "      <td>NaN</td>\n",
       "      <td>1993</td>\n",
       "      <td>manual</td>\n",
       "      <td>0</td>\n",
       "      <td>golf</td>\n",
       "      <td>150000</td>\n",
       "      <td>petrol</td>\n",
       "      <td>volkswagen</td>\n",
       "      <td>no</td>\n",
       "      <td>sedan</td>\n",
       "    </tr>\n",
       "    <tr>\n",
       "      <td>2</td>\n",
       "      <td>9800</td>\n",
       "      <td>suv</td>\n",
       "      <td>2004</td>\n",
       "      <td>auto</td>\n",
       "      <td>163</td>\n",
       "      <td>grand jeep</td>\n",
       "      <td>125000</td>\n",
       "      <td>gasoline</td>\n",
       "      <td>jeep</td>\n",
       "      <td>no</td>\n",
       "      <td>suv</td>\n",
       "    </tr>\n",
       "    <tr>\n",
       "      <td>3</td>\n",
       "      <td>1500</td>\n",
       "      <td>small</td>\n",
       "      <td>2001</td>\n",
       "      <td>manual</td>\n",
       "      <td>75</td>\n",
       "      <td>golf</td>\n",
       "      <td>150000</td>\n",
       "      <td>petrol</td>\n",
       "      <td>volkswagen</td>\n",
       "      <td>no</td>\n",
       "      <td>sedan</td>\n",
       "    </tr>\n",
       "    <tr>\n",
       "      <td>4</td>\n",
       "      <td>3600</td>\n",
       "      <td>small</td>\n",
       "      <td>2008</td>\n",
       "      <td>manual</td>\n",
       "      <td>69</td>\n",
       "      <td>fabia</td>\n",
       "      <td>90000</td>\n",
       "      <td>gasoline</td>\n",
       "      <td>skoda</td>\n",
       "      <td>no</td>\n",
       "      <td>small</td>\n",
       "    </tr>\n",
       "    <tr>\n",
       "      <td>5</td>\n",
       "      <td>650</td>\n",
       "      <td>sedan</td>\n",
       "      <td>1995</td>\n",
       "      <td>manual</td>\n",
       "      <td>102</td>\n",
       "      <td>3er</td>\n",
       "      <td>150000</td>\n",
       "      <td>petrol</td>\n",
       "      <td>bmw</td>\n",
       "      <td>yes</td>\n",
       "      <td>sedan</td>\n",
       "    </tr>\n",
       "  </tbody>\n",
       "</table>\n",
       "</div>"
      ],
      "text/plain": [
       "   Price VehicleType  RegistrationYear Gearbox  Power       Model  Kilometer  \\\n",
       "0    480         NaN              1993  manual      0        golf     150000   \n",
       "2   9800         suv              2004    auto    163  grand jeep     125000   \n",
       "3   1500       small              2001  manual     75        golf     150000   \n",
       "4   3600       small              2008  manual     69       fabia      90000   \n",
       "5    650       sedan              1995  manual    102         3er     150000   \n",
       "\n",
       "   FuelType       Brand NotRepaired  VType  \n",
       "0    petrol  volkswagen          no  sedan  \n",
       "2  gasoline        jeep          no    suv  \n",
       "3    petrol  volkswagen          no  sedan  \n",
       "4  gasoline       skoda          no  small  \n",
       "5    petrol         bmw         yes  sedan  "
      ]
     },
     "execution_count": 19,
     "metadata": {},
     "output_type": "execute_result"
    }
   ],
   "source": [
    "df['VType'] = df.Model.map(vtm)\n",
    "df.head()"
   ]
  },
  {
   "cell_type": "code",
   "execution_count": 20,
   "metadata": {},
   "outputs": [],
   "source": [
    "df.loc[(df.VehicleType.isna()) | (df.VehicleType == 'other'), 'VehicleType'] = df.loc[(df.VehicleType.isna()) | (df.VehicleType == 'other'), 'VType']"
   ]
  },
  {
   "cell_type": "code",
   "execution_count": 21,
   "metadata": {},
   "outputs": [
    {
     "data": {
      "text/plain": [
       "sedan          95777\n",
       "small          81915\n",
       "wagon          64470\n",
       "bus            27561\n",
       "convertible    18159\n",
       "coupe          12898\n",
       "suv             9456\n",
       "other              7\n",
       "Name: VehicleType, dtype: int64"
      ]
     },
     "execution_count": 21,
     "metadata": {},
     "output_type": "execute_result"
    }
   ],
   "source": [
    "df.VehicleType.value_counts()"
   ]
  },
  {
   "cell_type": "code",
   "execution_count": 22,
   "metadata": {
    "scrolled": true
   },
   "outputs": [
    {
     "data": {
      "text/html": [
       "<div>\n",
       "<style scoped>\n",
       "    .dataframe tbody tr th:only-of-type {\n",
       "        vertical-align: middle;\n",
       "    }\n",
       "\n",
       "    .dataframe tbody tr th {\n",
       "        vertical-align: top;\n",
       "    }\n",
       "\n",
       "    .dataframe thead th {\n",
       "        text-align: right;\n",
       "    }\n",
       "</style>\n",
       "<table border=\"1\" class=\"dataframe\">\n",
       "  <thead>\n",
       "    <tr style=\"text-align: right;\">\n",
       "      <th></th>\n",
       "      <th>Price</th>\n",
       "      <th>VehicleType</th>\n",
       "      <th>RegistrationYear</th>\n",
       "      <th>Gearbox</th>\n",
       "      <th>Power</th>\n",
       "      <th>Model</th>\n",
       "      <th>Kilometer</th>\n",
       "      <th>FuelType</th>\n",
       "      <th>Brand</th>\n",
       "      <th>NotRepaired</th>\n",
       "    </tr>\n",
       "  </thead>\n",
       "  <tbody>\n",
       "    <tr>\n",
       "      <td>0</td>\n",
       "      <td>480</td>\n",
       "      <td>sedan</td>\n",
       "      <td>1993</td>\n",
       "      <td>manual</td>\n",
       "      <td>0</td>\n",
       "      <td>golf</td>\n",
       "      <td>150000</td>\n",
       "      <td>petrol</td>\n",
       "      <td>volkswagen</td>\n",
       "      <td>no</td>\n",
       "    </tr>\n",
       "    <tr>\n",
       "      <td>2</td>\n",
       "      <td>9800</td>\n",
       "      <td>suv</td>\n",
       "      <td>2004</td>\n",
       "      <td>auto</td>\n",
       "      <td>163</td>\n",
       "      <td>grand jeep</td>\n",
       "      <td>125000</td>\n",
       "      <td>gasoline</td>\n",
       "      <td>jeep</td>\n",
       "      <td>no</td>\n",
       "    </tr>\n",
       "    <tr>\n",
       "      <td>3</td>\n",
       "      <td>1500</td>\n",
       "      <td>small</td>\n",
       "      <td>2001</td>\n",
       "      <td>manual</td>\n",
       "      <td>75</td>\n",
       "      <td>golf</td>\n",
       "      <td>150000</td>\n",
       "      <td>petrol</td>\n",
       "      <td>volkswagen</td>\n",
       "      <td>no</td>\n",
       "    </tr>\n",
       "    <tr>\n",
       "      <td>4</td>\n",
       "      <td>3600</td>\n",
       "      <td>small</td>\n",
       "      <td>2008</td>\n",
       "      <td>manual</td>\n",
       "      <td>69</td>\n",
       "      <td>fabia</td>\n",
       "      <td>90000</td>\n",
       "      <td>gasoline</td>\n",
       "      <td>skoda</td>\n",
       "      <td>no</td>\n",
       "    </tr>\n",
       "    <tr>\n",
       "      <td>5</td>\n",
       "      <td>650</td>\n",
       "      <td>sedan</td>\n",
       "      <td>1995</td>\n",
       "      <td>manual</td>\n",
       "      <td>102</td>\n",
       "      <td>3er</td>\n",
       "      <td>150000</td>\n",
       "      <td>petrol</td>\n",
       "      <td>bmw</td>\n",
       "      <td>yes</td>\n",
       "    </tr>\n",
       "  </tbody>\n",
       "</table>\n",
       "</div>"
      ],
      "text/plain": [
       "   Price VehicleType  RegistrationYear Gearbox  Power       Model  Kilometer  \\\n",
       "0    480       sedan              1993  manual      0        golf     150000   \n",
       "2   9800         suv              2004    auto    163  grand jeep     125000   \n",
       "3   1500       small              2001  manual     75        golf     150000   \n",
       "4   3600       small              2008  manual     69       fabia      90000   \n",
       "5    650       sedan              1995  manual    102         3er     150000   \n",
       "\n",
       "   FuelType       Brand NotRepaired  \n",
       "0    petrol  volkswagen          no  \n",
       "2  gasoline        jeep          no  \n",
       "3    petrol  volkswagen          no  \n",
       "4  gasoline       skoda          no  \n",
       "5    petrol         bmw         yes  "
      ]
     },
     "execution_count": 22,
     "metadata": {},
     "output_type": "execute_result"
    }
   ],
   "source": [
    "df.drop('VType', axis = 1, inplace = True)\n",
    "df.head()"
   ]
  },
  {
   "cell_type": "markdown",
   "metadata": {},
   "source": [
    "Посмотрим, как обстоят дела с пропусками в столбцах `FuelType` (тип топлива) и `Gearbox` (тип коробки передач):"
   ]
  },
  {
   "cell_type": "code",
   "execution_count": 23,
   "metadata": {
    "scrolled": false
   },
   "outputs": [
    {
     "data": {
      "text/plain": [
       "petrol      0.616846\n",
       "gasoline    0.290163\n",
       "NaN         0.076627\n",
       "lpg         0.013873\n",
       "cng         0.001641\n",
       "hybrid      0.000425\n",
       "other       0.000335\n",
       "electric    0.000090\n",
       "Name: FuelType, dtype: float64"
      ]
     },
     "execution_count": 23,
     "metadata": {},
     "output_type": "execute_result"
    }
   ],
   "source": [
    "df.FuelType.value_counts(dropna = False, normalize = True)"
   ]
  },
  {
   "cell_type": "code",
   "execution_count": 24,
   "metadata": {
    "scrolled": true
   },
   "outputs": [
    {
     "data": {
      "text/plain": [
       "manual    0.767160\n",
       "auto      0.186728\n",
       "NaN       0.046112\n",
       "Name: Gearbox, dtype: float64"
      ]
     },
     "execution_count": 24,
     "metadata": {},
     "output_type": "execute_result"
    }
   ],
   "source": [
    "df.Gearbox.value_counts(dropna = False, normalize = True)"
   ]
  },
  {
   "cell_type": "markdown",
   "metadata": {},
   "source": [
    "Пропусков довольно много, но восстановить пропущенные значения на основе данных в других столбцах будет сложно:"
   ]
  },
  {
   "cell_type": "code",
   "execution_count": 25,
   "metadata": {
    "scrolled": true
   },
   "outputs": [
    {
     "data": {
      "text/plain": [
       "Model\n",
       "golf                  7\n",
       "astra                 7\n",
       "e_klasse              7\n",
       "c_klasse              6\n",
       "3er                   6\n",
       "                     ..\n",
       "amarok                1\n",
       "materia               1\n",
       "90                    1\n",
       "911                   1\n",
       "range_rover_evoque    1\n",
       "Name: FuelType, Length: 255, dtype: int64"
      ]
     },
     "execution_count": 25,
     "metadata": {},
     "output_type": "execute_result"
    }
   ],
   "source": [
    "df.groupby('Model').FuelType.nunique().sort_values(ascending = False)"
   ]
  },
  {
   "cell_type": "markdown",
   "metadata": {},
   "source": [
    "В обоих случаях есть заметный перевес в сторону наиболее частого значения признака: почти 77% авто - с ручной коробкой передач и почти 62% машин работают на бензине. При этом кажется, что оба фактора не очень сильно влияют на рыночную цену автомобиля. Поэтому заменим отсутствующие значения наиболее распространенными: если значение пропущено, то будем по умолчанию считать, что коробка передач - ручная, а тип топлива - бензин."
   ]
  },
  {
   "cell_type": "code",
   "execution_count": 26,
   "metadata": {
    "scrolled": true
   },
   "outputs": [],
   "source": [
    "df.loc[df.FuelType.isna(), 'FuelType'] = 'petrol'\n",
    "df.loc[df.FuelType == 'other', 'FuelType'] = 'petrol'"
   ]
  },
  {
   "cell_type": "code",
   "execution_count": 27,
   "metadata": {},
   "outputs": [
    {
     "data": {
      "text/plain": [
       "petrol      0.693808\n",
       "gasoline    0.290163\n",
       "lpg         0.013873\n",
       "cng         0.001641\n",
       "hybrid      0.000425\n",
       "electric    0.000090\n",
       "Name: FuelType, dtype: float64"
      ]
     },
     "execution_count": 27,
     "metadata": {},
     "output_type": "execute_result"
    }
   ],
   "source": [
    "df.FuelType.value_counts(dropna = False, normalize = True)"
   ]
  },
  {
   "cell_type": "code",
   "execution_count": 28,
   "metadata": {},
   "outputs": [],
   "source": [
    "df.Gearbox = df.Gearbox.fillna('manual')"
   ]
  },
  {
   "cell_type": "code",
   "execution_count": 29,
   "metadata": {},
   "outputs": [
    {
     "data": {
      "text/plain": [
       "manual    0.813272\n",
       "auto      0.186728\n",
       "Name: Gearbox, dtype: float64"
      ]
     },
     "execution_count": 29,
     "metadata": {},
     "output_type": "execute_result"
    }
   ],
   "source": [
    "df.Gearbox.value_counts(dropna = False, normalize = True)"
   ]
  },
  {
   "cell_type": "markdown",
   "metadata": {},
   "source": [
    "Теперь проверим распределение целевого признака (цены):"
   ]
  },
  {
   "cell_type": "code",
   "execution_count": 30,
   "metadata": {},
   "outputs": [
    {
     "data": {
      "text/plain": [
       "count    310243.000000\n",
       "mean       4511.317122\n",
       "std        4519.368948\n",
       "min           0.000000\n",
       "25%        1150.000000\n",
       "50%        2850.000000\n",
       "75%        6500.000000\n",
       "max       20000.000000\n",
       "Name: Price, dtype: float64"
      ]
     },
     "execution_count": 30,
     "metadata": {},
     "output_type": "execute_result"
    }
   ],
   "source": [
    "df.Price.describe()"
   ]
  },
  {
   "cell_type": "code",
   "execution_count": 31,
   "metadata": {
    "scrolled": true
   },
   "outputs": [
    {
     "data": {
      "image/png": "[encoded data removed]",
      "text/plain": [
       "<Figure size 432x288 with 1 Axes>"
      ]
     },
     "metadata": {
      "needs_background": "light"
     },
     "output_type": "display_data"
    }
   ],
   "source": [
    "df.Price.hist(bins = 200)\n",
    "plt.xlabel('Стоимость автомобиля, евро')\n",
    "plt.ylabel('Количество автомобилей')\n",
    "plt.title('Распределение по стоимости автомобилей');"
   ]
  },
  {
   "cell_type": "markdown",
   "metadata": {},
   "source": [
    "В целом распределение выглядит правдоподобно: медиана на уровне 2850 евро, длинный хвост гораздо более дорогих машин. \n",
    "\n",
    "Но от нулей точно нужно избавиться. Да и очень дешевые машины вызывают вопросы:"
   ]
  },
  {
   "cell_type": "code",
   "execution_count": 32,
   "metadata": {
    "scrolled": true
   },
   "outputs": [
    {
     "data": {
      "image/png": "[encoded data removed]",
      "text/plain": [
       "<Figure size 432x288 with 1 Axes>"
      ]
     },
     "metadata": {
      "needs_background": "light"
     },
     "output_type": "display_data"
    }
   ],
   "source": [
    "df.Price.hist(bins = 100, range = (0, 2500))\n",
    "plt.xlabel('Стоимость автомобиля, евро')\n",
    "plt.ylabel('Количество автомобилей')\n",
    "plt.title('Распределение по стоимости автомобилей');"
   ]
  },
  {
   "cell_type": "code",
   "execution_count": 33,
   "metadata": {
    "scrolled": false
   },
   "outputs": [
    {
     "data": {
      "text/plain": [
       "1997    1912\n",
       "2000    1824\n",
       "1995    1636\n",
       "1998    1556\n",
       "1996    1497\n",
       "Name: RegistrationYear, dtype: int64"
      ]
     },
     "execution_count": 33,
     "metadata": {},
     "output_type": "execute_result"
    }
   ],
   "source": [
    "df[(df.Price > 1) & (df.Price < 400)].RegistrationYear.value_counts().head()"
   ]
  },
  {
   "cell_type": "code",
   "execution_count": 34,
   "metadata": {},
   "outputs": [
    {
     "data": {
      "text/plain": [
       "Model   Brand     \n",
       "corsa   opel          1822\n",
       "polo    volkswagen    1517\n",
       "golf    volkswagen    1456\n",
       "fiesta  ford           809\n",
       "astra   opel           775\n",
       "twingo  renault        756\n",
       "ka      ford           555\n",
       "3er     bmw            441\n",
       "vectra  opel           430\n",
       "mondeo  ford           405\n",
       "Name: Brand, dtype: int64"
      ]
     },
     "execution_count": 34,
     "metadata": {},
     "output_type": "execute_result"
    }
   ],
   "source": [
    "df[(df.Price > 1) & (df.Price < 400)].groupby('Model').Brand.value_counts().sort_values(ascending = False).head(10)"
   ]
  },
  {
   "cell_type": "code",
   "execution_count": 35,
   "metadata": {},
   "outputs": [
    {
     "data": {
      "text/plain": [
       "no     0.676899\n",
       "yes    0.323101\n",
       "Name: NotRepaired, dtype: float64"
      ]
     },
     "execution_count": 35,
     "metadata": {},
     "output_type": "execute_result"
    }
   ],
   "source": [
    "df[(df.Price > 1) & (df.Price < 400)].NotRepaired.value_counts(normalize = True)"
   ]
  },
  {
   "cell_type": "markdown",
   "metadata": {},
   "source": [
    "В целом, похоже на правду: недорогие модели возрастом старше 15 лет, и каждый третий автомобиль \"бит и крашен\".\n",
    "\n",
    "Удалим совсем уж неправдоподобные по цене предложения (дешевле 250 евро), а остальные оставим."
   ]
  },
  {
   "cell_type": "code",
   "execution_count": 36,
   "metadata": {},
   "outputs": [
    {
     "data": {
      "text/plain": [
       "4.307656708120631"
      ]
     },
     "execution_count": 36,
     "metadata": {},
     "output_type": "execute_result"
    }
   ],
   "source": [
    "len(df[df.Price < 250]) / size * 100"
   ]
  },
  {
   "cell_type": "markdown",
   "metadata": {},
   "source": [
    "Придется расстаться еще с 4% исходного датасета, но ничего не поделаешь: наблюдения без целевого признака нам не нужны."
   ]
  },
  {
   "cell_type": "code",
   "execution_count": 37,
   "metadata": {},
   "outputs": [],
   "source": [
    "df.drop(df[df.Price < 250].index, inplace = True)"
   ]
  },
  {
   "cell_type": "markdown",
   "metadata": {},
   "source": [
    "Проверим на выбросы данные в других столбцах:"
   ]
  },
  {
   "cell_type": "code",
   "execution_count": 38,
   "metadata": {},
   "outputs": [
    {
     "data": {
      "text/plain": [
       "count    294978.000000\n",
       "mean       2004.071999\n",
       "std          49.644933\n",
       "min        1000.000000\n",
       "25%        1999.000000\n",
       "50%        2004.000000\n",
       "75%        2008.000000\n",
       "max        9999.000000\n",
       "Name: RegistrationYear, dtype: float64"
      ]
     },
     "execution_count": 38,
     "metadata": {},
     "output_type": "execute_result"
    }
   ],
   "source": [
    "df.RegistrationYear.describe()"
   ]
  },
  {
   "cell_type": "code",
   "execution_count": 39,
   "metadata": {},
   "outputs": [
    {
     "data": {
      "image/png": "[encoded data removed]",
      "text/plain": [
       "<Figure size 432x288 with 1 Axes>"
      ]
     },
     "metadata": {
      "needs_background": "light"
     },
     "output_type": "display_data"
    }
   ],
   "source": [
    "df.RegistrationYear.hist(range = (1950, 2021), bins = 50)\n",
    "plt.xlabel('Год регистрации автомобиля')\n",
    "plt.ylabel('Количество автомобилей')\n",
    "plt.title('Распределение по году регистрации автомобиля');"
   ]
  },
  {
   "cell_type": "markdown",
   "metadata": {},
   "source": [
    "Избавимся от аномальных значений: объектов, для которых указан год выпуска ранее 1960 г. или позже 2016 г. (т.к. данные выгружены в начале 2016 г.)."
   ]
  },
  {
   "cell_type": "code",
   "execution_count": 40,
   "metadata": {},
   "outputs": [
    {
     "data": {
      "text/plain": [
       "3.1834048689360523"
      ]
     },
     "execution_count": 40,
     "metadata": {},
     "output_type": "execute_result"
    }
   ],
   "source": [
    "len(df[(df.RegistrationYear < 1960) | (df.RegistrationYear > 2016)]) / size * 100"
   ]
  },
  {
   "cell_type": "markdown",
   "metadata": {},
   "source": [
    "Это примерно 3% от исходного датасета."
   ]
  },
  {
   "cell_type": "code",
   "execution_count": 41,
   "metadata": {},
   "outputs": [],
   "source": [
    "df.drop(df[(df.RegistrationYear < 1960) | (df.RegistrationYear > 2016)].index, inplace = True)"
   ]
  },
  {
   "cell_type": "code",
   "execution_count": 42,
   "metadata": {},
   "outputs": [
    {
     "data": {
      "text/plain": [
       "count    283697.000000\n",
       "mean     128809.539755\n",
       "std       36415.570322\n",
       "min        5000.000000\n",
       "25%      125000.000000\n",
       "50%      150000.000000\n",
       "75%      150000.000000\n",
       "max      150000.000000\n",
       "Name: Kilometer, dtype: float64"
      ]
     },
     "execution_count": 42,
     "metadata": {},
     "output_type": "execute_result"
    }
   ],
   "source": [
    "df.Kilometer.describe()"
   ]
  },
  {
   "cell_type": "markdown",
   "metadata": {},
   "source": [
    "Аномальных значений пробега нет, хотя распределение признака вызывает вопросы. Вероятно, пробег более 150 000 км не учитывается (указывается как \"более 150 тыс.км.\")."
   ]
  },
  {
   "cell_type": "code",
   "execution_count": 43,
   "metadata": {},
   "outputs": [
    {
     "data": {
      "text/plain": [
       "count    283697.000000\n",
       "mean        114.072239\n",
       "std         182.499495\n",
       "min           0.000000\n",
       "25%          75.000000\n",
       "50%         105.000000\n",
       "75%         143.000000\n",
       "max       20000.000000\n",
       "Name: Power, dtype: float64"
      ]
     },
     "execution_count": 43,
     "metadata": {},
     "output_type": "execute_result"
    }
   ],
   "source": [
    "df.Power.describe()"
   ]
  },
  {
   "cell_type": "markdown",
   "metadata": {},
   "source": [
    "Самые быстрые машины в мире имеют мощность 1500-1600 лошадиных сил. Возможно, кто-то ошибся ноликом. Или двумя."
   ]
  },
  {
   "cell_type": "code",
   "execution_count": 44,
   "metadata": {
    "scrolled": true
   },
   "outputs": [
    {
     "data": {
      "text/plain": [
       "Model            Brand          Power\n",
       "a_klasse         mercedes_benz  1400     3\n",
       "vectra           opel           1800     3\n",
       "passat           volkswagen     1403     2\n",
       "polo             volkswagen     601      2\n",
       "transporter      volkswagen     10522    2\n",
       "golf             volkswagen     1011     2\n",
       "                                1595     2\n",
       "transporter      volkswagen     1021     2\n",
       "golf             volkswagen     1781     2\n",
       "polo             volkswagen     4700     2\n",
       "                                1390     2\n",
       "3er              bmw            1500     2\n",
       "matiz chevrolet  chevrolet      603      2\n",
       "astra            opel           1001     2\n",
       "3er              bmw            1103     2\n",
       "Name: Power, dtype: int64"
      ]
     },
     "execution_count": 44,
     "metadata": {},
     "output_type": "execute_result"
    }
   ],
   "source": [
    "df[df.Power > 600].groupby(['Model', 'Brand', 'Power']).Power.count().sort_values(ascending = False).head(15)"
   ]
  },
  {
   "cell_type": "code",
   "execution_count": 45,
   "metadata": {},
   "outputs": [
    {
     "data": {
      "text/plain": [
       "0.07393423239617461"
      ]
     },
     "execution_count": 45,
     "metadata": {},
     "output_type": "execute_result"
    }
   ],
   "source": [
    "df[df.Power > 600].groupby(['Model', 'Brand', 'Power']).Power.count().sum() / size * 100"
   ]
  },
  {
   "cell_type": "markdown",
   "metadata": {},
   "source": [
    "Здесь явно ошибки: эти модели не могут иметь такой мощности. \n",
    "\n",
    "Желательно выяснить, из-за чего могут возникать такие ошибки, и придумать алгоритм по их устранению (например, проверять значения этого признака на адекватность и исправлять аномалии, ориентируясь на мощность других машин той же модели, как мы делали в случае с типом кузова). \n",
    "\n",
    "В нашем случае таких ошибок немного, просто удалим эти аномалии."
   ]
  },
  {
   "cell_type": "code",
   "execution_count": 46,
   "metadata": {},
   "outputs": [],
   "source": [
    "df.drop(df[df.Power > 600].index, inplace = True)"
   ]
  },
  {
   "cell_type": "markdown",
   "metadata": {},
   "source": [
    "Посмотрим на более правдоподобные значения мощности: от 300 до 600 л.с.:"
   ]
  },
  {
   "cell_type": "code",
   "execution_count": 47,
   "metadata": {},
   "outputs": [
    {
     "data": {
      "text/plain": [
       "Model     Brand          Power\n",
       "3er       bmw            306      115\n",
       "cayenne   porsche        340      102\n",
       "e_klasse  mercedes_benz  306      101\n",
       "s_klasse  mercedes_benz  306       89\n",
       "sl        mercedes_benz  306       76\n",
       "cl        mercedes_benz  306       72\n",
       "touareg   volkswagen     313       62\n",
       "7er       bmw            333       62\n",
       "6er       bmw            333       61\n",
       "a8        audi           334       49\n",
       "m_reihe   bmw            343       40\n",
       "7er       bmw            326       40\n",
       "m_klasse  mercedes_benz  306       37\n",
       "clk       mercedes_benz  306       34\n",
       "5er       bmw            333       33\n",
       "7er       bmw            306       32\n",
       "cayenne   porsche        450       30\n",
       "a8        audi           326       29\n",
       "                         310       28\n",
       "e_klasse  mercedes_benz  476       27\n",
       "phaeton   volkswagen     313       24\n",
       "e_klasse  mercedes_benz  354       24\n",
       "7er       bmw            329       24\n",
       "a6        audi           334       23\n",
       "a4        audi           310       23\n",
       "s_klasse  mercedes_benz  387       22\n",
       "                         320       22\n",
       "m_reihe   bmw            400       22\n",
       "sl        mercedes_benz  320       21\n",
       "c_klasse  mercedes_benz  354       20\n",
       "mustang   ford           305       18\n",
       "e_klasse  mercedes_benz  387       18\n",
       "a4        audi           344       17\n",
       "a6        audi           340       17\n",
       "300c      chrysler       340       16\n",
       "m_klasse  mercedes_benz  347       16\n",
       "7er       bmw            367       16\n",
       "insignia  opel           325       14\n",
       "sl        mercedes_benz  326       13\n",
       "cl        mercedes_benz  367       11\n",
       "5er       bmw            367       11\n",
       "c_klasse  mercedes_benz  306       11\n",
       "6er       bmw            367       11\n",
       "q7        audi           349       11\n",
       "7er       bmw            445       10\n",
       "x_reihe   bmw            355       10\n",
       "m_reihe   bmw            321       10\n",
       "5er       bmw            306       10\n",
       "e_klasse  mercedes_benz  314       10\n",
       "mustang   ford           309        9\n",
       "Name: Power, dtype: int64"
      ]
     },
     "execution_count": 47,
     "metadata": {},
     "output_type": "execute_result"
    }
   ],
   "source": [
    "df[(df.Power > 300) & (df.Power <= 600)].groupby(['Model', 'Brand', 'Power']).Power.count().sort_values(ascending = False).head(50)"
   ]
  },
  {
   "cell_type": "markdown",
   "metadata": {},
   "source": [
    "А вот здесь уже представлены модели, для которых указанное количество лошадиных сил кажется правдоподобным. О том, что цифры достоверны, свидетельствует и количество наблюдений с соответствующим показателем мощности автомобиля."
   ]
  },
  {
   "cell_type": "markdown",
   "metadata": {},
   "source": [
    "Нужно избавиться и от аномально низких значений. К сожалению, таких много: только нулей больше 6,5% от исходного датасета."
   ]
  },
  {
   "cell_type": "code",
   "execution_count": 48,
   "metadata": {},
   "outputs": [
    {
     "data": {
      "text/plain": [
       "6.567165863831203"
      ]
     },
     "execution_count": 48,
     "metadata": {},
     "output_type": "execute_result"
    }
   ],
   "source": [
    "len(df[df.Power == 0]) / size * 100"
   ]
  },
  {
   "cell_type": "markdown",
   "metadata": {},
   "source": [
    "Заменим нули наиболее часто встречающимся значением мощности для каждой модели:"
   ]
  },
  {
   "cell_type": "code",
   "execution_count": 49,
   "metadata": {},
   "outputs": [],
   "source": [
    "mp = {}\n",
    "for i in df.Model.values:\n",
    "    if i not in mp:\n",
    "        p = df[df.Model == i].Power.value_counts().index[0]\n",
    "        mp[i] = p\n",
    "        if p == 0:\n",
    "            try:\n",
    "                p1 = df[df.Model == i].Power.value_counts().index[1]\n",
    "                mp[i] = p1\n",
    "            except:\n",
    "                mp[i] = p"
   ]
  },
  {
   "cell_type": "code",
   "execution_count": 50,
   "metadata": {
    "scrolled": true
   },
   "outputs": [
    {
     "data": {
      "text/html": [
       "<div>\n",
       "<style scoped>\n",
       "    .dataframe tbody tr th:only-of-type {\n",
       "        vertical-align: middle;\n",
       "    }\n",
       "\n",
       "    .dataframe tbody tr th {\n",
       "        vertical-align: top;\n",
       "    }\n",
       "\n",
       "    .dataframe thead th {\n",
       "        text-align: right;\n",
       "    }\n",
       "</style>\n",
       "<table border=\"1\" class=\"dataframe\">\n",
       "  <thead>\n",
       "    <tr style=\"text-align: right;\">\n",
       "      <th></th>\n",
       "      <th>Price</th>\n",
       "      <th>VehicleType</th>\n",
       "      <th>RegistrationYear</th>\n",
       "      <th>Gearbox</th>\n",
       "      <th>Power</th>\n",
       "      <th>Model</th>\n",
       "      <th>Kilometer</th>\n",
       "      <th>FuelType</th>\n",
       "      <th>Brand</th>\n",
       "      <th>NotRepaired</th>\n",
       "      <th>MPower</th>\n",
       "    </tr>\n",
       "  </thead>\n",
       "  <tbody>\n",
       "    <tr>\n",
       "      <td>0</td>\n",
       "      <td>480</td>\n",
       "      <td>sedan</td>\n",
       "      <td>1993</td>\n",
       "      <td>manual</td>\n",
       "      <td>0</td>\n",
       "      <td>golf</td>\n",
       "      <td>150000</td>\n",
       "      <td>petrol</td>\n",
       "      <td>volkswagen</td>\n",
       "      <td>no</td>\n",
       "      <td>75</td>\n",
       "    </tr>\n",
       "    <tr>\n",
       "      <td>2</td>\n",
       "      <td>9800</td>\n",
       "      <td>suv</td>\n",
       "      <td>2004</td>\n",
       "      <td>auto</td>\n",
       "      <td>163</td>\n",
       "      <td>grand jeep</td>\n",
       "      <td>125000</td>\n",
       "      <td>gasoline</td>\n",
       "      <td>jeep</td>\n",
       "      <td>no</td>\n",
       "      <td>218</td>\n",
       "    </tr>\n",
       "    <tr>\n",
       "      <td>3</td>\n",
       "      <td>1500</td>\n",
       "      <td>small</td>\n",
       "      <td>2001</td>\n",
       "      <td>manual</td>\n",
       "      <td>75</td>\n",
       "      <td>golf</td>\n",
       "      <td>150000</td>\n",
       "      <td>petrol</td>\n",
       "      <td>volkswagen</td>\n",
       "      <td>no</td>\n",
       "      <td>75</td>\n",
       "    </tr>\n",
       "    <tr>\n",
       "      <td>4</td>\n",
       "      <td>3600</td>\n",
       "      <td>small</td>\n",
       "      <td>2008</td>\n",
       "      <td>manual</td>\n",
       "      <td>69</td>\n",
       "      <td>fabia</td>\n",
       "      <td>90000</td>\n",
       "      <td>gasoline</td>\n",
       "      <td>skoda</td>\n",
       "      <td>no</td>\n",
       "      <td>75</td>\n",
       "    </tr>\n",
       "    <tr>\n",
       "      <td>5</td>\n",
       "      <td>650</td>\n",
       "      <td>sedan</td>\n",
       "      <td>1995</td>\n",
       "      <td>manual</td>\n",
       "      <td>102</td>\n",
       "      <td>3er</td>\n",
       "      <td>150000</td>\n",
       "      <td>petrol</td>\n",
       "      <td>bmw</td>\n",
       "      <td>yes</td>\n",
       "      <td>150</td>\n",
       "    </tr>\n",
       "  </tbody>\n",
       "</table>\n",
       "</div>"
      ],
      "text/plain": [
       "   Price VehicleType  RegistrationYear Gearbox  Power       Model  Kilometer  \\\n",
       "0    480       sedan              1993  manual      0        golf     150000   \n",
       "2   9800         suv              2004    auto    163  grand jeep     125000   \n",
       "3   1500       small              2001  manual     75        golf     150000   \n",
       "4   3600       small              2008  manual     69       fabia      90000   \n",
       "5    650       sedan              1995  manual    102         3er     150000   \n",
       "\n",
       "   FuelType       Brand NotRepaired  MPower  \n",
       "0    petrol  volkswagen          no      75  \n",
       "2  gasoline        jeep          no     218  \n",
       "3    petrol  volkswagen          no      75  \n",
       "4  gasoline       skoda          no      75  \n",
       "5    petrol         bmw         yes     150  "
      ]
     },
     "execution_count": 50,
     "metadata": {},
     "output_type": "execute_result"
    }
   ],
   "source": [
    "df['MPower'] = df.Model.map(mp)\n",
    "df.head()"
   ]
  },
  {
   "cell_type": "code",
   "execution_count": 51,
   "metadata": {},
   "outputs": [],
   "source": [
    "df.loc[df.Power == 0, 'Power'] = df.loc[df.Power == 0, 'MPower']"
   ]
  },
  {
   "cell_type": "markdown",
   "metadata": {},
   "source": [
    "Проверим, все ли нули удалось заменить:"
   ]
  },
  {
   "cell_type": "code",
   "execution_count": 52,
   "metadata": {
    "scrolled": false
   },
   "outputs": [
    {
     "data": {
      "text/html": [
       "<div>\n",
       "<style scoped>\n",
       "    .dataframe tbody tr th:only-of-type {\n",
       "        vertical-align: middle;\n",
       "    }\n",
       "\n",
       "    .dataframe tbody tr th {\n",
       "        vertical-align: top;\n",
       "    }\n",
       "\n",
       "    .dataframe thead th {\n",
       "        text-align: right;\n",
       "    }\n",
       "</style>\n",
       "<table border=\"1\" class=\"dataframe\">\n",
       "  <thead>\n",
       "    <tr style=\"text-align: right;\">\n",
       "      <th></th>\n",
       "      <th>Price</th>\n",
       "      <th>VehicleType</th>\n",
       "      <th>RegistrationYear</th>\n",
       "      <th>Gearbox</th>\n",
       "      <th>Power</th>\n",
       "      <th>Model</th>\n",
       "      <th>Kilometer</th>\n",
       "      <th>FuelType</th>\n",
       "      <th>Brand</th>\n",
       "      <th>NotRepaired</th>\n",
       "      <th>MPower</th>\n",
       "    </tr>\n",
       "  </thead>\n",
       "  <tbody>\n",
       "    <tr>\n",
       "      <td>234296</td>\n",
       "      <td>3800</td>\n",
       "      <td>wagon</td>\n",
       "      <td>1978</td>\n",
       "      <td>manual</td>\n",
       "      <td>0</td>\n",
       "      <td>serie_1</td>\n",
       "      <td>30000</td>\n",
       "      <td>gasoline</td>\n",
       "      <td>land_rover</td>\n",
       "      <td>no</td>\n",
       "      <td>0</td>\n",
       "    </tr>\n",
       "  </tbody>\n",
       "</table>\n",
       "</div>"
      ],
      "text/plain": [
       "        Price VehicleType  RegistrationYear Gearbox  Power    Model  \\\n",
       "234296   3800       wagon              1978  manual      0  serie_1   \n",
       "\n",
       "        Kilometer  FuelType       Brand NotRepaired  MPower  \n",
       "234296      30000  gasoline  land_rover          no       0  "
      ]
     },
     "execution_count": 52,
     "metadata": {},
     "output_type": "execute_result"
    }
   ],
   "source": [
    "df.loc[df.Power == 0]"
   ]
  },
  {
   "cell_type": "markdown",
   "metadata": {},
   "source": [
    "Удалим этот объект:"
   ]
  },
  {
   "cell_type": "code",
   "execution_count": 53,
   "metadata": {},
   "outputs": [],
   "source": [
    "df.drop(234296, inplace = True)"
   ]
  },
  {
   "cell_type": "markdown",
   "metadata": {},
   "source": [
    "С нулями разобрались, исключим также аномально низкие значения мощности:"
   ]
  },
  {
   "cell_type": "code",
   "execution_count": 54,
   "metadata": {
    "scrolled": true
   },
   "outputs": [
    {
     "data": {
      "text/plain": [
       "Model            Brand       Power\n",
       "500              fiat        18       42\n",
       "                             15        3\n",
       "                             19        2\n",
       "polo             volkswagen  6         2\n",
       "3er              bmw         11        2\n",
       "                                      ..\n",
       "golf             volkswagen  8         1\n",
       "                             1         1\n",
       "freelander       land_rover  12        1\n",
       "fortwo           smart       5         1\n",
       "1_reihe peugeot  peugeot     7         1\n",
       "Name: Power, Length: 72, dtype: int64"
      ]
     },
     "execution_count": 54,
     "metadata": {},
     "output_type": "execute_result"
    }
   ],
   "source": [
    "df[df.Power < 20].groupby(['Model', 'Brand', 'Power']).Power.count().sort_values(ascending = False)"
   ]
  },
  {
   "cell_type": "code",
   "execution_count": 55,
   "metadata": {},
   "outputs": [],
   "source": [
    "df.drop(df[df.Power < 20].index, inplace = True)"
   ]
  },
  {
   "cell_type": "code",
   "execution_count": 56,
   "metadata": {},
   "outputs": [],
   "source": [
    "df.drop('MPower', axis = 1, inplace = True)"
   ]
  },
  {
   "cell_type": "code",
   "execution_count": 57,
   "metadata": {},
   "outputs": [
    {
     "data": {
      "text/plain": [
       "79.94830247566802"
      ]
     },
     "execution_count": 57,
     "metadata": {},
     "output_type": "execute_result"
    }
   ],
   "source": [
    "len(df) / size * 100"
   ]
  },
  {
   "cell_type": "markdown",
   "metadata": {},
   "source": [
    "Пришлось выбросить около 20% датасета. Зато модель будет обучаться на относительно чистых данных и сможет показать лучший результат."
   ]
  },
  {
   "cell_type": "markdown",
   "metadata": {},
   "source": [
    "Осталось подготовить признаки к обучению моделей.\n",
    "\n",
    "Разделим датасет на признаки и целевой признак, а также на обучающую и тестовую выборку, выполним кодирование категориальных и масштабирование числовых признаков."
   ]
  },
  {
   "cell_type": "code",
   "execution_count": 58,
   "metadata": {
    "scrolled": false
   },
   "outputs": [],
   "source": [
    "#кодирование категориальных признаков\n",
    "data = pd.get_dummies(df, drop_first=True)\n",
    "\n",
    "#выделение признаков и целевого признака\n",
    "X = data.drop('Price', axis=1)\n",
    "y = data['Price']\n",
    "#разделение на обучающую и тестовую выборки\n",
    "X_train, X_test, y_train, y_test = train_test_split(X, y, test_size=0.2, random_state=12345)\n",
    " \n",
    "#масштабирование числовых признаков\n",
    "num_col = ['RegistrationYear', 'Power', 'Kilometer']\n",
    "scaler = StandardScaler()\n",
    "scaler.fit(X_train[num_col])\n",
    "X_train.loc[:, num_col] = scaler.transform(X_train.loc[:, num_col])\n",
    "X_test.loc[:,num_col] = scaler.transform(X_test.loc[:, num_col])"
   ]
  },
  {
   "cell_type": "code",
   "execution_count": 59,
   "metadata": {},
   "outputs": [
    {
     "data": {
      "text/plain": [
       "['VehicleType', 'Gearbox', 'Model', 'FuelType', 'Brand', 'NotRepaired']"
      ]
     },
     "execution_count": 59,
     "metadata": {},
     "output_type": "execute_result"
    }
   ],
   "source": [
    "#сохраним список категориальных признаков\n",
    "cat_col = list(df.loc[:, df.dtypes == 'object'].columns.values)\n",
    "cat_col"
   ]
  },
  {
   "cell_type": "markdown",
   "metadata": {},
   "source": [
    "## Обучение моделей"
   ]
  },
  {
   "cell_type": "markdown",
   "metadata": {},
   "source": [
    "### Модель случайного леса"
   ]
  },
  {
   "cell_type": "code",
   "execution_count": 60,
   "metadata": {
    "scrolled": false
   },
   "outputs": [
    {
     "name": "stdout",
     "output_type": "stream",
     "text": [
      "Оптимальная глубина дерева: 27\n",
      "Лучший RMSE на кросс-валидации: 1572.1793512989188\n",
      "RMSE на тестовой выборке: 1516.3935028230462\n",
      "CPU times: user 6min 48s, sys: 3.59 s, total: 6min 51s\n",
      "Wall time: 6min 54s\n"
     ]
    }
   ],
   "source": [
    "%%time\n",
    "\n",
    "# создадим модель случайного леса\n",
    "ranfor = RandomForestRegressor(random_state = 123)\n",
    "\n",
    "# создадим словарь для подбора оптимальных гиперпараметров\n",
    "params = {'max_depth': range(22, 38, 5)}\n",
    "\n",
    "# используем GridSearchCV для подбора оптимальных гиперпараметров модели в процессе кросс-валидации\n",
    "rf = GridSearchCV(ranfor, param_grid = params, scoring = 'neg_mean_squared_error', cv = 3, n_jobs = -1)\n",
    "\n",
    "# обучим модель и выведем оптимальную глубину дерева и наилучший RMSE на кросс-валидации\n",
    "rf.fit(X_train, y_train)\n",
    "\n",
    "print('Оптимальная глубина дерева:', rf.best_params_['max_depth'])\n",
    "print('Лучший RMSE на кросс-валидации:', abs(rf.best_score_) ** 0.5)\n",
    "\n",
    "# получим предсказания модели на тестовой выборке и посчитаем RMSE\n",
    "rf_pred = rf.predict(X_test)\n",
    "print('RMSE на тестовой выборке:', mean_squared_error(y_test, rf_pred) ** 0.5)"
   ]
  },
  {
   "cell_type": "markdown",
   "metadata": {},
   "source": [
    "**Случайный лес:**\n",
    "    \n",
    "Оптимальная глубина дерева: 27\n",
    "\n",
    "Лучший RMSE на кросс-валидации: 1572.559371245903\n",
    "\n",
    "RMSE на тестовой выборке: 1517.062872003245\n",
    "\n",
    "CPU times: user 7min 53s, sys: 0 ns, total: 7min 53s\n",
    "\n",
    "Wall time: 8min 6s"
   ]
  },
  {
   "cell_type": "markdown",
   "metadata": {},
   "source": [
    "Выясним значимость разных признаков в полученной модели:"
   ]
  },
  {
   "cell_type": "code",
   "execution_count": 61,
   "metadata": {},
   "outputs": [],
   "source": [
    "fimp = round(pd.Series(rf.best_estimator_.feature_importances_, index = X_train.columns), 4)"
   ]
  },
  {
   "cell_type": "code",
   "execution_count": 62,
   "metadata": {
    "scrolled": true
   },
   "outputs": [
    {
     "data": {
      "text/plain": [
       "RegistrationYear           0.5462\n",
       "Power                      0.2624\n",
       "Kilometer                  0.0536\n",
       "VehicleType_convertible    0.0155\n",
       "Model_transporter          0.0122\n",
       "NotRepaired_yes            0.0100\n",
       "Gearbox_manual             0.0062\n",
       "Brand_audi                 0.0054\n",
       "Brand_volkswagen           0.0054\n",
       "VehicleType_wagon          0.0046\n",
       "dtype: float64"
      ]
     },
     "execution_count": 62,
     "metadata": {},
     "output_type": "execute_result"
    }
   ],
   "source": [
    "fimp.sort_values(ascending = False).head(10)"
   ]
  },
  {
   "cell_type": "markdown",
   "metadata": {},
   "source": [
    "С наиболее значимыми признаками (числовыми) все ясно, но как оценить вклад таких признаков, как модель, бренд, тип кузова? Из-за проведенного кодирования категориальных признаков сделать это сложно. Объединим показатели, относящиеся к одному и тому же признаку:"
   ]
  },
  {
   "cell_type": "code",
   "execution_count": 63,
   "metadata": {},
   "outputs": [],
   "source": [
    "imp_f = pd.Series()\n",
    "\n",
    "for i in cat_col:\n",
    "    imp_f[i] = round(fimp[fimp.index.str.startswith(i)].sum(), 4)\n",
    "    \n",
    "for j in num_col:\n",
    "    imp_f[j] = round(fimp[fimp.index.str.startswith(j)].sum(), 4)"
   ]
  },
  {
   "cell_type": "code",
   "execution_count": 64,
   "metadata": {},
   "outputs": [
    {
     "data": {
      "text/plain": [
       "RegistrationYear    0.5462\n",
       "Power               0.2624\n",
       "Kilometer           0.0536\n",
       "Model               0.0534\n",
       "Brand               0.0311\n",
       "VehicleType         0.0294\n",
       "NotRepaired         0.0100\n",
       "FuelType            0.0067\n",
       "Gearbox             0.0062\n",
       "dtype: float64"
      ]
     },
     "execution_count": 64,
     "metadata": {},
     "output_type": "execute_result"
    }
   ],
   "source": [
    "imp_f = imp_f.sort_values(ascending = False)\n",
    "imp_f"
   ]
  },
  {
   "cell_type": "markdown",
   "metadata": {},
   "source": [
    "Визуализируем полученный результат:"
   ]
  },
  {
   "cell_type": "code",
   "execution_count": 65,
   "metadata": {},
   "outputs": [
    {
     "data": {
      "image/png": "[encoded data removed]",
      "text/plain": [
       "<Figure size 432x288 with 1 Axes>"
      ]
     },
     "metadata": {
      "needs_background": "light"
     },
     "output_type": "display_data"
    }
   ],
   "source": [
    "imp_f.plot(kind = 'bar')\n",
    "plt.title(\"Важность признаков в модели случайного леса\")\n",
    "plt.xlabel(\"Признаки\")\n",
    "plt.ylabel(\"Важность признака\")\n",
    "plt.xticks(rotation = 45);"
   ]
  },
  {
   "cell_type": "markdown",
   "metadata": {},
   "source": [
    "Наибольшее значение получили такие признаки, как год регистрации и мощность, в меньшей степени - километраж и модель, а также бренд и тип кузова. В целом, выглядит логично."
   ]
  },
  {
   "cell_type": "markdown",
   "metadata": {},
   "source": [
    "### Модель линейной регрессии"
   ]
  },
  {
   "cell_type": "markdown",
   "metadata": {},
   "source": [
    "! Следующая ячейка закомментирована, т.к. код выполняется слишком долго."
   ]
  },
  {
   "cell_type": "code",
   "execution_count": 66,
   "metadata": {
    "scrolled": false
   },
   "outputs": [],
   "source": [
    "# %%time\n",
    "# lassoreg = Lasso(max_iter = 1000, random_state = 123)\n",
    "# pars = {'alpha': [0.1, 1]}\n",
    "# lasso = GridSearchCV(lassoreg, param_grid = pars, scoring = 'neg_mean_squared_error', cv = 3, n_jobs = -1)\n",
    "# lasso.fit(X_train, y_train)\n",
    "# print('Лучший RMSE на кросс-валидации:', abs(lasso.best_score_) ** 0.5)\n",
    "# lasso_pred = lasso.predict(X_test)\n",
    "# print('RMSE на тестовой выборке:', mean_squared_error(y_test, lasso_pred) ** 0.5)"
   ]
  },
  {
   "cell_type": "markdown",
   "metadata": {},
   "source": [
    "**Линейная регрессия:**\n",
    "\n",
    "Лучший RMSE на кросс-валидации: 2497.8934064078244\n",
    "\n",
    "RMSE на тестовой выборке: 2482.2839808938547\n",
    "\n",
    "CPU times: user 36min 47s, sys: 16min 15s, total: 53min 3s\n",
    "\n",
    "Wall time: 53min 4s"
   ]
  },
  {
   "cell_type": "markdown",
   "metadata": {},
   "source": [
    "Модель обучается слишком долго. Попробуем обучить модель линейной регрессии, используя стохастический градиентный спуск:"
   ]
  },
  {
   "cell_type": "code",
   "execution_count": 67,
   "metadata": {
    "scrolled": true
   },
   "outputs": [
    {
     "name": "stdout",
     "output_type": "stream",
     "text": [
      "Лучший RMSE на кросс-валидации: 2538.556350706307\n",
      "RMSE на тестовой выборке: 2519.5387685327964\n",
      "CPU times: user 42.2 s, sys: 34.9 s, total: 1min 17s\n",
      "Wall time: 1min 17s\n"
     ]
    }
   ],
   "source": [
    "%%time\n",
    "\n",
    "class SGDLinearRegression:\n",
    "    def __init__(self, step_size, epochs, batch_size):\n",
    "        self.step_size = step_size\n",
    "        self.epochs = epochs\n",
    "        self.batch_size = batch_size\n",
    "    \n",
    "    def fit(self, train_features, train_target):\n",
    "        X = np.concatenate((np.ones((train_features.shape[0], 1)), train_features.values), axis=1)        \n",
    "        y = train_target.values\n",
    "        w = np.zeros(X.shape[1])\n",
    "        \n",
    "        for _ in range(self.epochs):\n",
    "            batches_count = X.shape[0] // self.batch_size\n",
    "            for i in range(batches_count):\n",
    "                begin = i * self.batch_size\n",
    "                end = (i + 1) * self.batch_size\n",
    "                X_batch = X[begin:end, :]\n",
    "                y_batch = y[begin:end]\n",
    "                \n",
    "                gradient = 2 * X_batch.T.dot(X_batch.dot(w) - y_batch) / X_batch.shape[0]\n",
    "                \n",
    "                w -= self.step_size * gradient\n",
    " \n",
    "        self.w = w[1:]\n",
    "        self.w0 = w[0]\n",
    " \n",
    "    def predict(self, test_features):\n",
    "        return test_features.dot(self.w) + self.w0\n",
    "\n",
    "model = SGDLinearRegression(0.01, 10, 100)\n",
    "model.fit(X_train, y_train)\n",
    "pred_train = model.predict(X_train)\n",
    "pred_test = model.predict(X_test)\n",
    "print('Лучший RMSE на кросс-валидации:', mean_squared_error(y_train, pred_train) ** 0.5)\n",
    "print('RMSE на тестовой выборке:', mean_squared_error(y_test, pred_test) ** 0.5)"
   ]
  },
  {
   "cell_type": "markdown",
   "metadata": {},
   "source": [
    "**Линейная регрессия:**\n",
    "\n",
    "Лучший RMSE на кросс-валидации: 2538.5075893576254\n",
    "\n",
    "RMSE на тестовой выборке: 2519.4092787117406\n",
    "\n",
    "CPU times: user 34.2 s, sys: 38.1 s, total: 1min 12s\n",
    "\n",
    "Wall time: 1min 12s"
   ]
  },
  {
   "cell_type": "markdown",
   "metadata": {},
   "source": [
    "Теперь модель обучается быстро, но все равно показывает результат значительно хуже, чем случайный лес. Такой результат нас не устраивает."
   ]
  },
  {
   "cell_type": "markdown",
   "metadata": {},
   "source": [
    "### Градиентный бустинг (LightGBM)"
   ]
  },
  {
   "cell_type": "markdown",
   "metadata": {},
   "source": [
    "LightGBM может работать с категориальными признаками напрямую.\n",
    "\n",
    "Приведем столбцы с категориальными признаками к соответствующему типу и подготовим новые выборки:"
   ]
  },
  {
   "cell_type": "code",
   "execution_count": 68,
   "metadata": {
    "scrolled": true
   },
   "outputs": [
    {
     "name": "stdout",
     "output_type": "stream",
     "text": [
      "<class 'pandas.core.frame.DataFrame'>\n",
      "Int64Index: 283312 entries, 0 to 354368\n",
      "Data columns (total 10 columns):\n",
      "Price               283312 non-null int64\n",
      "VehicleType         283312 non-null category\n",
      "RegistrationYear    283312 non-null int64\n",
      "Gearbox             283312 non-null category\n",
      "Power               283312 non-null int64\n",
      "Model               283312 non-null category\n",
      "Kilometer           283312 non-null int64\n",
      "FuelType            283312 non-null category\n",
      "Brand               283312 non-null category\n",
      "NotRepaired         283312 non-null category\n",
      "dtypes: category(6), int64(4)\n",
      "memory usage: 12.7 MB\n"
     ]
    }
   ],
   "source": [
    "df2 = df.copy()\n",
    "for feature in cat_col:\n",
    "    df2[feature] = df2[feature].astype(\"category\")\n",
    "df2.info()"
   ]
  },
  {
   "cell_type": "code",
   "execution_count": 69,
   "metadata": {},
   "outputs": [],
   "source": [
    "#выделение признаков и целевого признака\n",
    "X_cat = df2.drop('Price', axis=1)\n",
    "y_cat = df2['Price']\n",
    "#разделение на обучающую и тестовую выборки\n",
    "Xc_train, Xc_test, yc_train, yc_test = train_test_split(X_cat, y_cat, test_size=0.2, random_state=12345)\n",
    "\n",
    "#масштабирование числовых признаков\n",
    "num_col = ['RegistrationYear', 'Power', 'Kilometer']\n",
    "scaler = StandardScaler()\n",
    "scaler.fit(Xc_train[num_col])\n",
    "Xc_train.loc[:, num_col] = scaler.transform(Xc_train.loc[:, num_col])\n",
    "Xc_test.loc[:,num_col] = scaler.transform(Xc_test.loc[:, num_col])"
   ]
  },
  {
   "cell_type": "code",
   "execution_count": 70,
   "metadata": {
    "scrolled": true
   },
   "outputs": [
    {
     "name": "stdout",
     "output_type": "stream",
     "text": [
      "Оптимальные параметры: {'learning_rate': 0.1, 'n_estimators': 700}\n",
      "Лучший RMSE: 1471.4459412381725\n",
      "RMSE на тестовой выборке: 1430.3148275298954\n",
      "CPU times: user 13min 3s, sys: 7.18 s, total: 13min 10s\n",
      "Wall time: 13min 19s\n"
     ]
    }
   ],
   "source": [
    "%%time\n",
    "params = {'learning_rate': [0.1, 0.15], 'n_estimators': [600, 700]}\n",
    "gbmс = LGBMRegressor(max_depth = 22, num_leaves = 100, random_state = 123, importance_type = 'gain')\n",
    "gs_gbmс = GridSearchCV(gbmс, param_grid = params, scoring = 'neg_mean_squared_error', cv=3, n_jobs = -1)\n",
    "gs_gbmс.fit(Xc_train, yc_train)\n",
    "\n",
    "print('Оптимальные параметры:', gs_gbmс.best_params_)\n",
    "print('Лучший RMSE:', abs(gs_gbmс.best_score_) ** 0.5)\n",
    "\n",
    "gs_gbmс_pred = gs_gbmс.predict(Xc_test)\n",
    "print('RMSE на тестовой выборке:', mean_squared_error(yc_test, gs_gbmс_pred) ** 0.5)"
   ]
  },
  {
   "cell_type": "markdown",
   "metadata": {},
   "source": [
    "**LightGBM:**\n",
    "    \n",
    "Оптимальные параметры: {'learning_rate': 0.1, 'n_estimators': 700}\n",
    "\n",
    "Лучший RMSE: 1471.936590026777\n",
    "\n",
    "RMSE на тестовой выборке: 1428.1429285495979\n",
    "\n",
    "CPU times: user 14min 30s, sys: 6.58 s, total: 14min 37s\n",
    "\n",
    "Wall time: 14min 47s"
   ]
  },
  {
   "cell_type": "code",
   "execution_count": 71,
   "metadata": {},
   "outputs": [
    {
     "data": {
      "image/png": "[encoded data removed]",
      "text/plain": [
       "<Figure size 432x288 with 1 Axes>"
      ]
     },
     "metadata": {
      "needs_background": "light"
     },
     "output_type": "display_data"
    }
   ],
   "source": [
    "fimpLGBM = round(pd.Series(gs_gbmс.best_estimator_.feature_importances_, index = Xc_train.columns), 4)\n",
    "    \n",
    "fimpLGBM = fimpLGBM.sort_values(ascending = False)\n",
    "\n",
    "fimpLGBM.plot(kind = 'bar')\n",
    "plt.title(\"Важность признаков в модели LightGBM\")\n",
    "plt.xlabel(\"Признаки\")\n",
    "plt.ylabel(\"Важность признака\")\n",
    "plt.xticks(rotation = 45);"
   ]
  },
  {
   "cell_type": "markdown",
   "metadata": {},
   "source": [
    "Как видим, распределение важности признаков в целом похоже на распределение в случае с моделью случайного леса. Но степень важности разных признаков отличается. Самые значимые признаки - год регистрации и мощность автомобиля, но большое значение также имеют модель и километраж."
   ]
  },
  {
   "cell_type": "markdown",
   "metadata": {},
   "source": [
    "### Градиентный бустинг (CatBoost)"
   ]
  },
  {
   "cell_type": "code",
   "execution_count": 72,
   "metadata": {
    "scrolled": true
   },
   "outputs": [
    {
     "name": "stdout",
     "output_type": "stream",
     "text": [
      "0:\tlearn: 4032.8589077\ttotal: 2.79s\tremaining: 13m 55s\n",
      "10:\tlearn: 1911.3423772\ttotal: 24s\tremaining: 10m 29s\n",
      "20:\tlearn: 1607.7876533\ttotal: 45.3s\tremaining: 10m 2s\n",
      "30:\tlearn: 1531.8181000\ttotal: 1m 7s\tremaining: 9m 45s\n",
      "40:\tlearn: 1491.3864675\ttotal: 1m 29s\tremaining: 9m 24s\n",
      "50:\tlearn: 1464.4566856\ttotal: 1m 51s\tremaining: 9m 5s\n",
      "60:\tlearn: 1437.9285598\ttotal: 2m 13s\tremaining: 8m 44s\n",
      "70:\tlearn: 1419.0158689\ttotal: 2m 36s\tremaining: 8m 25s\n",
      "80:\tlearn: 1401.3101538\ttotal: 3m\tremaining: 8m 7s\n",
      "90:\tlearn: 1390.9599794\ttotal: 3m 24s\tremaining: 7m 50s\n",
      "100:\tlearn: 1376.8349268\ttotal: 3m 47s\tremaining: 7m 28s\n",
      "110:\tlearn: 1362.1560492\ttotal: 4m 10s\tremaining: 7m 7s\n",
      "120:\tlearn: 1352.4216746\ttotal: 4m 34s\tremaining: 6m 45s\n",
      "130:\tlearn: 1340.3208145\ttotal: 4m 58s\tremaining: 6m 24s\n",
      "140:\tlearn: 1330.7813824\ttotal: 5m 23s\tremaining: 6m 4s\n",
      "150:\tlearn: 1321.5952044\ttotal: 5m 47s\tremaining: 5m 42s\n",
      "160:\tlearn: 1313.8832426\ttotal: 6m 10s\tremaining: 5m 20s\n",
      "170:\tlearn: 1303.1404314\ttotal: 6m 35s\tremaining: 4m 58s\n",
      "180:\tlearn: 1296.5432725\ttotal: 6m 59s\tremaining: 4m 36s\n",
      "190:\tlearn: 1291.3338724\ttotal: 7m 24s\tremaining: 4m 13s\n",
      "200:\tlearn: 1284.0455466\ttotal: 7m 49s\tremaining: 3m 51s\n",
      "210:\tlearn: 1276.9766432\ttotal: 8m 14s\tremaining: 3m 28s\n",
      "220:\tlearn: 1271.6863598\ttotal: 8m 40s\tremaining: 3m 6s\n",
      "230:\tlearn: 1267.2604325\ttotal: 9m 5s\tremaining: 2m 42s\n",
      "240:\tlearn: 1262.0787241\ttotal: 9m 30s\tremaining: 2m 19s\n",
      "250:\tlearn: 1256.6544819\ttotal: 9m 54s\tremaining: 1m 56s\n",
      "260:\tlearn: 1251.9893461\ttotal: 10m 20s\tremaining: 1m 32s\n",
      "270:\tlearn: 1246.8187644\ttotal: 10m 45s\tremaining: 1m 9s\n",
      "280:\tlearn: 1241.2622995\ttotal: 11m 10s\tremaining: 45.4s\n",
      "290:\tlearn: 1237.6276024\ttotal: 11m 36s\tremaining: 21.6s\n",
      "299:\tlearn: 1232.6144795\ttotal: 12m\tremaining: 0us\n",
      "Лучший RMSE: {'learn': {'RMSE': 1232.6144795391406}}\n",
      "RMSE на тестовой выборке: 1454.6474593078963\n",
      "CPU times: user 11min 1s, sys: 1min 1s, total: 12min 3s\n",
      "Wall time: 12min 6s\n"
     ]
    }
   ],
   "source": [
    "%%time\n",
    "\n",
    "catmodel = CatBoostRegressor(loss_function='RMSE', iterations=300, learning_rate = 0.15, depth = 14, random_seed = 123)\n",
    "\n",
    "catmodel.fit(Xc_train, yc_train, cat_features=cat_col, verbose=10)\n",
    "\n",
    "print('Лучший RMSE:', catmodel.get_best_score())\n",
    "\n",
    "cat_pred = catmodel.predict(Xc_test)\n",
    "\n",
    "print('RMSE на тестовой выборке:', mean_squared_error(yc_test, cat_pred) ** 0.5)"
   ]
  },
  {
   "cell_type": "markdown",
   "metadata": {},
   "source": [
    "**CatBoost:**\n",
    "\n",
    "Лучший RMSE: {'learn': {'RMSE': 1234.4696332410958}}\n",
    "\n",
    "RMSE на тестовой выборке: 1455.1275975756566\n",
    "\n",
    "CPU times: user 11min 30s, sys: 57.7 s, total: 12min 28s\n",
    "\n",
    "Wall time: 12min 31s"
   ]
  },
  {
   "cell_type": "code",
   "execution_count": 73,
   "metadata": {
    "scrolled": true
   },
   "outputs": [
    {
     "data": {
      "image/png": "[encoded data removed]",
      "text/plain": [
       "<Figure size 432x288 with 1 Axes>"
      ]
     },
     "metadata": {
      "needs_background": "light"
     },
     "output_type": "display_data"
    }
   ],
   "source": [
    "fimpcat = round(pd.Series(catmodel.feature_importances_, index = Xc_train.columns), 4)\n",
    "    \n",
    "fimpcat = fimpcat.sort_values(ascending = False)\n",
    "\n",
    "fimpcat.plot(kind = 'bar')\n",
    "plt.title(\"Важность признаков в модели CatBoost\")\n",
    "plt.xlabel(\"Признаки\")\n",
    "plt.ylabel(\"Важность признака\")\n",
    "plt.xticks(rotation = 45);"
   ]
  },
  {
   "cell_type": "markdown",
   "metadata": {},
   "source": [
    "Наиболее значимые признаки - снова год регистрации и мощность авто, но модель CatBoost придает большую важность бренду (а LightGBM - модели автомобиля). "
   ]
  },
  {
   "cell_type": "markdown",
   "metadata": {},
   "source": [
    "## Анализ моделей"
   ]
  },
  {
   "cell_type": "markdown",
   "metadata": {},
   "source": [
    "- Самый плохой результат показала модель линейной регрессии: из-за большого количества признаков, полученного в результате кодирования категориальных признаков (прежде всего, модели авто) модель обучается слишком долго (около часа). \n",
    "\n",
    "\n",
    "- Использование стохастического градиентного спуска позволяет снизить время обучения линейной регрессии до минуты, но результат остается таким же плохим: RMSE примерно на 1000 выше, чем у других моделей. Похоже, алгоритм линейной регрессии не подходит для нашей задачи.\n",
    "\n",
    "\n",
    "- Случайный лес справляется с задачей гораздо лучше. При максимальной глубине дерева 27 модель дает RMSE около 1573 на кросс-валидации и около 1517 на тестовой выборке. Время обучения, с учетом подбора гиперпараметра, составляет около 8 минут.\n",
    "\n",
    "\n",
    "- Обучили модели градиентного бустинга с использованием библиотек LightGBM и CatBoost. Обучение моделей занимает 12-14 минут, первая модель (LightGBM) показала результат чуть лучше: RMSE около 1472 на кросс-валидации и около 1428 на тестовой выборке.\n",
    "\n",
    "\n",
    "- Таким образом, наилучший результат дает градиентный бустинг с использованием библиотеки LightGBM. При этом случайный лес дает сопоставимые результаты, но обучается заметно быстрее.\n",
    "\n",
    "\n",
    "- При сопоставимых показателях качества на кросс-валидации и на тестовой выборке \"под капотом\" модели отличаются: важность разных признаков в разных моделях заметно отличается."
   ]
  },
  {
   "cell_type": "code",
   "execution_count": 74,
   "metadata": {},
   "outputs": [
    {
     "data": {
      "text/html": [
       "<div>\n",
       "<style scoped>\n",
       "    .dataframe tbody tr th:only-of-type {\n",
       "        vertical-align: middle;\n",
       "    }\n",
       "\n",
       "    .dataframe tbody tr th {\n",
       "        vertical-align: top;\n",
       "    }\n",
       "\n",
       "    .dataframe thead th {\n",
       "        text-align: right;\n",
       "    }\n",
       "</style>\n",
       "<table border=\"1\" class=\"dataframe\">\n",
       "  <thead>\n",
       "    <tr style=\"text-align: right;\">\n",
       "      <th></th>\n",
       "      <th>Model</th>\n",
       "      <th>RMSE (cv)</th>\n",
       "      <th>RMSE (test)</th>\n",
       "      <th>Time</th>\n",
       "    </tr>\n",
       "  </thead>\n",
       "  <tbody>\n",
       "    <tr>\n",
       "      <td>0</td>\n",
       "      <td>RandomForest</td>\n",
       "      <td>1572</td>\n",
       "      <td>1517</td>\n",
       "      <td>6.57</td>\n",
       "    </tr>\n",
       "    <tr>\n",
       "      <td>1</td>\n",
       "      <td>LinearRegression</td>\n",
       "      <td>2498</td>\n",
       "      <td>2482</td>\n",
       "      <td>53.30</td>\n",
       "    </tr>\n",
       "    <tr>\n",
       "      <td>2</td>\n",
       "      <td>LightGBM</td>\n",
       "      <td>1472</td>\n",
       "      <td>1428</td>\n",
       "      <td>14.37</td>\n",
       "    </tr>\n",
       "    <tr>\n",
       "      <td>3</td>\n",
       "      <td>CatBoost</td>\n",
       "      <td>1234</td>\n",
       "      <td>1455</td>\n",
       "      <td>12.28</td>\n",
       "    </tr>\n",
       "  </tbody>\n",
       "</table>\n",
       "</div>"
      ],
      "text/plain": [
       "              Model  RMSE (cv)  RMSE (test)   Time\n",
       "0      RandomForest       1572         1517   6.57\n",
       "1  LinearRegression       2498         2482  53.30\n",
       "2          LightGBM       1472         1428  14.37\n",
       "3          CatBoost       1234         1455  12.28"
      ]
     },
     "execution_count": 74,
     "metadata": {},
     "output_type": "execute_result"
    }
   ],
   "source": [
    "results = [['RandomForest', 1572, 1517, 6.57], ['LinearRegression', 2498, 2482, 53.3], \\\n",
    "           ['LightGBM', 1472, 1428, 14.37], ['CatBoost', 1234, 1455, 12.28]]\n",
    "table = pd.DataFrame(results, columns = ['Model', 'RMSE (cv)', 'RMSE (test)', 'Time'])\n",
    "table"
   ]
  },
  {
   "cell_type": "code",
   "execution_count": null,
   "metadata": {},
   "outputs": [],
   "source": []
  }
 ],
 "metadata": {
  "kernelspec": {
   "display_name": "Python 3",
   "language": "python",
   "name": "python3"
  },
  "language_info": {
   "codemirror_mode": {
    "name": "ipython",
    "version": 3
   },
   "file_extension": ".py",
   "mimetype": "text/x-python",
   "name": "python",
   "nbconvert_exporter": "python",
   "pygments_lexer": "ipython3",
   "version": "3.7.6"
  },
  "toc": {
   "base_numbering": 1,
   "nav_menu": {},
   "number_sections": true,
   "sideBar": true,
   "skip_h1_title": true,
   "title_cell": "Table of Contents",
   "title_sidebar": "Contents",
   "toc_cell": false,
   "toc_position": {},
   "toc_section_display": true,
   "toc_window_display": false
  }
 },
 "nbformat": 4,
 "nbformat_minor": 2
}
