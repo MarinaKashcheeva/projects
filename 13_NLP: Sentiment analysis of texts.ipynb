{
  "nbformat": 4,
  "nbformat_minor": 0,
  "metadata": {
    "accelerator": "GPU",
    "colab": {
      "name": "Практикум - Проект 12.ipynb",
      "provenance": [],
      "collapsed_sections": [],
      "machine_shape": "hm"
    },
    "kernelspec": {
      "display_name": "Python 3",
      "language": "python",
      "name": "python3"
    },
    "language_info": {
      "codemirror_mode": {
        "name": "ipython",
        "version": 3
      },
      "file_extension": ".py",
      "mimetype": "text/x-python",
      "name": "python",
      "nbconvert_exporter": "python",
      "pygments_lexer": "ipython3",
      "version": "3.7.6"
    },
    "toc": {
      "base_numbering": 1,
      "nav_menu": {},
      "number_sections": true,
      "sideBar": true,
      "skip_h1_title": true,
      "title_cell": "Table of Contents",
      "title_sidebar": "Contents",
      "toc_cell": false,
      "toc_position": {},
      "toc_section_display": true,
      "toc_window_display": false
    }
  },
  "cells": [
    {
      "cell_type": "markdown",
      "metadata": {
        "id": "Vt4PRj3ar7b5"
      },
      "source": [
        "# Проект для «Викишоп»"
      ]
    },
    {
      "cell_type": "markdown",
      "metadata": {
        "id": "SyKuP2E4r7b8"
      },
      "source": [
        "Интернет-магазин «Викишоп» запускает новый сервис. Теперь пользователи могут редактировать и дополнять описания товаров, как в вики-сообществах. То есть клиенты предлагают свои правки и комментируют изменения других. Магазину нужен инструмент, который будет искать токсичные комментарии и отправлять их на модерацию. \n",
        "\n",
        "Обучим модель, которая сможет классифицировать комментарии на позитивные и негативные, используя набор данных с разметкой о токсичности правок. Столбец *text* в нём содержит текст комментария, а *toxic* — целевой признак. Построим модель со значением метрики качества *F1* не меньше 0.75. "
      ]
    },
    {
      "cell_type": "markdown",
      "metadata": {
        "id": "fp6UHhsgr7b9"
      },
      "source": [
        "# Предобработка текстов"
      ]
    },
    {
      "cell_type": "markdown",
      "metadata": {
        "id": "Wz9-g-0Br7b-"
      },
      "source": [
        "Импортируем библиотеки:"
      ]
    },
    {
      "cell_type": "code",
      "metadata": {
        "id": "lMIsM0F6r7b-"
      },
      "source": [
        "import pandas as pd\n",
        "import numpy as np\n",
        "from matplotlib import pyplot as plt\n",
        "import re\n",
        "from nltk.corpus import stopwords\n",
        "import nltk\n",
        "nltk.download('stopwords')\n",
        "nltk.download('punkt')\n",
        "nltk.download('wordnet')\n",
        "stop_words = stopwords.words('english')\n",
        "from nltk.tokenize import word_tokenize\n",
        "from nltk.stem import WordNetLemmatizer"
      ],
      "execution_count": null,
      "outputs": []
    },
    {
      "cell_type": "markdown",
      "metadata": {
        "id": "uo7qyK5Zr7cA"
      },
      "source": [
        "Сохраним предоставленный датасет и посмотрим на него:"
      ]
    },
    {
      "cell_type": "code",
      "metadata": {
        "colab": {
          "base_uri": "https://localhost:8080/",
          "height": 423
        },
        "id": "SHv-qnLgr7cA",
        "outputId": "a72f20ba-b11c-4a33-ec00-a87265a49ce1"
      },
      "source": [
        "comments = pd.read_csv('/content/drive/MyDrive/toxic_comments.csv')\n",
        "comments"
      ],
      "execution_count": null,
      "outputs": [
        {
          "output_type": "execute_result",
          "data": {
            "text/html": [
              "<div>\n",
              "<style scoped>\n",
              "    .dataframe tbody tr th:only-of-type {\n",
              "        vertical-align: middle;\n",
              "    }\n",
              "\n",
              "    .dataframe tbody tr th {\n",
              "        vertical-align: top;\n",
              "    }\n",
              "\n",
              "    .dataframe thead th {\n",
              "        text-align: right;\n",
              "    }\n",
              "</style>\n",
              "<table border=\"1\" class=\"dataframe\">\n",
              "  <thead>\n",
              "    <tr style=\"text-align: right;\">\n",
              "      <th></th>\n",
              "      <th>text</th>\n",
              "      <th>toxic</th>\n",
              "    </tr>\n",
              "  </thead>\n",
              "  <tbody>\n",
              "    <tr>\n",
              "      <th>0</th>\n",
              "      <td>Explanation\\nWhy the edits made under my usern...</td>\n",
              "      <td>0</td>\n",
              "    </tr>\n",
              "    <tr>\n",
              "      <th>1</th>\n",
              "      <td>D'aww! He matches this background colour I'm s...</td>\n",
              "      <td>0</td>\n",
              "    </tr>\n",
              "    <tr>\n",
              "      <th>2</th>\n",
              "      <td>Hey man, I'm really not trying to edit war. It...</td>\n",
              "      <td>0</td>\n",
              "    </tr>\n",
              "    <tr>\n",
              "      <th>3</th>\n",
              "      <td>\"\\nMore\\nI can't make any real suggestions on ...</td>\n",
              "      <td>0</td>\n",
              "    </tr>\n",
              "    <tr>\n",
              "      <th>4</th>\n",
              "      <td>You, sir, are my hero. Any chance you remember...</td>\n",
              "      <td>0</td>\n",
              "    </tr>\n",
              "    <tr>\n",
              "      <th>...</th>\n",
              "      <td>...</td>\n",
              "      <td>...</td>\n",
              "    </tr>\n",
              "    <tr>\n",
              "      <th>159566</th>\n",
              "      <td>\":::::And for the second time of asking, when ...</td>\n",
              "      <td>0</td>\n",
              "    </tr>\n",
              "    <tr>\n",
              "      <th>159567</th>\n",
              "      <td>You should be ashamed of yourself \\n\\nThat is ...</td>\n",
              "      <td>0</td>\n",
              "    </tr>\n",
              "    <tr>\n",
              "      <th>159568</th>\n",
              "      <td>Spitzer \\n\\nUmm, theres no actual article for ...</td>\n",
              "      <td>0</td>\n",
              "    </tr>\n",
              "    <tr>\n",
              "      <th>159569</th>\n",
              "      <td>And it looks like it was actually you who put ...</td>\n",
              "      <td>0</td>\n",
              "    </tr>\n",
              "    <tr>\n",
              "      <th>159570</th>\n",
              "      <td>\"\\nAnd ... I really don't think you understand...</td>\n",
              "      <td>0</td>\n",
              "    </tr>\n",
              "  </tbody>\n",
              "</table>\n",
              "<p>159571 rows × 2 columns</p>\n",
              "</div>"
            ],
            "text/plain": [
              "                                                     text  toxic\n",
              "0       Explanation\\nWhy the edits made under my usern...      0\n",
              "1       D'aww! He matches this background colour I'm s...      0\n",
              "2       Hey man, I'm really not trying to edit war. It...      0\n",
              "3       \"\\nMore\\nI can't make any real suggestions on ...      0\n",
              "4       You, sir, are my hero. Any chance you remember...      0\n",
              "...                                                   ...    ...\n",
              "159566  \":::::And for the second time of asking, when ...      0\n",
              "159567  You should be ashamed of yourself \\n\\nThat is ...      0\n",
              "159568  Spitzer \\n\\nUmm, theres no actual article for ...      0\n",
              "159569  And it looks like it was actually you who put ...      0\n",
              "159570  \"\\nAnd ... I really don't think you understand...      0\n",
              "\n",
              "[159571 rows x 2 columns]"
            ]
          },
          "metadata": {
            "tags": []
          },
          "execution_count": 2
        }
      ]
    },
    {
      "cell_type": "markdown",
      "metadata": {
        "id": "ezXO_UyMr7cC"
      },
      "source": [
        "Посмотрим, сколько токсичных комментариев в датасете:"
      ]
    },
    {
      "cell_type": "code",
      "metadata": {
        "colab": {
          "base_uri": "https://localhost:8080/"
        },
        "id": "MD_K4aymr7cC",
        "outputId": "3a9c4370-74bf-40af-ceeb-7184fb662366"
      },
      "source": [
        "comments.toxic.mean()"
      ],
      "execution_count": null,
      "outputs": [
        {
          "output_type": "execute_result",
          "data": {
            "text/plain": [
              "0.10167887648758234"
            ]
          },
          "metadata": {
            "tags": []
          },
          "execution_count": 3
        }
      ]
    },
    {
      "cell_type": "markdown",
      "metadata": {
        "id": "qDK1ksj2r7cD"
      },
      "source": [
        "Примерно каждый десятый комментарий - токсичный.\n",
        "\n",
        "Выясним, какой длины тексты представлены в датасете:"
      ]
    },
    {
      "cell_type": "code",
      "metadata": {
        "id": "ZA3Dgeo7r7cD"
      },
      "source": [
        "comments_len = pd.Series([len(t) for t in comments['text']])"
      ],
      "execution_count": null,
      "outputs": []
    },
    {
      "cell_type": "code",
      "metadata": {
        "colab": {
          "base_uri": "https://localhost:8080/",
          "height": 295
        },
        "id": "Wx3Ke4Ker7cD",
        "scrolled": false,
        "outputId": "a550aa48-d5b9-4cf9-bba7-77169d1bb919"
      },
      "source": [
        "comments_len.hist(bins = 150)\n",
        "plt.title('Распределение по длине комментариев')\n",
        "plt.xlabel('Количество символов в комментарии')\n",
        "plt.ylabel('Количество комментариев');"
      ],
      "execution_count": null,
      "outputs": [
        {
          "output_type": "display_data",
          "data": {
            "image/png": "[encoded data removed]",
            "text/plain": [
              "<Figure size 432x288 with 1 Axes>"
            ]
          },
          "metadata": {
            "tags": []
          }
        }
      ]
    },
    {
      "cell_type": "code",
      "metadata": {
        "colab": {
          "base_uri": "https://localhost:8080/"
        },
        "id": "VOn6HBZqr7cE",
        "scrolled": true,
        "outputId": "db67bd65-bf90-4cd2-99c7-cb66185d8d02"
      },
      "source": [
        "print('Самый короткий комментарий: {} символов'.format(min(comments_len)))\n",
        "print('Самый длинный комментарий: {} символов'.format(max(comments_len)))\n",
        "print('Средняя длина комментария: {} символов'.format(round(np.mean(comments_len))))\n",
        "print('Медиана длины комментария: {} символов'.format(int(np.median(comments_len))))\n",
        "print('85% комментариев короче {} символов'.format(int(np.percentile(comments_len, 85))))"
      ],
      "execution_count": null,
      "outputs": [
        {
          "output_type": "stream",
          "text": [
            "Самый короткий комментарий: 6 символов\n",
            "Самый длинный комментарий: 5000 символов\n",
            "Средняя длина комментария: 394 символов\n",
            "Медиана длины комментария: 205 символов\n",
            "85% комментариев короче 663 символов\n"
          ],
          "name": "stdout"
        }
      ]
    },
    {
      "cell_type": "markdown",
      "metadata": {
        "id": "kkL7Qfp8r7cF"
      },
      "source": [
        "Отличаются ли средняя длина токсичного комментария и средняя длина положительного или нейтрального комментария?"
      ]
    },
    {
      "cell_type": "code",
      "metadata": {
        "id": "lhGhMGW4r7cF"
      },
      "source": [
        "comments['len'] = comments_len"
      ],
      "execution_count": null,
      "outputs": []
    },
    {
      "cell_type": "code",
      "metadata": {
        "colab": {
          "base_uri": "https://localhost:8080/"
        },
        "id": "jWcamAYar7cF",
        "outputId": "5752c01b-694e-4cb1-8828-622cf023c53c"
      },
      "source": [
        "print('Медиана длины токсичного комментария:', int(comments[comments.toxic == 1].len.median()))\n",
        "print('Медиана длины положительного или нейтрального комментария:', int(comments[comments.toxic == 0].len.median()))"
      ],
      "execution_count": null,
      "outputs": [
        {
          "output_type": "stream",
          "text": [
            "Медиана длины токсичного комментария: 128\n",
            "Медиана длины положительного или нейтрального комментария: 216\n"
          ],
          "name": "stdout"
        }
      ]
    },
    {
      "cell_type": "markdown",
      "metadata": {
        "id": "ADUX9dHjr7cG"
      },
      "source": [
        "В среднем, токсичные комментарии короче. Но модель на этом не построишь: необходимо обучить модель определять тональность текста.\n",
        "\n",
        "Сначала нужно очистить тексты от ненужных символов (знаков пунктуации) и стоп-слов (часто употребляемых слов, не несущих дополнительной смысловой нагрузки), а также лемматизировать слова (привести их к словарной форме).\n",
        "\n",
        "Напишем и применим функцию для предобработки текста:"
      ]
    },
    {
      "cell_type": "code",
      "metadata": {
        "id": "ahh7yd_Or7cH"
      },
      "source": [
        "lemmatizer = WordNetLemmatizer()"
      ],
      "execution_count": null,
      "outputs": []
    },
    {
      "cell_type": "code",
      "metadata": {
        "id": "9_ZzSNNur7cH"
      },
      "source": [
        "def preprocessing(text):\n",
        "    text = re.sub(r'[^a-zA-Z]', ' ', text)\n",
        "    text = text.lower()\n",
        "    tokens = word_tokenize(text)\n",
        "    text = [word for word in tokens if word not in stop_words]\n",
        "    text = [lemmatizer.lemmatize(word) for word in text]\n",
        "    text = ' '.join(text)\n",
        "    return text"
      ],
      "execution_count": null,
      "outputs": []
    },
    {
      "cell_type": "code",
      "metadata": {
        "id": "pA3qDn-Br7cH"
      },
      "source": [
        "comments['text'] = comments['text'].apply(lambda x: preprocessing(x))"
      ],
      "execution_count": null,
      "outputs": []
    },
    {
      "cell_type": "markdown",
      "metadata": {
        "id": "iSeiretLr7cI"
      },
      "source": [
        "Посмотрим, как выглядят тексты после предобработки:"
      ]
    },
    {
      "cell_type": "code",
      "metadata": {
        "colab": {
          "base_uri": "https://localhost:8080/",
          "height": 423
        },
        "id": "TNvd5NVnr7cI",
        "scrolled": true,
        "outputId": "4f1a1e52-3b4c-4498-b1a4-f4885f7dcd49"
      },
      "source": [
        "comments"
      ],
      "execution_count": null,
      "outputs": [
        {
          "output_type": "execute_result",
          "data": {
            "text/html": [
              "<div>\n",
              "<style scoped>\n",
              "    .dataframe tbody tr th:only-of-type {\n",
              "        vertical-align: middle;\n",
              "    }\n",
              "\n",
              "    .dataframe tbody tr th {\n",
              "        vertical-align: top;\n",
              "    }\n",
              "\n",
              "    .dataframe thead th {\n",
              "        text-align: right;\n",
              "    }\n",
              "</style>\n",
              "<table border=\"1\" class=\"dataframe\">\n",
              "  <thead>\n",
              "    <tr style=\"text-align: right;\">\n",
              "      <th></th>\n",
              "      <th>text</th>\n",
              "      <th>toxic</th>\n",
              "      <th>len</th>\n",
              "    </tr>\n",
              "  </thead>\n",
              "  <tbody>\n",
              "    <tr>\n",
              "      <th>0</th>\n",
              "      <td>explanation edits made username hardcore metal...</td>\n",
              "      <td>0</td>\n",
              "      <td>264</td>\n",
              "    </tr>\n",
              "    <tr>\n",
              "      <th>1</th>\n",
              "      <td>aww match background colour seemingly stuck th...</td>\n",
              "      <td>0</td>\n",
              "      <td>112</td>\n",
              "    </tr>\n",
              "    <tr>\n",
              "      <th>2</th>\n",
              "      <td>hey man really trying edit war guy constantly ...</td>\n",
              "      <td>0</td>\n",
              "      <td>233</td>\n",
              "    </tr>\n",
              "    <tr>\n",
              "      <th>3</th>\n",
              "      <td>make real suggestion improvement wondered sect...</td>\n",
              "      <td>0</td>\n",
              "      <td>622</td>\n",
              "    </tr>\n",
              "    <tr>\n",
              "      <th>4</th>\n",
              "      <td>sir hero chance remember page</td>\n",
              "      <td>0</td>\n",
              "      <td>67</td>\n",
              "    </tr>\n",
              "    <tr>\n",
              "      <th>...</th>\n",
              "      <td>...</td>\n",
              "      <td>...</td>\n",
              "      <td>...</td>\n",
              "    </tr>\n",
              "    <tr>\n",
              "      <th>159566</th>\n",
              "      <td>second time asking view completely contradicts...</td>\n",
              "      <td>0</td>\n",
              "      <td>295</td>\n",
              "    </tr>\n",
              "    <tr>\n",
              "      <th>159567</th>\n",
              "      <td>ashamed horrible thing put talk page</td>\n",
              "      <td>0</td>\n",
              "      <td>99</td>\n",
              "    </tr>\n",
              "    <tr>\n",
              "      <th>159568</th>\n",
              "      <td>spitzer umm there actual article prostitution ...</td>\n",
              "      <td>0</td>\n",
              "      <td>81</td>\n",
              "    </tr>\n",
              "    <tr>\n",
              "      <th>159569</th>\n",
              "      <td>look like actually put speedy first version de...</td>\n",
              "      <td>0</td>\n",
              "      <td>116</td>\n",
              "    </tr>\n",
              "    <tr>\n",
              "      <th>159570</th>\n",
              "      <td>really think understand came idea bad right aw...</td>\n",
              "      <td>0</td>\n",
              "      <td>189</td>\n",
              "    </tr>\n",
              "  </tbody>\n",
              "</table>\n",
              "<p>159571 rows × 3 columns</p>\n",
              "</div>"
            ],
            "text/plain": [
              "                                                     text  toxic  len\n",
              "0       explanation edits made username hardcore metal...      0  264\n",
              "1       aww match background colour seemingly stuck th...      0  112\n",
              "2       hey man really trying edit war guy constantly ...      0  233\n",
              "3       make real suggestion improvement wondered sect...      0  622\n",
              "4                           sir hero chance remember page      0   67\n",
              "...                                                   ...    ...  ...\n",
              "159566  second time asking view completely contradicts...      0  295\n",
              "159567               ashamed horrible thing put talk page      0   99\n",
              "159568  spitzer umm there actual article prostitution ...      0   81\n",
              "159569  look like actually put speedy first version de...      0  116\n",
              "159570  really think understand came idea bad right aw...      0  189\n",
              "\n",
              "[159571 rows x 3 columns]"
            ]
          },
          "metadata": {
            "tags": []
          },
          "execution_count": 12
        }
      ]
    },
    {
      "cell_type": "markdown",
      "metadata": {
        "id": "pR2eEg9Qr7cI"
      },
      "source": [
        "Теперь тексты относительно чистые и можно переходить к векторизации текстов и обучению моделей."
      ]
    },
    {
      "cell_type": "markdown",
      "metadata": {
        "id": "hhUUvCKvr7cJ"
      },
      "source": [
        "# Обучение и сравнение моделей"
      ]
    },
    {
      "cell_type": "code",
      "metadata": {
        "id": "goxFDyf3r7cJ"
      },
      "source": [
        "from sklearn.feature_extraction.text import TfidfVectorizer\n",
        "from sklearn.model_selection import train_test_split\n",
        "from sklearn.metrics import f1_score\n",
        "from sklearn.model_selection import GridSearchCV\n",
        "from sklearn.linear_model import LogisticRegression\n",
        "from lightgbm import LGBMClassifier\n",
        "from sklearn.linear_model import SGDClassifier\n",
        "from sklearn.metrics import confusion_matrix"
      ],
      "execution_count": null,
      "outputs": []
    },
    {
      "cell_type": "markdown",
      "metadata": {
        "id": "pNrUBqYvr7cK"
      },
      "source": [
        "Подготовим данные к обучению моделей машинного обучения.\n",
        "\n",
        "Сначала выделим признаки и целевой признак, разделим датасет на обучающую и тестовую выборки:"
      ]
    },
    {
      "cell_type": "code",
      "metadata": {
        "colab": {
          "base_uri": "https://localhost:8080/"
        },
        "id": "sa5iyE78r7cK",
        "outputId": "30ead975-2022-4a02-b310-f9a209bab962"
      },
      "source": [
        "X = comments.text\n",
        "y = comments.toxic\n",
        "X_train, X_test, y_train, y_test = train_test_split(X, y, test_size = 0.25, stratify = y, random_state = 123)\n",
        "X_train.shape, X_test.shape"
      ],
      "execution_count": null,
      "outputs": [
        {
          "output_type": "execute_result",
          "data": {
            "text/plain": [
              "((119678,), (39893,))"
            ]
          },
          "metadata": {
            "tags": []
          },
          "execution_count": 14
        }
      ]
    },
    {
      "cell_type": "markdown",
      "metadata": {
        "id": "M8jJGQPpr7cL"
      },
      "source": [
        "Чтобы модели машинного обучения могли работать с текстовыми данными, тексты необходимо перевести в векторный формат.\n",
        "\n",
        "Воспользуемся показателем TF-IDF, который учитывает частоту и уникальность слова в тексте по сравнению с корпусом текстов. Используем величины TF-IDF как признаки."
      ]
    },
    {
      "cell_type": "code",
      "metadata": {
        "id": "ED_W2P1tr7cM"
      },
      "source": [
        "tf_idf = TfidfVectorizer(ngram_range = (1, 2))\n",
        "X_train_tf = tf_idf.fit_transform(X_train)\n",
        "X_test_tf = tf_idf.transform(X_test)"
      ],
      "execution_count": null,
      "outputs": []
    },
    {
      "cell_type": "code",
      "metadata": {
        "colab": {
          "base_uri": "https://localhost:8080/"
        },
        "id": "rI6RnYaIr7cM",
        "outputId": "0c314158-8906-4acb-bad7-a85d6c97ab02"
      },
      "source": [
        "X_train_tf.shape, X_test_tf.shape"
      ],
      "execution_count": null,
      "outputs": [
        {
          "output_type": "execute_result",
          "data": {
            "text/plain": [
              "((119678, 2127103), (39893, 2127103))"
            ]
          },
          "metadata": {
            "tags": []
          },
          "execution_count": 16
        }
      ]
    },
    {
      "cell_type": "markdown",
      "metadata": {
        "id": "31WX9e5Kr7cM"
      },
      "source": [
        "Количество признаков получилось очень большим: в разы больше, чем количество наблюдений. \n",
        "\n",
        "Попробуем обучить несколько моделей и сравнить их показатели F1 score на обучающей и тестовой выборках."
      ]
    },
    {
      "cell_type": "markdown",
      "metadata": {
        "id": "Zmo4MEiFr7cN"
      },
      "source": [
        "### Модель LogisticRegression"
      ]
    },
    {
      "cell_type": "code",
      "metadata": {
        "colab": {
          "base_uri": "https://localhost:8080/"
        },
        "id": "MGxj-JTZr7cN",
        "scrolled": false,
        "outputId": "578c1d29-460b-4fd0-a40f-ca4d891a8854"
      },
      "source": [
        "%%time\n",
        "\n",
        "params = {'C': [1, 3, 5, 7]}\n",
        "logreg = LogisticRegression(class_weight = 'balanced', random_state = 123, max_iter = 5000)\n",
        "\n",
        "logreg_cv = GridSearchCV(logreg, param_grid = params, scoring = 'f1', cv=3)\n",
        "logreg_cv.fit(X_train_tf, y_train)\n",
        "\n",
        "print('Оптимальные параметры:', logreg_cv.best_params_)\n",
        "print('Лучший F1 score на кросс-валидации:', round(logreg_cv.best_score_, 4))\n",
        "\n",
        "logreg_cv_pred = logreg_cv.predict(X_test_tf)\n",
        "print('F1 score на тестовой выборке:', round(f1_score(y_test, logreg_cv_pred), 4))"
      ],
      "execution_count": null,
      "outputs": [
        {
          "output_type": "stream",
          "text": [
            "Оптимальные параметры: {'C': 7}\n",
            "Лучший F1 score на кросс-валидации: 0.7815\n",
            "F1 score на тестовой выборке: 0.7802\n",
            "CPU times: user 14min 1s, sys: 19min 16s, total: 33min 18s\n",
            "Wall time: 9min 35s\n"
          ],
          "name": "stdout"
        }
      ]
    },
    {
      "cell_type": "markdown",
      "metadata": {
        "id": "2meic-Uor7cN"
      },
      "source": [
        "Оптимальные параметры: {'C': 7}\n",
        "\n",
        "Лучший F1 score на кросс-валидации: 0.7815\n",
        "\n",
        "F1 score на тестовой выборке: 0.7802\n",
        "\n",
        "Wall time: 9min 49s"
      ]
    },
    {
      "cell_type": "markdown",
      "metadata": {
        "id": "XUlzj-fXr7cO"
      },
      "source": [
        "### Модель LGBMClassifier"
      ]
    },
    {
      "cell_type": "code",
      "metadata": {
        "colab": {
          "base_uri": "https://localhost:8080/"
        },
        "id": "eveZ5VmLr7cO",
        "scrolled": false,
        "outputId": "2e5c520a-ccbe-43dc-fb87-cb1ac1bed686"
      },
      "source": [
        "%%time\n",
        "\n",
        "params = {'n_estimators': [400, 500]}\n",
        "gbm = LGBMClassifier(class_weight = 'balanced', random_state = 123)\n",
        "\n",
        "gbm_cv = GridSearchCV(gbm, param_grid = params, scoring = 'f1', cv=3)\n",
        "gbm_cv.fit(X_train_tf, y_train)\n",
        "\n",
        "print('Оптимальные параметры:', gbm_cv.best_params_)\n",
        "print('Лучший F1 score на кросс-валидации:', round(gbm_cv.best_score_, 4))\n",
        "\n",
        "gbm_cv_pred = gbm_cv.predict(X_test_tf)\n",
        "print('F1 score на тестовой выборке:', round(f1_score(y_test, gbm_cv_pred), 4))"
      ],
      "execution_count": null,
      "outputs": [
        {
          "output_type": "stream",
          "text": [
            "Оптимальные параметры: {'n_estimators': 500}\n",
            "Лучший F1 score на кросс-валидации: 0.7581\n",
            "F1 score на тестовой выборке: 0.7656\n",
            "CPU times: user 1h 28s, sys: 3.89 s, total: 1h 32s\n",
            "Wall time: 15min 37s\n"
          ],
          "name": "stdout"
        }
      ]
    },
    {
      "cell_type": "markdown",
      "metadata": {
        "id": "YVurJ3DVr7cP"
      },
      "source": [
        "Оптимальные параметры: {'n_estimators': 500}\n",
        "\n",
        "Лучший F1 score на кросс-валидации: 0.7581\n",
        "\n",
        "F1 score на тестовой выборке: 0.7656\n",
        "\n",
        "Wall time: 15min 36s"
      ]
    },
    {
      "cell_type": "markdown",
      "metadata": {
        "id": "KNIc5jBdr7cP"
      },
      "source": [
        "### Модель SGDClassifier"
      ]
    },
    {
      "cell_type": "code",
      "metadata": {
        "colab": {
          "base_uri": "https://localhost:8080/"
        },
        "id": "UTACgwnor7cP",
        "scrolled": true,
        "outputId": "cd0f9ad2-29c2-4c0b-9243-a2c5d680f43c"
      },
      "source": [
        "%%time\n",
        "\n",
        "params = {'alpha': [0.00001, 0.0001, 0.001, 0.01, 0.1, 1, 10]}\n",
        "sgdc = SGDClassifier(class_weight = 'balanced', random_state = 123, max_iter = 5000)\n",
        "\n",
        "sgdc_cv = GridSearchCV(sgdc, param_grid = params, scoring = 'f1', cv=3)\n",
        "sgdc_cv.fit(X_train_tf, y_train)\n",
        "\n",
        "print('Оптимальные параметры:', sgdc_cv.best_params_)\n",
        "print('Лучший F1 score на кросс-валидации:', round(sgdc_cv.best_score_, 4))\n",
        "\n",
        "sgdc_cv_pred = sgdc_cv.predict(X_test_tf)\n",
        "print('F1 score на тестовой выборке:', round(f1_score(y_test, sgdc_cv_pred), 4))"
      ],
      "execution_count": null,
      "outputs": [
        {
          "output_type": "stream",
          "text": [
            "Оптимальные параметры: {'alpha': 1e-05}\n",
            "Лучший F1 score на кросс-валидации: 0.7797\n",
            "F1 score на тестовой выборке: 0.7842\n",
            "CPU times: user 13.8 s, sys: 11.8 s, total: 25.6 s\n",
            "Wall time: 11.6 s\n"
          ],
          "name": "stdout"
        }
      ]
    },
    {
      "cell_type": "markdown",
      "metadata": {
        "id": "WNr82cmQr7cQ"
      },
      "source": [
        "Оптимальные параметры: {'alpha': 1e-05}\n",
        "\n",
        "Лучший F1 score на кросс-валидации: 0.7797\n",
        "\n",
        "F1 score на тестовой выборке: 0.7842\n",
        "\n",
        "Wall time: 11.8 s"
      ]
    },
    {
      "cell_type": "markdown",
      "metadata": {
        "id": "k4eS2Hjlr7cQ"
      },
      "source": [
        "### Сравнение моделей"
      ]
    },
    {
      "cell_type": "markdown",
      "metadata": {
        "id": "dEu7oQItkD2L"
      },
      "source": [
        "Сравним показатели моделей:"
      ]
    },
    {
      "cell_type": "code",
      "metadata": {
        "colab": {
          "base_uri": "https://localhost:8080/",
          "height": 143
        },
        "id": "OBZWsc6er7cQ",
        "outputId": "796cb9b9-903a-4584-cb46-25f1f53ad025"
      },
      "source": [
        "pd.DataFrame([['LogisticRegression', 0.7815, 0.7802, '9min 49s'], ['LGBMClassifier', 0.7581, 0.7656, '15min 36s'], ['SGDClassifier', 0.7797, 0.7842, '11.8 s']], columns = ['Модель', 'F1 (cv)', 'F1 (test)', 'Время обучения'])"
      ],
      "execution_count": null,
      "outputs": [
        {
          "output_type": "execute_result",
          "data": {
            "text/html": [
              "<div>\n",
              "<style scoped>\n",
              "    .dataframe tbody tr th:only-of-type {\n",
              "        vertical-align: middle;\n",
              "    }\n",
              "\n",
              "    .dataframe tbody tr th {\n",
              "        vertical-align: top;\n",
              "    }\n",
              "\n",
              "    .dataframe thead th {\n",
              "        text-align: right;\n",
              "    }\n",
              "</style>\n",
              "<table border=\"1\" class=\"dataframe\">\n",
              "  <thead>\n",
              "    <tr style=\"text-align: right;\">\n",
              "      <th></th>\n",
              "      <th>Модель</th>\n",
              "      <th>F1 (cv)</th>\n",
              "      <th>F1 (test)</th>\n",
              "      <th>Время обучения</th>\n",
              "    </tr>\n",
              "  </thead>\n",
              "  <tbody>\n",
              "    <tr>\n",
              "      <th>0</th>\n",
              "      <td>LogisticRegression</td>\n",
              "      <td>0.7815</td>\n",
              "      <td>0.7802</td>\n",
              "      <td>9min 49s</td>\n",
              "    </tr>\n",
              "    <tr>\n",
              "      <th>1</th>\n",
              "      <td>LGBMClassifier</td>\n",
              "      <td>0.7581</td>\n",
              "      <td>0.7656</td>\n",
              "      <td>15min 36s</td>\n",
              "    </tr>\n",
              "    <tr>\n",
              "      <th>2</th>\n",
              "      <td>SGDClassifier</td>\n",
              "      <td>0.7797</td>\n",
              "      <td>0.7842</td>\n",
              "      <td>11.8 s</td>\n",
              "    </tr>\n",
              "  </tbody>\n",
              "</table>\n",
              "</div>"
            ],
            "text/plain": [
              "               Модель  F1 (cv)  F1 (test) Время обучения\n",
              "0  LogisticRegression   0.7815     0.7802       9min 49s\n",
              "1      LGBMClassifier   0.7581     0.7656      15min 36s\n",
              "2       SGDClassifier   0.7797     0.7842         11.8 s"
            ]
          },
          "metadata": {
            "tags": []
          },
          "execution_count": 20
        }
      ]
    },
    {
      "cell_type": "markdown",
      "metadata": {
        "id": "TpuudeBjr7cR"
      },
      "source": [
        "Оптимальное соотношение качества и скорости обучения показывает модель SGDClassifier: F1 0.7842 на тестовой выборке, модель обучается за несколько секунд."
      ]
    },
    {
      "cell_type": "markdown",
      "metadata": {
        "id": "Rll8uGhJr7cR"
      },
      "source": [
        "Посмотрим, где ошибается модель и насколько сильно:"
      ]
    },
    {
      "cell_type": "code",
      "metadata": {
        "colab": {
          "base_uri": "https://localhost:8080/"
        },
        "id": "dcA0zcNcr7cS",
        "outputId": "4911c9d9-a3a0-489f-c369-f846972db33d"
      },
      "source": [
        "y_test.value_counts()"
      ],
      "execution_count": null,
      "outputs": [
        {
          "output_type": "execute_result",
          "data": {
            "text/plain": [
              "0    35837\n",
              "1     4056\n",
              "Name: toxic, dtype: int64"
            ]
          },
          "metadata": {
            "tags": []
          },
          "execution_count": 21
        }
      ]
    },
    {
      "cell_type": "code",
      "metadata": {
        "colab": {
          "base_uri": "https://localhost:8080/",
          "height": 112
        },
        "id": "9tsqHc77r7cS",
        "outputId": "8c154f95-ae19-47d6-8bb0-22318ad5a6b6"
      },
      "source": [
        "pd.DataFrame(confusion_matrix(y_test, sgdc_cv_pred), index = ['true_Normal', 'true_Toxic'], columns = ['pred_Normal', 'pred_Toxic'])"
      ],
      "execution_count": null,
      "outputs": [
        {
          "output_type": "execute_result",
          "data": {
            "text/html": [
              "<div>\n",
              "<style scoped>\n",
              "    .dataframe tbody tr th:only-of-type {\n",
              "        vertical-align: middle;\n",
              "    }\n",
              "\n",
              "    .dataframe tbody tr th {\n",
              "        vertical-align: top;\n",
              "    }\n",
              "\n",
              "    .dataframe thead th {\n",
              "        text-align: right;\n",
              "    }\n",
              "</style>\n",
              "<table border=\"1\" class=\"dataframe\">\n",
              "  <thead>\n",
              "    <tr style=\"text-align: right;\">\n",
              "      <th></th>\n",
              "      <th>pred_Normal</th>\n",
              "      <th>pred_Toxic</th>\n",
              "    </tr>\n",
              "  </thead>\n",
              "  <tbody>\n",
              "    <tr>\n",
              "      <th>true_Normal</th>\n",
              "      <td>34885</td>\n",
              "      <td>952</td>\n",
              "    </tr>\n",
              "    <tr>\n",
              "      <th>true_Toxic</th>\n",
              "      <td>826</td>\n",
              "      <td>3230</td>\n",
              "    </tr>\n",
              "  </tbody>\n",
              "</table>\n",
              "</div>"
            ],
            "text/plain": [
              "             pred_Normal  pred_Toxic\n",
              "true_Normal        34885         952\n",
              "true_Toxic           826        3230"
            ]
          },
          "metadata": {
            "tags": []
          },
          "execution_count": 22
        }
      ]
    },
    {
      "cell_type": "markdown",
      "metadata": {
        "id": "PtrVXdJkr7cT"
      },
      "source": [
        "Модель ошибочно определила 952 положительных или нейтральных комментариев как токсичные, а 826 токсичных комментариев ошибочно отнесла к нормальным."
      ]
    },
    {
      "cell_type": "markdown",
      "metadata": {
        "id": "Nc0dd35ir7cT"
      },
      "source": [
        "# BERT"
      ]
    },
    {
      "cell_type": "markdown",
      "metadata": {
        "id": "fFRV2LcGr7cT"
      },
      "source": [
        "Попробуем обучить модели на эмбеддингах, учитывающих смысл и контекст слов. Используем нейронную сеть BERT, предобученную на большом корпусе англоязычных текстов."
      ]
    },
    {
      "cell_type": "code",
      "metadata": {
        "id": "zRwtoh8hr7cU"
      },
      "source": [
        "from tqdm import notebook\n",
        "import torch\n",
        "!pip install transformers\n",
        "import transformers"
      ],
      "execution_count": null,
      "outputs": []
    },
    {
      "cell_type": "markdown",
      "metadata": {
        "id": "xI6vR9t5r7cU"
      },
      "source": [
        "Импортируем предобученную модель BertModel для создания признаков:"
      ]
    },
    {
      "cell_type": "code",
      "metadata": {
        "id": "AL78Lq_-r7cU",
        "scrolled": true
      },
      "source": [
        "model_class, tokenizer_class, pretrained_weights = (transformers.BertModel, \\\n",
        "                            transformers.BertTokenizer, 'bert-base-uncased')"
      ],
      "execution_count": null,
      "outputs": []
    },
    {
      "cell_type": "code",
      "metadata": {
        "id": "gvTOALWsr7cU"
      },
      "source": [
        "tokenizer = tokenizer_class.from_pretrained(pretrained_weights)\n",
        "model = model_class.from_pretrained(pretrained_weights)"
      ],
      "execution_count": null,
      "outputs": []
    },
    {
      "cell_type": "markdown",
      "metadata": {
        "id": "4ugvYXr4r7cV"
      },
      "source": [
        "Подготовим данные:"
      ]
    },
    {
      "cell_type": "code",
      "metadata": {
        "id": "TBTK1gHKr7cV"
      },
      "source": [
        "vikishop = pd.read_csv('/content/drive/MyDrive/toxic_comments.csv')"
      ],
      "execution_count": null,
      "outputs": []
    },
    {
      "cell_type": "code",
      "metadata": {
        "id": "guLwvw5er7cV"
      },
      "source": [
        "vikishop['text'] = vikishop['text'].map(lambda x: re.sub(r'[^a-zA-Z.,!?:;]', ' ', x))"
      ],
      "execution_count": null,
      "outputs": []
    },
    {
      "cell_type": "code",
      "metadata": {
        "colab": {
          "base_uri": "https://localhost:8080/"
        },
        "id": "QcYtNiHTr7cV",
        "outputId": "666d7ae7-6b1f-4d59-fe7a-2fb0d6331a70"
      },
      "source": [
        "X_train, X_test, y_train, y_test = train_test_split(vikishop['text'], vikishop['toxic'], test_size = 0.15, stratify = vikishop['toxic'], random_state = 123)\n",
        "X_train.shape, X_test.shape"
      ],
      "execution_count": null,
      "outputs": [
        {
          "output_type": "execute_result",
          "data": {
            "text/plain": [
              "((135635,), (23936,))"
            ]
          },
          "metadata": {
            "tags": []
          },
          "execution_count": 28
        }
      ]
    },
    {
      "cell_type": "markdown",
      "metadata": {
        "id": "Wdh8F0aUr7cW"
      },
      "source": [
        "Проверим, что в полученных выборках доля токсичных комментариев такая же, как в исходном датасете (около 10%):"
      ]
    },
    {
      "cell_type": "code",
      "metadata": {
        "colab": {
          "base_uri": "https://localhost:8080/"
        },
        "id": "pOnhqH7_r7cW",
        "outputId": "c551e5b7-335d-4d33-d51f-0b25a6cc581f"
      },
      "source": [
        "round(y_train.mean(), 4), round(y_test.mean(), 4)"
      ],
      "execution_count": null,
      "outputs": [
        {
          "output_type": "execute_result",
          "data": {
            "text/plain": [
              "(0.1017, 0.1017)"
            ]
          },
          "metadata": {
            "tags": []
          },
          "execution_count": 29
        }
      ]
    },
    {
      "cell_type": "code",
      "metadata": {
        "id": "D7f6estur7cW",
        "scrolled": true
      },
      "source": [
        "# токенизируем тренировочную выборку\n",
        "tokenized = X_train.apply(lambda x: \\\n",
        "                                tokenizer.encode(x, add_special_tokens=True, truncation = True))"
      ],
      "execution_count": null,
      "outputs": []
    },
    {
      "cell_type": "code",
      "metadata": {
        "colab": {
          "base_uri": "https://localhost:8080/"
        },
        "id": "DfVlSnWQr7cY",
        "outputId": "c5284781-00c5-47fa-b288-e0367a74b88c"
      },
      "source": [
        "# применим padding к векторам (приведем длины всех векторов к максимальной длине 512)\n",
        "pad_vectors = np.array([i + [0]*(512 - len(i)) for i in tokenized.values])\n",
        "pad_vectors.shape"
      ],
      "execution_count": null,
      "outputs": [
        {
          "output_type": "execute_result",
          "data": {
            "text/plain": [
              "(135635, 512)"
            ]
          },
          "metadata": {
            "tags": []
          },
          "execution_count": 31
        }
      ]
    },
    {
      "cell_type": "code",
      "metadata": {
        "colab": {
          "base_uri": "https://localhost:8080/"
        },
        "id": "nzX0mhnYr7cY",
        "outputId": "33b8362e-4954-4610-904d-7b073ac8b12d"
      },
      "source": [
        "# создадим маску для важных токенов (укажем модели, какие токены нужно учитывать)\n",
        "attention_mask = np.where(pad_vectors != 0, 1, 0)\n",
        "attention_mask.shape"
      ],
      "execution_count": null,
      "outputs": [
        {
          "output_type": "execute_result",
          "data": {
            "text/plain": [
              "(135635, 512)"
            ]
          },
          "metadata": {
            "tags": []
          },
          "execution_count": 32
        }
      ]
    },
    {
      "cell_type": "markdown",
      "metadata": {
        "id": "d3fuSUZlr7cY"
      },
      "source": [
        "Сгенерируем эмбеддинги и сохраним их в переменную `features`."
      ]
    },
    {
      "cell_type": "code",
      "metadata": {
        "colab": {
          "background_save": true
        },
        "id": "aIlD1N2xr7ch"
      },
      "source": [
        "%%time\n",
        "batch_size = 100\n",
        "embeddings = [] \n",
        "for i in notebook.tqdm(range(pad_vectors.shape[0] // batch_size)):\n",
        "        batch = torch.LongTensor(pad_vectors[batch_size * i : batch_size * (i + 1)]).cuda()\n",
        "        attention_mask_batch = torch.LongTensor(attention_mask[batch_size * i : batch_size * (i + 1)]).cuda()\n",
        "        \n",
        "        with torch.no_grad():\n",
        "            model.cuda()\n",
        "            batch_embeddings = model(batch, attention_mask = attention_mask_batch)\n",
        "        \n",
        "        embeddings.append(batch_embeddings[0][:,0,:].cpu().numpy())\n",
        "        \n",
        "        del batch\n",
        "        del attention_mask_batch\n",
        "        del batch_embeddings\n",
        "        \n",
        "features = np.concatenate(embeddings)"
      ],
      "execution_count": null,
      "outputs": []
    },
    {
      "cell_type": "code",
      "metadata": {
        "id": "CxNrcMKoIhV8"
      },
      "source": [
        "target = y_train[:len(features)]"
      ],
      "execution_count": 34,
      "outputs": []
    },
    {
      "cell_type": "markdown",
      "metadata": {
        "id": "ZIWyoNAir7cb"
      },
      "source": [
        "Повторим процедуру для тестовой выборки:"
      ]
    },
    {
      "cell_type": "code",
      "metadata": {
        "id": "_jhnRMtar7cb"
      },
      "source": [
        "# токенизируем тестовую выборку\n",
        "tok_test = X_test.apply(lambda x: \\\n",
        "                        tokenizer.encode(x, add_special_tokens=True, truncation = True))"
      ],
      "execution_count": 36,
      "outputs": []
    },
    {
      "cell_type": "code",
      "metadata": {
        "id": "1rVd16BQr7cc"
      },
      "source": [
        "# применим padding к векторам (приведем длины всех векторов к максимальной длине 512)\n",
        "pad_test = np.array([i + [0]*(512 - len(i)) for i in tok_test.values])\n",
        "# создадим маску для важных токенов (укажем модели, какие токены нужно учитывать)\n",
        "attention_test = np.where(pad_test != 0, 1, 0)"
      ],
      "execution_count": 37,
      "outputs": []
    },
    {
      "cell_type": "code",
      "metadata": {
        "id": "YmNc60kNr7cc"
      },
      "source": [
        "# # создадим эмбеддинги, используя тензоры (многомерные векторы)\n",
        "batch_size = 100\n",
        "embeddings = []\n",
        "\n",
        "for i in notebook.tqdm(range(pad_test.shape[0] // batch_size)):\n",
        "  batch = torch.LongTensor(pad_test[batch_size * i : batch_size * (i + 1)]).cuda()\n",
        "  attention_mask_batch = torch.LongTensor(attention_test[batch_size * i : batch_size * (i + 1)]).cuda()\n",
        "  \n",
        "  with torch.no_grad():\n",
        "    model.cuda()\n",
        "    batch_embeddings = model(batch, attention_mask = attention_mask_batch)\n",
        "  embeddings.append(batch_embeddings[0][:,0,:].cpu().numpy())\n",
        "\n",
        "  del batch\n",
        "  del attention_mask_batch\n",
        "  del batch_embeddings\n",
        "\n",
        "test = np.concatenate(embeddings)"
      ],
      "execution_count": null,
      "outputs": []
    },
    {
      "cell_type": "code",
      "metadata": {
        "id": "GpbvkmmzKx5Y"
      },
      "source": [
        "target_test = y_test[:len(test)]"
      ],
      "execution_count": 39,
      "outputs": []
    },
    {
      "cell_type": "markdown",
      "metadata": {
        "id": "jsfBYYCTr7ch"
      },
      "source": [
        "Обучим те же модели, что и в прошлый раз, на этот раз на эмбеддингах BERT."
      ]
    },
    {
      "cell_type": "markdown",
      "metadata": {
        "id": "VhDE1tQIr7ch"
      },
      "source": [
        "### Модель LogisticRegression"
      ]
    },
    {
      "cell_type": "code",
      "metadata": {
        "id": "6rTiifsur7ci",
        "colab": {
          "base_uri": "https://localhost:8080/"
        },
        "outputId": "387ce83b-c21c-472a-e390-fcae27bed128"
      },
      "source": [
        "%%time\n",
        "\n",
        "params = {'C': [1, 3, 5, 7]}\n",
        "logreg = LogisticRegression(random_state = 123, max_iter = 5000)\n",
        "\n",
        "logreg_cv = GridSearchCV(logreg, param_grid = params, scoring = 'f1', cv=3)\n",
        "logreg_cv.fit(features, target)\n",
        "\n",
        "print('Оптимальные параметры:', logreg_cv.best_params_)\n",
        "print('Лучший F1 score на кросс-валидации:', round(logreg_cv.best_score_, 4))\n",
        "\n",
        "logreg_cv_pred = logreg_cv.predict(test)\n",
        "print('F1 score на тестовой выборке:', round(f1_score(target_test, logreg_cv_pred), 4))"
      ],
      "execution_count": 48,
      "outputs": [
        {
          "output_type": "stream",
          "text": [
            "Оптимальные параметры: {'C': 3}\n",
            "Лучший F1 score на кросс-валидации: 0.7361\n",
            "F1 score на тестовой выборке: 0.7199\n",
            "CPU times: user 27min 9s, sys: 4min 15s, total: 31min 25s\n",
            "Wall time: 7min 58s\n"
          ],
          "name": "stdout"
        }
      ]
    },
    {
      "cell_type": "markdown",
      "metadata": {
        "id": "2l25r64Zr7ci"
      },
      "source": [
        "Оптимальные параметры: {'C': 3}\n",
        "\n",
        "Лучший F1 score на кросс-валидации: 0.7361\n",
        "\n",
        "F1 score на тестовой выборке: 0.7199\n",
        "\n",
        "Wall time: 7min 58s"
      ]
    },
    {
      "cell_type": "markdown",
      "metadata": {
        "id": "IbuNtyS4r7ci"
      },
      "source": [
        "### Модель LGBMClassifier"
      ]
    },
    {
      "cell_type": "code",
      "metadata": {
        "id": "kFE3C6_5r7cj",
        "colab": {
          "base_uri": "https://localhost:8080/"
        },
        "outputId": "62ffdd03-4ce0-4f24-d1b6-84cefef4be01"
      },
      "source": [
        "%%time\n",
        "\n",
        "params = {'n_estimators': [400, 500]}\n",
        "gbm = LGBMClassifier(random_state = 123)\n",
        "\n",
        "gbm_cv = GridSearchCV(gbm, param_grid = params, scoring = 'f1', cv=3)\n",
        "gbm_cv.fit(features, target)\n",
        "\n",
        "print('Оптимальные параметры:', gbm_cv.best_params_)\n",
        "print('Лучший F1 score на кросс-валидации:', round(gbm_cv.best_score_, 4))\n",
        "\n",
        "gbm_cv_pred = gbm_cv.predict(test)\n",
        "print('F1 score на тестовой выборке:', round(f1_score(target_test, gbm_cv_pred), 4))"
      ],
      "execution_count": 47,
      "outputs": [
        {
          "output_type": "stream",
          "text": [
            "Оптимальные параметры: {'n_estimators': 500}\n",
            "Лучший F1 score на кросс-валидации: 0.6999\n",
            "F1 score на тестовой выборке: 0.7064\n",
            "CPU times: user 49min 38s, sys: 8.21 s, total: 49min 46s\n",
            "Wall time: 13min 4s\n"
          ],
          "name": "stdout"
        }
      ]
    },
    {
      "cell_type": "markdown",
      "metadata": {
        "id": "h1WB-ElTr7cj"
      },
      "source": [
        "Оптимальные параметры: {'n_estimators': 500}\n",
        "\n",
        "Лучший F1 score на кросс-валидации: 0.6999\n",
        "\n",
        "F1 score на тестовой выборке: 0.7064\n",
        "\n",
        "Wall time: 13min 4s"
      ]
    },
    {
      "cell_type": "markdown",
      "metadata": {
        "id": "34cL9aKOr7cj"
      },
      "source": [
        "### Модель SGDClassifier"
      ]
    },
    {
      "cell_type": "code",
      "metadata": {
        "id": "fvqIRwwHr7ck",
        "scrolled": true,
        "colab": {
          "base_uri": "https://localhost:8080/"
        },
        "outputId": "056db1ba-bb28-4233-d4fc-a5a5978445f4"
      },
      "source": [
        "%%time\n",
        "\n",
        "params = {'alpha': [0.00001, 0.0001, 0.001, 0.01, 0.1, 1, 10]}\n",
        "sgdc = SGDClassifier(random_state = 123, max_iter = 5000)\n",
        "\n",
        "sgdc_cv = GridSearchCV(sgdc, param_grid = params, scoring = 'f1', cv=3)\n",
        "sgdc_cv.fit(features, target)\n",
        "\n",
        "print('Оптимальные параметры:', sgdc_cv.best_params_)\n",
        "print('Лучший F1 score на кросс-валидации:', round(sgdc_cv.best_score_, 4))\n",
        "\n",
        "sgdc_cv_pred = sgdc_cv.predict(test)\n",
        "print('F1 score на тестовой выборке:', round(f1_score(target_test, sgdc_cv_pred), 4))"
      ],
      "execution_count": 46,
      "outputs": [
        {
          "output_type": "stream",
          "text": [
            "Оптимальные параметры: {'alpha': 0.001}\n",
            "Лучший F1 score на кросс-валидации: 0.7128\n",
            "F1 score на тестовой выборке: 0.7152\n",
            "CPU times: user 1min 31s, sys: 7.12 s, total: 1min 38s\n",
            "Wall time: 1min 30s\n"
          ],
          "name": "stdout"
        }
      ]
    },
    {
      "cell_type": "markdown",
      "metadata": {
        "id": "GrbOZ6W-r7ck"
      },
      "source": [
        "Оптимальные параметры: {'alpha': 0.001}\n",
        "\n",
        "Лучший F1 score на кросс-валидации: 0.7128\n",
        "\n",
        "F1 score на тестовой выборке: 0.7152\n",
        "\n",
        "Wall time: 1min 30s"
      ]
    },
    {
      "cell_type": "markdown",
      "metadata": {
        "id": "SNSxFUQor7ck"
      },
      "source": [
        "### Сравнение моделей"
      ]
    },
    {
      "cell_type": "code",
      "metadata": {
        "id": "KBugtQnfr7ck",
        "colab": {
          "base_uri": "https://localhost:8080/",
          "height": 143
        },
        "outputId": "3b1b27b1-56aa-4841-ac76-58f87e7ea036"
      },
      "source": [
        "pd.DataFrame([['LogisticRegression', 0.7361, 0.7199, '7min 58s'], ['LGBMClassifier', 0.6999, 0.7064, '13min 4s'], ['SGDClassifier', 0.7128, 0.7152, '1min 30s']], columns = ['Модель', 'F1 (cv)', 'F1 (test)', 'Время обучения'])"
      ],
      "execution_count": 49,
      "outputs": [
        {
          "output_type": "execute_result",
          "data": {
            "text/html": [
              "<div>\n",
              "<style scoped>\n",
              "    .dataframe tbody tr th:only-of-type {\n",
              "        vertical-align: middle;\n",
              "    }\n",
              "\n",
              "    .dataframe tbody tr th {\n",
              "        vertical-align: top;\n",
              "    }\n",
              "\n",
              "    .dataframe thead th {\n",
              "        text-align: right;\n",
              "    }\n",
              "</style>\n",
              "<table border=\"1\" class=\"dataframe\">\n",
              "  <thead>\n",
              "    <tr style=\"text-align: right;\">\n",
              "      <th></th>\n",
              "      <th>Модель</th>\n",
              "      <th>F1 (cv)</th>\n",
              "      <th>F1 (test)</th>\n",
              "      <th>Время обучения</th>\n",
              "    </tr>\n",
              "  </thead>\n",
              "  <tbody>\n",
              "    <tr>\n",
              "      <th>0</th>\n",
              "      <td>LogisticRegression</td>\n",
              "      <td>0.7361</td>\n",
              "      <td>0.7199</td>\n",
              "      <td>7min 58s</td>\n",
              "    </tr>\n",
              "    <tr>\n",
              "      <th>1</th>\n",
              "      <td>LGBMClassifier</td>\n",
              "      <td>0.6999</td>\n",
              "      <td>0.7064</td>\n",
              "      <td>13min 4s</td>\n",
              "    </tr>\n",
              "    <tr>\n",
              "      <th>2</th>\n",
              "      <td>SGDClassifier</td>\n",
              "      <td>0.7128</td>\n",
              "      <td>0.7152</td>\n",
              "      <td>1min 30s</td>\n",
              "    </tr>\n",
              "  </tbody>\n",
              "</table>\n",
              "</div>"
            ],
            "text/plain": [
              "               Модель  F1 (cv)  F1 (test) Время обучения\n",
              "0  LogisticRegression   0.7361     0.7199       7min 58s\n",
              "1      LGBMClassifier   0.6999     0.7064       13min 4s\n",
              "2       SGDClassifier   0.7128     0.7152       1min 30s"
            ]
          },
          "metadata": {
            "tags": []
          },
          "execution_count": 49
        }
      ]
    },
    {
      "cell_type": "markdown",
      "metadata": {
        "id": "rJWERdaxr7cl"
      },
      "source": [
        "Модели, обученные на эмбеддингах BERT, показывают результат заметно хуже, чем модели, обученные на TF-IDF. Ни одна модель не показала нужный результат (F1 0.75 и выше)."
      ]
    },
    {
      "cell_type": "markdown",
      "metadata": {
        "id": "2JpwudZYr7cp"
      },
      "source": [
        "# Выводы"
      ]
    },
    {
      "cell_type": "markdown",
      "metadata": {
        "id": "rhRIfGFor7cp"
      },
      "source": [
        "- Проведена предобработка текстов для использования в моделях машинного обучения: очищение от ненужных символов, удаление стоп-слов, изменение регистра, токенизация, лемматизация и векторизация.\n",
        "\n",
        "\n",
        "- Использованы два способа векторизации текстов: 1) на основе показателя TF-IDF, 2) с использованием эмбеддингов, сформированных с помощью предобученной нейронной сети BERT.\n",
        "\n",
        "\n",
        "- Обучены разные модели, подобраны гиперпараметры на кросс-валидации для повышения метрики качества F1 score.\n",
        "\n",
        "\n",
        "- Наилучшие результаты показали модели, обученные на признаках TF-IDF. \n",
        "\n",
        "\n",
        "- Модели, обученные на эмбеддингах предобученной модели BERT, не достигли минимального целевого показателя F1 0.75 (максимальный F1, которого удалось достичь, 0.72).\n",
        "\n",
        "\n",
        "- Наилучший результат по качеству и скорости обучения показала модель SGDClassifier, обученная на признаках TF-IDF: F1 0.7842 на тестовой выборке, время обучения около 12 сек."
      ]
    },
    {
      "cell_type": "code",
      "metadata": {
        "id": "2qigr0D3Tzrq"
      },
      "source": [
        ""
      ],
      "execution_count": null,
      "outputs": []
    }
  ]
}
